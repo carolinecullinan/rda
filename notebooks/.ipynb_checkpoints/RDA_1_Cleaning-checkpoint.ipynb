{
 "cells": [
  {
   "cell_type": "markdown",
   "id": "6f6ebbdf",
   "metadata": {},
   "source": [
    "## RDA Quantitative Data Analysis Assessment: 1 CLEANING"
   ]
  },
  {
   "cell_type": "markdown",
   "id": "2175eca6",
   "metadata": {},
   "source": [
    "#### Prompt\n",
    "\n",
    "The behavioral health department of a medium-sized county has contracted RDA to evaluate their Substance Use Detox Program. The behavioral health department has noticed that clients seem to be staying longer than expected. As a member of this project team, you are tasked with analyzing the data to <b>explore whether certain groups of people are staying in the Substance Use Detox Program longer than expected (i.e., longer than five days).</b>\n",
    "\n",
    "The client has sent RDA Substance Use Detox Program data for everyone they served in fiscal year 2015-2016. Each row represents a program enrollment, and a person can be enrolled multiple times in the same year. The Substance Use Detox Program data is on the \"Detox\" tab (i.e., purple tab) of this spreadsheet and the associated data dictionary is on the \"Data Dictionary\" tab (i.e., blue tab). Fortunately, this client always gets you clean data (yay!) so you don't need to worry about cleaning the data. We would like you to use this dataset to complete the following tasks:\n",
    "\n",
    "<b>Part I. Please analyze the Substance Use Detox Program data to explore whether certain groups of people are staying in the Substance Use Detox Program longer than expected (i.e., longer than five days).</b>\n",
    "\n",
    "Part II. Develop a brief PowerPoint (or similar) presentation (no longer than 8-12 minutes of presentation time) for the client that includes an introduction, methods, and summary of key findings and recommendations (including recommended next steps for data collection and analyses). Keep in mind that the client does not have a technical/research background. You may include any graphs or tables you think would be helpful for the client, and you may use any software you are comfortable with for the analysis. "
   ]
  },
  {
   "cell_type": "markdown",
   "id": "6c64e037",
   "metadata": {},
   "source": [
    "#### 31/03/2023 at 9:08 CEST\n",
    "* Read in RDA Assessment 2015-2016 \"Substance Use Detox Program\" data\n",
    "* Clean data\n",
    "* Export processed data"
   ]
  },
  {
   "cell_type": "code",
   "execution_count": 1,
   "id": "47408ca7",
   "metadata": {},
   "outputs": [],
   "source": [
    "# import necessary packages\n",
    "import os\n",
    "import numpy as np\n",
    "import pandas as pd\n",
    "from datetime import datetime"
   ]
  },
  {
   "cell_type": "code",
   "execution_count": 2,
   "id": "fc27017b",
   "metadata": {},
   "outputs": [
    {
     "name": "stdout",
     "output_type": "stream",
     "text": [
      "Directory Changes\n",
      "Current working directory is: C:\\Users\\Carol\\Documents\\Work\\WorkOpportunities\\RDAConsulting\\analysis\n"
     ]
    }
   ],
   "source": [
    "# change working directory to a specified directory\n",
    "os.chdir('../')\n",
    "print(\"Directory Changes\")\n",
    "\n",
    "# Get current working directory\n",
    "cwd = os.getcwd()\n",
    "print(\"Current working directory is:\", cwd)"
   ]
  },
  {
   "cell_type": "markdown",
   "id": "e7520bee",
   "metadata": {},
   "source": [
    "### 0. Preparation "
   ]
  },
  {
   "cell_type": "code",
   "execution_count": 3,
   "id": "b4430e04",
   "metadata": {},
   "outputs": [],
   "source": [
    "# read in raw 'RDA_Assessment_2023.csv' data\n",
    "data_raw = pd.read_csv(\"data/raw/RDA_Assessment_2023.csv\")"
   ]
  },
  {
   "cell_type": "code",
   "execution_count": 4,
   "id": "2a30bf1a",
   "metadata": {},
   "outputs": [
    {
     "data": {
      "text/plain": [
       "(702, 11)"
      ]
     },
     "execution_count": 4,
     "metadata": {},
     "output_type": "execute_result"
    }
   ],
   "source": [
    "# gain insight into 'data_raw'\n",
    "data_raw.shape \n",
    "\n",
    "# 'data_raw' has 702 entries, i.e., 702 people (i.e., patients) in the fiscal year (assume US fiscal year: October 1 - September 30 of next \n",
    "    ## calender year) who were seeking treatment"
   ]
  },
  {
   "cell_type": "code",
   "execution_count": 5,
   "id": "532da34e",
   "metadata": {},
   "outputs": [
    {
     "data": {
      "text/html": [
       "<div>\n",
       "<style scoped>\n",
       "    .dataframe tbody tr th:only-of-type {\n",
       "        vertical-align: middle;\n",
       "    }\n",
       "\n",
       "    .dataframe tbody tr th {\n",
       "        vertical-align: top;\n",
       "    }\n",
       "\n",
       "    .dataframe thead th {\n",
       "        text-align: right;\n",
       "    }\n",
       "</style>\n",
       "<table border=\"1\" class=\"dataframe\">\n",
       "  <thead>\n",
       "    <tr style=\"text-align: right;\">\n",
       "      <th></th>\n",
       "      <th>Client_ID</th>\n",
       "      <th>Age</th>\n",
       "      <th>Gender</th>\n",
       "      <th>Race</th>\n",
       "      <th>Disability</th>\n",
       "      <th>Program Enrollment</th>\n",
       "      <th>Primary Substance at Enrollment</th>\n",
       "      <th>Frequency of Primary Substance at Enrollment</th>\n",
       "      <th>Program Exit Date</th>\n",
       "      <th>Primary Substance at Exit</th>\n",
       "      <th>Frequency of Primary Substance at Exit</th>\n",
       "    </tr>\n",
       "  </thead>\n",
       "  <tbody>\n",
       "    <tr>\n",
       "      <th>697</th>\n",
       "      <td>123586119</td>\n",
       "      <td>20</td>\n",
       "      <td>male</td>\n",
       "      <td>White</td>\n",
       "      <td>No</td>\n",
       "      <td>04/12/2015</td>\n",
       "      <td>alcohol</td>\n",
       "      <td>30</td>\n",
       "      <td>04/01/2016</td>\n",
       "      <td>alcohol</td>\n",
       "      <td>0</td>\n",
       "    </tr>\n",
       "    <tr>\n",
       "      <th>698</th>\n",
       "      <td>123586129</td>\n",
       "      <td>63</td>\n",
       "      <td>female</td>\n",
       "      <td>White</td>\n",
       "      <td>No</td>\n",
       "      <td>10/11/2015</td>\n",
       "      <td>alcohol</td>\n",
       "      <td>30</td>\n",
       "      <td>11/12/2015</td>\n",
       "      <td>alcohol</td>\n",
       "      <td>0</td>\n",
       "    </tr>\n",
       "    <tr>\n",
       "      <th>699</th>\n",
       "      <td>123586142</td>\n",
       "      <td>57</td>\n",
       "      <td>male</td>\n",
       "      <td>White</td>\n",
       "      <td>Yes</td>\n",
       "      <td>28/02/2016</td>\n",
       "      <td>alcohol</td>\n",
       "      <td>2</td>\n",
       "      <td>01/04/2016</td>\n",
       "      <td>alcohol</td>\n",
       "      <td>0</td>\n",
       "    </tr>\n",
       "    <tr>\n",
       "      <th>700</th>\n",
       "      <td>123586143</td>\n",
       "      <td>32</td>\n",
       "      <td>male</td>\n",
       "      <td>White</td>\n",
       "      <td>No</td>\n",
       "      <td>06/05/2016</td>\n",
       "      <td>methamphetamine</td>\n",
       "      <td>1</td>\n",
       "      <td>09/06/2016</td>\n",
       "      <td>methamphetamine</td>\n",
       "      <td>0</td>\n",
       "    </tr>\n",
       "    <tr>\n",
       "      <th>701</th>\n",
       "      <td>123586144</td>\n",
       "      <td>52</td>\n",
       "      <td>male</td>\n",
       "      <td>Hispanic</td>\n",
       "      <td>No</td>\n",
       "      <td>12/05/2016</td>\n",
       "      <td>alcohol</td>\n",
       "      <td>1</td>\n",
       "      <td>21/07/2016</td>\n",
       "      <td>alcohol</td>\n",
       "      <td>0</td>\n",
       "    </tr>\n",
       "  </tbody>\n",
       "</table>\n",
       "</div>"
      ],
      "text/plain": [
       "     Client_ID  Age  Gender      Race Disability Program Enrollment  \\\n",
       "697  123586119   20    male     White         No         04/12/2015   \n",
       "698  123586129   63  female     White         No         10/11/2015   \n",
       "699  123586142   57    male     White        Yes         28/02/2016   \n",
       "700  123586143   32    male     White         No         06/05/2016   \n",
       "701  123586144   52    male  Hispanic         No         12/05/2016   \n",
       "\n",
       "    Primary Substance at Enrollment  \\\n",
       "697                         alcohol   \n",
       "698                         alcohol   \n",
       "699                         alcohol   \n",
       "700                 methamphetamine   \n",
       "701                         alcohol   \n",
       "\n",
       "     Frequency of Primary Substance at Enrollment Program Exit Date  \\\n",
       "697                                            30        04/01/2016   \n",
       "698                                            30        11/12/2015   \n",
       "699                                             2        01/04/2016   \n",
       "700                                             1        09/06/2016   \n",
       "701                                             1        21/07/2016   \n",
       "\n",
       "    Primary Substance at Exit  Frequency of Primary Substance at Exit  \n",
       "697                   alcohol                                       0  \n",
       "698                   alcohol                                       0  \n",
       "699                   alcohol                                       0  \n",
       "700           methamphetamine                                       0  \n",
       "701                   alcohol                                       0  "
      ]
     },
     "execution_count": 5,
     "metadata": {},
     "output_type": "execute_result"
    }
   ],
   "source": [
    "# gain insight into 'data_raw'\n",
    "data_raw.tail()"
   ]
  },
  {
   "cell_type": "code",
   "execution_count": 6,
   "id": "9c755d07",
   "metadata": {},
   "outputs": [
    {
     "name": "stdout",
     "output_type": "stream",
     "text": [
      "Index(['Client_ID', 'Age', 'Gender', 'Race', 'Disability',\n",
      "       'Program Enrollment', 'Primary Substance at Enrollment',\n",
      "       'Frequency of Primary Substance at Enrollment', 'Program Exit Date',\n",
      "       'Primary Substance at Exit', 'Frequency of Primary Substance at Exit'],\n",
      "      dtype='object')\n"
     ]
    }
   ],
   "source": [
    "# get column names in 'data_raw' df\n",
    "print(data_raw.columns)\n",
    "\n",
    "# rename columns in 'data_raw' df\n",
    "data_raw.columns = ['client_id', 'age', 'gender', 'race', 'disability', \n",
    "               'start_date', 'start_substance', 'start_freq', 'exit_date', \n",
    "               'exit_substance', 'exit_freq']"
   ]
  },
  {
   "cell_type": "code",
   "execution_count": 7,
   "id": "d907e880",
   "metadata": {},
   "outputs": [
    {
     "data": {
      "text/plain": [
       "702"
      ]
     },
     "execution_count": 7,
     "metadata": {},
     "output_type": "execute_result"
    }
   ],
   "source": [
    "# check for recurring instances of 'client_id', to see if any patients have had to enroll in treatment more than once\n",
    "data_raw['client_id'].nunique() \n",
    "\n",
    "# 702 unique 'client_id's and 702 rows - therefore, there are not any patients who have enrolled in the program multiple times"
   ]
  },
  {
   "cell_type": "markdown",
   "id": "72064efa",
   "metadata": {},
   "source": [
    "### 1. Adding / Subtracting Data Columns"
   ]
  },
  {
   "cell_type": "markdown",
   "id": "89f4c66a",
   "metadata": {},
   "source": [
    "#### 1.1 Client ID Privacy Concerns"
   ]
  },
  {
   "cell_type": "code",
   "execution_count": 8,
   "id": "2f651782",
   "metadata": {},
   "outputs": [],
   "source": [
    "# drop'client_id' from 'data_raw' to make a new df, 'data', to eliminate privacy concerns for online data tools\n",
    "data = data_raw.drop(['client_id'], axis=1)"
   ]
  },
  {
   "cell_type": "markdown",
   "id": "8b0c6872",
   "metadata": {},
   "source": [
    "#### 1.2 Treatment Days"
   ]
  },
  {
   "cell_type": "code",
   "execution_count": 9,
   "id": "8857fd89",
   "metadata": {},
   "outputs": [],
   "source": [
    "# convert 'start_date' and 'exit_date' columns to datetime objects\n",
    "data['start_date'] = pd.to_datetime(data['start_date'], format = \"%d/%m/%Y\")\n",
    "data['exit_date'] = pd.to_datetime(data['exit_date'], format = \"%d/%m/%Y\")"
   ]
  },
  {
   "cell_type": "code",
   "execution_count": 10,
   "id": "ba252b30",
   "metadata": {},
   "outputs": [],
   "source": [
    "# calculate 'treatment_days' from 'start_date' and 'exit_date' info\n",
    "data['treatment_days'] = data['exit_date'] - data['start_date']\n",
    "data['treatment_days'] = data['treatment_days'].dt.days.astype('int16')\n",
    "\n",
    "# if 'treatment_days' == 0, add 1 (to represent that this patient actually spent \n",
    "    ## a single day in treatment technically, not 0 days)\n",
    "data.loc[data['treatment_days'] == 0, 'treatment_days'] = 1"
   ]
  },
  {
   "cell_type": "markdown",
   "id": "ee3f55c7",
   "metadata": {},
   "source": [
    "#### 1.3 Relative Substance Use Frequency & Changes in Relative Substance Use"
   ]
  },
  {
   "cell_type": "code",
   "execution_count": 11,
   "id": "10608c41",
   "metadata": {},
   "outputs": [],
   "source": [
    "# calculate relative substance use frequency for 'start_freq','exit_freq', 'change_freq' for a 30 day period\n",
    "data['start_freq_relative'] = (data['start_freq'] / 30 ) * 100\n",
    "data['exit_freq_relative'] = (data['exit_freq'] / 30 ) * 100"
   ]
  },
  {
   "cell_type": "code",
   "execution_count": 12,
   "id": "5e49af93",
   "metadata": {},
   "outputs": [],
   "source": [
    "# calculate change in substance use frequency, \"change_freq\"\n",
    "data['change_freq'] = data['exit_freq'] - data['start_freq']"
   ]
  },
  {
   "cell_type": "code",
   "execution_count": 13,
   "id": "23f0367a",
   "metadata": {},
   "outputs": [],
   "source": [
    "# calculate relative change in substance use frequency (i.e., percent change) 'change_freq_relative' and percent point \n",
    "    ## change (i.e., percentage point change) in substance use frequency, 'change_freq_pctpt'\n",
    "data['change_freq_relative'] = ((data['exit_freq_relative'] - data['start_freq_relative']) / data['start_freq_relative']) * 100\n",
    "data['change_freq_pctpt'] = data['exit_freq_relative'] - data['start_freq_relative']"
   ]
  },
  {
   "cell_type": "markdown",
   "id": "4cc6a551",
   "metadata": {},
   "source": [
    "#### 1.4 Patient Start Month & Date"
   ]
  },
  {
   "cell_type": "code",
   "execution_count": 14,
   "id": "ce2cda52",
   "metadata": {},
   "outputs": [],
   "source": [
    "# create a column, 'start_year_month' that outlines each program enrollment instance's (i.e., patient's) month and year of enrollment\n",
    "data['start_year_month'] = data.apply(lambda row: str(row['start_date'])[:7], axis=1)"
   ]
  },
  {
   "cell_type": "markdown",
   "id": "954df53f",
   "metadata": {},
   "source": [
    "#### 1.5 Patient Age Group"
   ]
  },
  {
   "cell_type": "code",
   "execution_count": 15,
   "id": "663d6cae",
   "metadata": {},
   "outputs": [],
   "source": [
    "# create function, 'getAgeGroup' that takes each program enrollment instance (i.e., patient) and categorizes it into an age group\n",
    "def getAgeGroup(ageValue):\n",
    "    age = int(ageValue)\n",
    "    group = 0\n",
    "    \n",
    "    if age <= 30:\n",
    "        group = '20-30' \n",
    "    elif age > 30 and age < 51:\n",
    "        group = '31-50'\n",
    "    elif age > 50 and age < 71:\n",
    "        group = '51-70'\n",
    "    else:\n",
    "        group = '71-100'\n",
    "    return group"
   ]
  },
  {
   "cell_type": "code",
   "execution_count": 16,
   "id": "4cc4df0d",
   "metadata": {},
   "outputs": [],
   "source": [
    "# apply 'getAgeGroup' function to 'data' to make new column, 'age_group'\n",
    "data['age_group'] = data['age'].apply(lambda row: getAgeGroup(row))"
   ]
  },
  {
   "cell_type": "markdown",
   "id": "cc03a5a4",
   "metadata": {},
   "source": [
    "#### 1.5 Patient BIPOC / Not BIPOC Group"
   ]
  },
  {
   "cell_type": "code",
   "execution_count": 17,
   "id": "1d262d56",
   "metadata": {},
   "outputs": [],
   "source": [
    "# create a new function, 'getBIPOC' that determines whether each program enrollment instance (i.e. patient) is either:\n",
    "    ## 'BIPOC' (i.e., Black, Indigenous, and people of color [i.e., not white])\n",
    "    ## 'white' (i.e., not BIPOC)\n",
    "def getBipoc(bipocValue):\n",
    "    bipoc = bipocValue\n",
    "    group = 0\n",
    "\n",
    "    if bipoc == 'White':\n",
    "             group = 'white'\n",
    "    else:\n",
    "             group = 'BIPOC'\n",
    "    return group"
   ]
  },
  {
   "cell_type": "code",
   "execution_count": 18,
   "id": "98cbb7f8",
   "metadata": {},
   "outputs": [],
   "source": [
    "# apply 'getBipoc' function to 'data' to make new column, 'race_general'\n",
    "data['race_general'] = data['race'].apply(lambda row: getBipoc(row))"
   ]
  },
  {
   "cell_type": "markdown",
   "id": "77540190",
   "metadata": {},
   "source": [
    "#### 1.6 Patient Success"
   ]
  },
  {
   "cell_type": "code",
   "execution_count": 19,
   "id": "31bba28e",
   "metadata": {},
   "outputs": [],
   "source": [
    "# create a new function, 'getProgramSuccess' that determines whether each program enrollment instance (i.e. patient) was either \n",
    "    ## 'successful' or 'not successful', where: \n",
    "        ## 'successful' = change in relative frequency of substance use is negative, (i.e., less than 0)\n",
    "        ## 'not successful' = change in relative frequency of substance use is 0 or positive (i.e., NOT negative)\n",
    "def getProgramSuccess(successValue):\n",
    "    success = int(successValue)\n",
    "    group = 0\n",
    "  \n",
    "    if success < 0:\n",
    "             group = 'successful'\n",
    "    else:\n",
    "             group = 'not successful'\n",
    "    return group"
   ]
  },
  {
   "cell_type": "code",
   "execution_count": 20,
   "id": "cdd6dab0",
   "metadata": {},
   "outputs": [],
   "source": [
    "# apply 'getProgramSuccess' function to 'data' to create new column, 'program_success'\n",
    "data['program_success'] = data['change_freq_relative'].apply(lambda row: getProgramSuccess(row))"
   ]
  },
  {
   "cell_type": "markdown",
   "id": "3a726bd2",
   "metadata": {},
   "source": [
    "#### 1.7 Program Enrollment Lasting <= 5 Days vs > 5 Days"
   ]
  },
  {
   "cell_type": "code",
   "execution_count": 21,
   "id": "ee713da6",
   "metadata": {},
   "outputs": [],
   "source": [
    "# create a new function, 'inquireTargetEnrollment' that determines whether each program enrollment instance (i.e., patient) either met the \n",
    "    ## target number of enrollment days (i.e., spent 5 or less days in treatment) or not (i.e., spent 6 days or more in treatment)\n",
    "def inquireTargetEnrollment(enrollementValue):\n",
    "    enrollment = int(enrollementValue)\n",
    "    group = 0\n",
    "  \n",
    "    if enrollment <= 5:\n",
    "             group = '<= 5 days'\n",
    "    else:\n",
    "             group = '> 5 days'\n",
    "    return group"
   ]
  },
  {
   "cell_type": "code",
   "execution_count": 22,
   "id": "d51352ef",
   "metadata": {},
   "outputs": [],
   "source": [
    "# apply 'inquireTargetEnrollment' function to 'data' to create new column, 'enrollment_v_target'\n",
    "data['enrollment_v_target'] = data['treatment_days'].apply(lambda row: inquireTargetEnrollment(row))"
   ]
  },
  {
   "cell_type": "code",
   "execution_count": 23,
   "id": "f792f5b0",
   "metadata": {},
   "outputs": [],
   "source": [
    "# create df, 'data_le5' for program enrollment instances (i.e., pateients) that require less than or equal to 5 days of treatment \n",
    "    ## (i.e., less than  6 days of treatment)\n",
    "data_le5 = data.loc[data['treatment_days'] <= 5]\n",
    "\n",
    "# create df, 'data_g5' for program enrollment instances (i.e., patients) that require greater than 5 days of treatment\n",
    "data_g5 = data.loc[data['treatment_days'] > 5]"
   ]
  },
  {
   "cell_type": "markdown",
   "id": "896893cb",
   "metadata": {},
   "source": [
    "### 2. Further Data Preparation"
   ]
  },
  {
   "cell_type": "markdown",
   "id": "8d59fbba",
   "metadata": {},
   "source": [
    "#### 2.1 Patient Success AND Program Enrollment Lasting <= 5 Days "
   ]
  },
  {
   "cell_type": "code",
   "execution_count": 24,
   "id": "44d2ac2f",
   "metadata": {},
   "outputs": [],
   "source": [
    "# create a new df, 'data_s5', which outlines where program enrollment instances (i.e., patients) where BOTH successful \n",
    "    ## AND in program for less than 6 days\n",
    "data_s5 = data[(data['program_success'] == 'successful') & (data['enrollment_v_target'] == '<= 5 days')]"
   ]
  },
  {
   "cell_type": "markdown",
   "id": "f0aa88e8",
   "metadata": {},
   "source": [
    "#### 2.2 Increase in Substance Use Relative Frequency"
   ]
  },
  {
   "cell_type": "code",
   "execution_count": 25,
   "id": "7742474a",
   "metadata": {},
   "outputs": [],
   "source": [
    "# subset data and make a new df, 'data_if' (i.e., increase frequency) for where program enrollment instances (i.e., patients) \n",
    "    ## result in an increase in substance use relative frequency (instead of decrease of substance use)\n",
    "data_if = data[(data['change_freq_relative'] > 0)]"
   ]
  },
  {
   "cell_type": "markdown",
   "id": "f7701086",
   "metadata": {},
   "source": [
    "#### 2.3 Start-Subtstance vs. End-Substance Change"
   ]
  },
  {
   "cell_type": "code",
   "execution_count": 26,
   "id": "1f1471c6",
   "metadata": {},
   "outputs": [],
   "source": [
    "# create new column, 'change_substance', to identify if program enrollment instances (i.e., patients) changed \n",
    "    ## their primary substance of frequency or not\n",
    "data.loc[data['start_substance'] == data['exit_substance'], 'change_substance'] = False\n",
    "data.loc[data['start_substance'] != data['exit_substance'], 'change_substance'] = True"
   ]
  },
  {
   "cell_type": "code",
   "execution_count": 27,
   "id": "f200e175",
   "metadata": {},
   "outputs": [
    {
     "data": {
      "text/plain": [
       "False    681\n",
       "True      21\n",
       "Name: change_substance, dtype: int64"
      ]
     },
     "execution_count": 27,
     "metadata": {},
     "output_type": "execute_result"
    }
   ],
   "source": [
    "# identify if any program enrollment instances (i.e., patients) changed their primary substance of use or not\n",
    "data['change_substance'].value_counts() # 21 patients changed their primary use of substance"
   ]
  },
  {
   "cell_type": "code",
   "execution_count": 28,
   "id": "6f1b064d",
   "metadata": {},
   "outputs": [],
   "source": [
    "# create new df, 'data_cs' (i.e., change substance) which outlines program enrollment instances (i.e., patients) where there\n",
    "    ## was a change in primary substance of use\n",
    "data_cs = data[data['change_substance']] \n",
    "\n",
    "# NOTE: point of interest for future research - try to understand better why these patients have changed substances"
   ]
  },
  {
   "cell_type": "markdown",
   "id": "c42da0cb",
   "metadata": {},
   "source": [
    "#### 2.4 Increase in Substance Use Relative Frequency AND A Change in Primary Substance of Use"
   ]
  },
  {
   "cell_type": "code",
   "execution_count": 29,
   "id": "528b7214",
   "metadata": {},
   "outputs": [],
   "source": [
    "# make new df, 'data_if_cs' by subsetting data for where program enrollment instances (i.e., patients) result in an increase in substance\n",
    "    ## use relative frequency (instead of decrease of substance use) AND a change in substance use\n",
    "data_if_cs = data[(data['change_freq_relative'] > 0) & (data['change_substance'] == True)]"
   ]
  },
  {
   "cell_type": "markdown",
   "id": "7d1735f0",
   "metadata": {},
   "source": [
    "#### 2.5 Data GroupBy "
   ]
  },
  {
   "cell_type": "code",
   "execution_count": null,
   "id": "01841ec5",
   "metadata": {},
   "outputs": [],
   "source": [
    "# # group data by different demographic characteristics and 'start_year_month' for future time series analysis\n",
    "# mean_race_month = data.groupby(['race', 'start_year_month']).mean().reset_index()\n",
    "# mean_gender_month = data.groupby(['gender', 'start_year_month']).mean().reset_index()\n",
    "# mean_disability_month = data.groupby(['disability', 'start_year_month']).mean().reset_index()\n",
    "# mean_start_substance_month = data.groupby(['start_substance', 'start_year_month']).mean().reset_index()\n",
    "# mean_exit_substance_month = data.groupby(['exit_substance', 'start_year_month']).mean().reset_index()\n",
    "# mean_age_group_month = data.groupby(['age_group', 'start_year_month']).mean().reset_index()\n",
    "# mean_program_success_month = data.groupby(['program_success', 'start_year_month']).mean().reset_index()\n",
    "# mean_enrollment_v_target_month = data.groupby(['enrollment_v_target', 'start_year_month']).mean().reset_index()"
   ]
  },
  {
   "cell_type": "code",
   "execution_count": null,
   "id": "6b4fad63",
   "metadata": {},
   "outputs": [],
   "source": [
    "# # find mean number of days in treatment for different demographic groups\n",
    "# race_avgdays_ps = data.groupby(['race','program_success']).mean()[['treatment_days']].reset_index()\n",
    "# gender_avgdays_ps = data.groupby(['gender','program_success']).mean()[['treatment_days']].reset_index()\n",
    "# disability_avgdays_ps = data.groupby(['disability','program_success']).mean()[['treatment_days']].reset_index()\n",
    "# start_substance_avgdays_ps = data.groupby(['start_substance','program_success']).mean()[['treatment_days']].reset_index()\n",
    "# exit_substance_avgdays_ps = data.groupby(['exit_substance','program_success']).mean()[['treatment_days']].reset_index()\n",
    "# start_year_month_avgdays_ps = data.groupby(['start_year_month','program_success']).mean()[['treatment_days']].reset_index()\n",
    "# age_group_avgdays_ps = data.groupby(['age_group','program_success']).mean()[['treatment_days']].reset_index()\n",
    "# enrollment_v_target_avgdays_ps = data.groupby(['enrollment_v_target','program_success']).mean()[['treatment_days']].reset_index()"
   ]
  },
  {
   "cell_type": "code",
   "execution_count": null,
   "id": "ec0a9d30",
   "metadata": {},
   "outputs": [],
   "source": [
    "# # find mean number of 'treatment_days', 'start_freq_relative', 'exit_freq_relative', and 'change_freq_relative' taking into account all demographic groups\n",
    "# ad_avg_days = data.groupby(['age_group', 'gender', 'race', 'disability', 'start_substance', 'exit_substance', 'start_year_month', 'program_success', \n",
    "#               'enrollment_v_target']).mean()[['treatment_days']].reset_index()\n",
    "# ad_avg_start_freq_relative = data.groupby(['age_group', 'gender', 'race', 'disability', 'start_substance', 'exit_substance', 'start_year_month', 'program_success', \n",
    "#               'enrollment_v_target']).mean()[['start_freq_relative']].reset_index()\n",
    "# ad_avg_exit_freq_relative = data.groupby(['age_group', 'gender', 'race', 'disability', 'start_substance', 'exit_substance', 'start_year_month', 'program_success', \n",
    "#               'enrollment_v_target']).mean()[['exit_freq_relative']].reset_index()\n",
    "# ad_avg_change_freq_relative = data.groupby(['age_group', 'gender', 'race', 'disability', 'start_substance', 'exit_substance', 'start_year_month', 'program_success', \n",
    "#               'enrollment_v_target']).mean()[['change_freq_relative']].reset_index()"
   ]
  },
  {
   "cell_type": "code",
   "execution_count": null,
   "id": "fafa23b2",
   "metadata": {},
   "outputs": [],
   "source": [
    "# # find mean of all continous variables while taking into account all demographic groups\n",
    "# ad_mean = data.groupby(['age_group', 'gender', 'race', 'disability', 'start_substance', 'exit_substance', 'start_year_month', 'program_success', \n",
    "#               'enrollment_v_target']).mean().reset_index()"
   ]
  },
  {
   "cell_type": "code",
   "execution_count": null,
   "id": "de4cc3dc",
   "metadata": {},
   "outputs": [],
   "source": [
    "# # test data_race_time_days experiment for plotting in Observable\n",
    "# data_race_time_days = data.groupby(['race', 'start_year_month']).mean().reset_index()[['race', 'start_year_month', 'treatment_days']]#['African American'] ##.reset_index()\n",
    "# data_race_time_days['start_year_month'] = pd.to_datetime(data_race_time_days['start_year_month']+\"-01\")\n",
    "# sns.lineplot(data=data_race_time_days, x='start_year_month', y='treatment_days', hue='race')"
   ]
  },
  {
   "cell_type": "markdown",
   "id": "38f94f0a",
   "metadata": {},
   "source": [
    "### 2.6 Prepared Data for Export"
   ]
  },
  {
   "cell_type": "code",
   "execution_count": 31,
   "id": "d7a066a0",
   "metadata": {},
   "outputs": [],
   "source": [
    "# write 'data_le5' (i.e., data about patients who spent less than 6 days [i.e., less than or equal to 5 days] in program) to a csv\n",
    "data_le5.to_csv('data/interim/data_le5.csv', encoding ='utf-8', index = False)\n",
    "\n",
    "# write 'data_g5' (i.e., data about patients who spent greater 5 days [i.e., 6 days or more] in program) to a csv\n",
    "data_g5.to_csv('data/interim/data_l5.csv', encoding ='utf-8', index = False)\n",
    "\n",
    "# write 'data_s5' (i.e., data about patients who were successful in their treatment program and who spent less than 6 days \n",
    "    ## [i.e., 5 days or less] in program) to a csv\n",
    "data_s5.to_csv('data/interim/data_s5.csv', encoding ='utf-8', index = False)\n",
    "\n",
    "# write 'data_if' (i.e., data about patients who increased their relative frequency of substance use (instead of decreased their substance use) \n",
    "    ## to a csv\n",
    "data_if.to_csv('data/interim/data_if.csv', encoding = 'utf-8', index = False)\n",
    "\n",
    "# write 'data_cs' (i.e., data about patients who changed their primary substance of use) to a csv\n",
    "data_cs.to_csv('data/interim/data_cs.csv', encoding = 'utf-8', index = False)\n",
    "\n",
    "# write 'data_if_cs' (i.e., data about patients who BOTH increased their relative frequency of substance use AND changed their primary substance\n",
    "    ## of use) to a csv\n",
    "data_if_cs.to_csv('data/interim/data_if_cs.csv', encoding='utf-8', index=False)\n",
    "\n",
    "# write 'data' (i.e., data about all patients) to a csv\n",
    "data.to_csv('data/interim/data.csv', encoding = 'utf-8', index = False)"
   ]
  }
 ],
 "metadata": {
  "kernelspec": {
   "display_name": "Python 3",
   "language": "python",
   "name": "python3"
  },
  "language_info": {
   "codemirror_mode": {
    "name": "ipython",
    "version": 3
   },
   "file_extension": ".py",
   "mimetype": "text/x-python",
   "name": "python",
   "nbconvert_exporter": "python",
   "pygments_lexer": "ipython3",
   "version": "3.7.3"
  }
 },
 "nbformat": 4,
 "nbformat_minor": 5
}
