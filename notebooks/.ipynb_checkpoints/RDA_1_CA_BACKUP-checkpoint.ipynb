{
 "cells": [
  {
   "cell_type": "markdown",
   "id": "79d7b74f",
   "metadata": {},
   "source": [
    "## RDA Quantitative Data Analysis Assessment: 1 CLEANING"
   ]
  },
  {
   "cell_type": "markdown",
   "id": "1aea12de",
   "metadata": {},
   "source": [
    "#### Prompt\n",
    "\n",
    "The behavioral health department of a medium-sized county has contracted RDA to evaluate their Substance Use Detox Program. The behavioral health department has noticed that clients seem to be staying longer than expected. As a member of this project team, you are tasked with analyzing the data to <b>explore whether certain groups of people are staying in the Substance Use Detox Program longer than expected (i.e., longer than five days).</b>\n",
    "\n",
    "The client has sent RDA Substance Use Detox Program data for everyone they served in fiscal year 2015-2016. Each row represents a program enrollment, and a person can be enrolled multiple times in the same year. The Substance Use Detox Program data is on the \"Detox\" tab (i.e., purple tab) of this spreadsheet and the associated data dictionary is on the \"Data Dictionary\" tab (i.e., blue tab). Fortunately, this client always gets you clean data (yay!) so you don't need to worry about cleaning the data. We would like you to use this dataset to complete the following tasks:\n",
    "\n",
    "<b>Part I. Please analyze the Substance Use Detox Program data to explore whether certain groups of people are staying in the Substance Use Detox Program longer than expected (i.e., longer than five days).</b>\n",
    "\n",
    "Part II. Develop a brief PowerPoint (or similar) presentation (no longer than 8-12 minutes of presentation time) for the client that includes an introduction, methods, and summary of key findings and recommendations (including recommended next steps for data collection and analyses). Keep in mind that the client does not have a technical/research background. You may include any graphs or tables you think would be helpful for the client, and you may use any software you are comfortable with for the analysis. "
   ]
  },
  {
   "cell_type": "markdown",
   "id": "dd533566",
   "metadata": {},
   "source": [
    "#### 31/03/2023 at 9:08 CEST\n",
    "* Read in RDA Assessment 2015-2016 \"Substance Use Detox Program\" data\n",
    "* Clean data\n",
    "* Export processed data"
   ]
  },
  {
   "cell_type": "code",
   "execution_count": 1,
   "id": "33a3567a",
   "metadata": {},
   "outputs": [],
   "source": [
    "# import necessary packages\n",
    "import os\n",
    "import numpy as np\n",
    "import pandas as pd\n",
    "from datetime import datetime"
   ]
  },
  {
   "cell_type": "code",
   "execution_count": 2,
   "id": "84f03b4c",
   "metadata": {},
   "outputs": [
    {
     "name": "stdout",
     "output_type": "stream",
     "text": [
      "Directory Changes\n",
      "Current working directory is: C:\\Users\\Carol\\Documents\\Work\\WorkOpportunities\\RDAConsulting\\analysis\n"
     ]
    }
   ],
   "source": [
    "# change working directory to a specified directory\n",
    "os.chdir('../')\n",
    "print(\"Directory Changes\")\n",
    "\n",
    "# Get current working directory\n",
    "cwd = os.getcwd()\n",
    "print(\"Current working directory is:\", cwd)"
   ]
  },
  {
   "cell_type": "markdown",
   "id": "f01e38ba",
   "metadata": {},
   "source": [
    "### 0. Preparation "
   ]
  },
  {
   "cell_type": "code",
   "execution_count": 3,
   "id": "321b9d26",
   "metadata": {},
   "outputs": [],
   "source": [
    "# read in raw 'RDA_Assessment_2023.csv' data\n",
    "data_raw = pd.read_csv(\"data/raw/RDA_Assessment_2023.csv\")"
   ]
  },
  {
   "cell_type": "code",
   "execution_count": 4,
   "id": "d2672930",
   "metadata": {},
   "outputs": [
    {
     "data": {
      "text/plain": [
       "(702, 11)"
      ]
     },
     "execution_count": 4,
     "metadata": {},
     "output_type": "execute_result"
    }
   ],
   "source": [
    "# gain insight into 'data_raw'\n",
    "data_raw.shape \n",
    "\n",
    "# 'data_raw' has 702 entries, i.e., 702 people (i.e., patients) in the fiscal year (assume US fiscal year: October 1 - September 30 of next \n",
    "    ## calender year) who were seeking treatment"
   ]
  },
  {
   "cell_type": "code",
   "execution_count": 5,
   "id": "aa2de358",
   "metadata": {},
   "outputs": [
    {
     "data": {
      "text/html": [
       "<div>\n",
       "<style scoped>\n",
       "    .dataframe tbody tr th:only-of-type {\n",
       "        vertical-align: middle;\n",
       "    }\n",
       "\n",
       "    .dataframe tbody tr th {\n",
       "        vertical-align: top;\n",
       "    }\n",
       "\n",
       "    .dataframe thead th {\n",
       "        text-align: right;\n",
       "    }\n",
       "</style>\n",
       "<table border=\"1\" class=\"dataframe\">\n",
       "  <thead>\n",
       "    <tr style=\"text-align: right;\">\n",
       "      <th></th>\n",
       "      <th>Client_ID</th>\n",
       "      <th>Age</th>\n",
       "      <th>Gender</th>\n",
       "      <th>Race</th>\n",
       "      <th>Disability</th>\n",
       "      <th>Program Enrollment</th>\n",
       "      <th>Primary Substance at Enrollment</th>\n",
       "      <th>Frequency of Primary Substance at Enrollment</th>\n",
       "      <th>Program Exit Date</th>\n",
       "      <th>Primary Substance at Exit</th>\n",
       "      <th>Frequency of Primary Substance at Exit</th>\n",
       "    </tr>\n",
       "  </thead>\n",
       "  <tbody>\n",
       "    <tr>\n",
       "      <th>697</th>\n",
       "      <td>123586119</td>\n",
       "      <td>20</td>\n",
       "      <td>male</td>\n",
       "      <td>White</td>\n",
       "      <td>No</td>\n",
       "      <td>04/12/2015</td>\n",
       "      <td>alcohol</td>\n",
       "      <td>30</td>\n",
       "      <td>04/01/2016</td>\n",
       "      <td>alcohol</td>\n",
       "      <td>0</td>\n",
       "    </tr>\n",
       "    <tr>\n",
       "      <th>698</th>\n",
       "      <td>123586129</td>\n",
       "      <td>63</td>\n",
       "      <td>female</td>\n",
       "      <td>White</td>\n",
       "      <td>No</td>\n",
       "      <td>10/11/2015</td>\n",
       "      <td>alcohol</td>\n",
       "      <td>30</td>\n",
       "      <td>11/12/2015</td>\n",
       "      <td>alcohol</td>\n",
       "      <td>0</td>\n",
       "    </tr>\n",
       "    <tr>\n",
       "      <th>699</th>\n",
       "      <td>123586142</td>\n",
       "      <td>57</td>\n",
       "      <td>male</td>\n",
       "      <td>White</td>\n",
       "      <td>Yes</td>\n",
       "      <td>28/02/2016</td>\n",
       "      <td>alcohol</td>\n",
       "      <td>2</td>\n",
       "      <td>01/04/2016</td>\n",
       "      <td>alcohol</td>\n",
       "      <td>0</td>\n",
       "    </tr>\n",
       "    <tr>\n",
       "      <th>700</th>\n",
       "      <td>123586143</td>\n",
       "      <td>32</td>\n",
       "      <td>male</td>\n",
       "      <td>White</td>\n",
       "      <td>No</td>\n",
       "      <td>06/05/2016</td>\n",
       "      <td>methamphetamine</td>\n",
       "      <td>1</td>\n",
       "      <td>09/06/2016</td>\n",
       "      <td>methamphetamine</td>\n",
       "      <td>0</td>\n",
       "    </tr>\n",
       "    <tr>\n",
       "      <th>701</th>\n",
       "      <td>123586144</td>\n",
       "      <td>52</td>\n",
       "      <td>male</td>\n",
       "      <td>Hispanic</td>\n",
       "      <td>No</td>\n",
       "      <td>12/05/2016</td>\n",
       "      <td>alcohol</td>\n",
       "      <td>1</td>\n",
       "      <td>21/07/2016</td>\n",
       "      <td>alcohol</td>\n",
       "      <td>0</td>\n",
       "    </tr>\n",
       "  </tbody>\n",
       "</table>\n",
       "</div>"
      ],
      "text/plain": [
       "     Client_ID  Age  Gender      Race Disability Program Enrollment  \\\n",
       "697  123586119   20    male     White         No         04/12/2015   \n",
       "698  123586129   63  female     White         No         10/11/2015   \n",
       "699  123586142   57    male     White        Yes         28/02/2016   \n",
       "700  123586143   32    male     White         No         06/05/2016   \n",
       "701  123586144   52    male  Hispanic         No         12/05/2016   \n",
       "\n",
       "    Primary Substance at Enrollment  \\\n",
       "697                         alcohol   \n",
       "698                         alcohol   \n",
       "699                         alcohol   \n",
       "700                 methamphetamine   \n",
       "701                         alcohol   \n",
       "\n",
       "     Frequency of Primary Substance at Enrollment Program Exit Date  \\\n",
       "697                                            30        04/01/2016   \n",
       "698                                            30        11/12/2015   \n",
       "699                                             2        01/04/2016   \n",
       "700                                             1        09/06/2016   \n",
       "701                                             1        21/07/2016   \n",
       "\n",
       "    Primary Substance at Exit  Frequency of Primary Substance at Exit  \n",
       "697                   alcohol                                       0  \n",
       "698                   alcohol                                       0  \n",
       "699                   alcohol                                       0  \n",
       "700           methamphetamine                                       0  \n",
       "701                   alcohol                                       0  "
      ]
     },
     "execution_count": 5,
     "metadata": {},
     "output_type": "execute_result"
    }
   ],
   "source": [
    "# gain insight into 'data_raw'\n",
    "data_raw.tail()"
   ]
  },
  {
   "cell_type": "code",
   "execution_count": 6,
   "id": "2d57ac77",
   "metadata": {},
   "outputs": [
    {
     "name": "stdout",
     "output_type": "stream",
     "text": [
      "Index(['Client_ID', 'Age', 'Gender', 'Race', 'Disability',\n",
      "       'Program Enrollment', 'Primary Substance at Enrollment',\n",
      "       'Frequency of Primary Substance at Enrollment', 'Program Exit Date',\n",
      "       'Primary Substance at Exit', 'Frequency of Primary Substance at Exit'],\n",
      "      dtype='object')\n"
     ]
    }
   ],
   "source": [
    "# get column names in 'data_raw' df\n",
    "print(data_raw.columns)\n",
    "\n",
    "# rename columns in 'data_raw' df\n",
    "data_raw.columns = ['client_id', 'age', 'gender', 'race', 'disability', \n",
    "               'start_date', 'start_substance', 'start_freq', 'exit_date', \n",
    "               'exit_substance', 'exit_freq']"
   ]
  },
  {
   "cell_type": "code",
   "execution_count": 7,
   "id": "b94abb55",
   "metadata": {},
   "outputs": [
    {
     "data": {
      "text/plain": [
       "702"
      ]
     },
     "execution_count": 7,
     "metadata": {},
     "output_type": "execute_result"
    }
   ],
   "source": [
    "# check for recurring instances of 'client_id', to see if any patients have had to enroll in treatment more than once\n",
    "data_raw['client_id'].nunique() \n",
    "\n",
    "# 702 unique 'client_id's and 702 rows - therefore, there are not any patients who have enrolled in the program multiple times"
   ]
  },
  {
   "cell_type": "markdown",
   "id": "80f4e285",
   "metadata": {},
   "source": [
    "### 1. Adding / Subtracting Data Columns"
   ]
  },
  {
   "cell_type": "markdown",
   "id": "c6b85e02",
   "metadata": {},
   "source": [
    "#### 1.1 Client ID Privacy Concerns"
   ]
  },
  {
   "cell_type": "code",
   "execution_count": 8,
   "id": "a64b2032",
   "metadata": {},
   "outputs": [],
   "source": [
    "# drop'client_id' from 'data_raw' to make a new df, 'data', to eliminate privacy concerns for online data tools\n",
    "data = data_raw.drop(['client_id'], axis=1)"
   ]
  },
  {
   "cell_type": "markdown",
   "id": "5d9089ce",
   "metadata": {},
   "source": [
    "#### 1.2 Treatment Days"
   ]
  },
  {
   "cell_type": "code",
   "execution_count": 9,
   "id": "a32e0265",
   "metadata": {},
   "outputs": [],
   "source": [
    "# convert 'start_date' and 'exit_date' columns to datetime objects\n",
    "data['start_date'] = pd.to_datetime(data['start_date'], format = \"%d/%m/%Y\")\n",
    "data['exit_date'] = pd.to_datetime(data['exit_date'], format = \"%d/%m/%Y\")"
   ]
  },
  {
   "cell_type": "code",
   "execution_count": 10,
   "id": "dd7393c6",
   "metadata": {},
   "outputs": [],
   "source": [
    "# calculate 'treatment_days' from 'start_date' and 'exit_date' info\n",
    "data['treatment_days'] = data['exit_date'] - data['start_date']\n",
    "data['treatment_days'] = data['treatment_days'].dt.days.astype('int16')\n",
    "\n",
    "# if 'treatment_days' == 0, add 1 (to represent that this patient actually spent \n",
    "    ## a single day in treatment technically, not 0 days)\n",
    "data.loc[data['treatment_days'] == 0, 'treatment_days'] = 1"
   ]
  },
  {
   "cell_type": "markdown",
   "id": "5477425a",
   "metadata": {},
   "source": [
    "#### 1.3 Relative Substance Use Frequency & Changes in Relative Substance Use"
   ]
  },
  {
   "cell_type": "code",
   "execution_count": 11,
   "id": "792ac0ca",
   "metadata": {},
   "outputs": [],
   "source": [
    "# calculate relative substance use frequency for 'start_freq','exit_freq', 'change_freq' for a 30 day period\n",
    "data['start_freq_relative'] = (data['start_freq'] / 30 ) * 100\n",
    "data['exit_freq_relative'] = (data['exit_freq'] / 30 ) * 100"
   ]
  },
  {
   "cell_type": "code",
   "execution_count": 12,
   "id": "07b30399",
   "metadata": {},
   "outputs": [],
   "source": [
    "# calculate change in substance use frequency, \"change_freq\"\n",
    "data['change_freq'] = data['exit_freq'] - data['start_freq']"
   ]
  },
  {
   "cell_type": "code",
   "execution_count": 13,
   "id": "0b8ac7e1",
   "metadata": {},
   "outputs": [],
   "source": [
    "# calculate relative change in substance use frequency (i.e., percent change) 'change_freq_relative' and percent point \n",
    "    ## change (i.e., percentage point change) in substance use frequency, 'change_freq_pctpt'\n",
    "data['change_freq_relative'] = ((data['exit_freq_relative'] - data['start_freq_relative']) / data['start_freq_relative']) * 100\n",
    "data['change_freq_pctpt'] = data['exit_freq_relative'] - data['start_freq_relative']"
   ]
  },
  {
   "cell_type": "markdown",
   "id": "28439eeb",
   "metadata": {},
   "source": [
    "#### 1.4 Patient Start Month & Date"
   ]
  },
  {
   "cell_type": "code",
   "execution_count": 14,
   "id": "63b8782f",
   "metadata": {},
   "outputs": [],
   "source": [
    "# create a column, 'start_year_month' that outlines each program enrollment instance's (i.e., patient's) month and year of enrollment\n",
    "data['start_year_month'] = data.apply(lambda row: str(row['start_date'])[:7], axis=1)"
   ]
  },
  {
   "cell_type": "markdown",
   "id": "04ae132e",
   "metadata": {},
   "source": [
    "#### 1.5 Patient Age Group"
   ]
  },
  {
   "cell_type": "code",
   "execution_count": 15,
   "id": "0b02655d",
   "metadata": {},
   "outputs": [],
   "source": [
    "# create function, 'getAgeGroup' that takes each program enrollment instance (i.e., patient) and categorizes it into an age group\n",
    "def getAgeGroup(ageValue):\n",
    "    age = int(ageValue)\n",
    "    group = 0\n",
    "    \n",
    "    if age <= 30:\n",
    "        group = '20-30' \n",
    "    elif age > 30 and age < 51:\n",
    "        group = '31-50'\n",
    "    elif age > 50 and age < 71:\n",
    "        group = '51-70'\n",
    "    else:\n",
    "        group = '71-100'\n",
    "    return group"
   ]
  },
  {
   "cell_type": "code",
   "execution_count": 16,
   "id": "ddffb530",
   "metadata": {},
   "outputs": [],
   "source": [
    "# apply 'getAgeGroup' function to 'data' to make new column, 'age_group'\n",
    "data['age_group'] = data['age'].apply(lambda row: getAgeGroup(row))"
   ]
  },
  {
   "cell_type": "markdown",
   "id": "4a0a0f7b",
   "metadata": {},
   "source": [
    "#### 1.5 Patient BIPOC / Not BIPOC Group"
   ]
  },
  {
   "cell_type": "code",
   "execution_count": 145,
   "id": "3fdf40ea",
   "metadata": {},
   "outputs": [],
   "source": [
    "# create a new function, 'getBIPOC' that determines whether each program enrollment instance (i.e. patient) is either:\n",
    "    ## 'BIPOC' (i.e., Black, Indigenous, and people of color [i.e., not white])\n",
    "    ## 'white' (i.e., not BIPOC)\n",
    "\n",
    "def getBipoc(bipocValue):\n",
    "    bipoc = bipocValue\n",
    "    group = 0\n",
    "\n",
    "    if bipoc == 'White':\n",
    "             group = 'white'\n",
    "    else:\n",
    "             group = 'BIPOC'\n",
    "    return group"
   ]
  },
  {
   "cell_type": "code",
   "execution_count": 146,
   "id": "af57a8d4",
   "metadata": {},
   "outputs": [],
   "source": [
    "# apply 'getBipoc' function to 'data' to make new column, 'race_general'\n",
    "data['race_general'] = data['race'].apply(lambda row: getBipoc(row))"
   ]
  },
  {
   "cell_type": "markdown",
   "id": "96fbe56d",
   "metadata": {},
   "source": [
    "#### 1.6 Patient Success"
   ]
  },
  {
   "cell_type": "code",
   "execution_count": 17,
   "id": "d6f43791",
   "metadata": {},
   "outputs": [],
   "source": [
    "# create a new function, 'getProgramSuccess' that determines whether each program enrollment instance (i.e. patient) was either \n",
    "    ## 'successful' or 'not successful', where: \n",
    "        ## 'successful' = change in relative frequency of substance use is negative, (i.e., less than 0)\n",
    "        ## 'not successful' = change in relative frequency of substance use is 0 or positive (i.e., NOT negative)\n",
    "def getProgramSuccess(successValue):\n",
    "    success = int(successValue)\n",
    "    group = 0\n",
    "  \n",
    "    if success < 0:\n",
    "             group = 'successful'\n",
    "    else:\n",
    "             group = 'not successful'\n",
    "    return group"
   ]
  },
  {
   "cell_type": "code",
   "execution_count": 18,
   "id": "0562cfd9",
   "metadata": {},
   "outputs": [],
   "source": [
    "# apply 'getProgramSuccess' function to 'data' to create new column, 'program_success'\n",
    "data['program_success'] = data['change_freq_relative'].apply(lambda row: getProgramSuccess(row))"
   ]
  },
  {
   "cell_type": "markdown",
   "id": "b1c83062",
   "metadata": {},
   "source": [
    "#### 1.7 Program Enrollment Lasting <= 5 Days vs > 5 Days"
   ]
  },
  {
   "cell_type": "code",
   "execution_count": 19,
   "id": "6c4f0b38",
   "metadata": {},
   "outputs": [],
   "source": [
    "# create a new function, 'inquireTargetEnrollment' that determines whether each program enrollment instance (i.e., patient) either met the \n",
    "    ## target number of enrollment days (i.e., spent 5 or less days in treatment) or not (i.e., spent 6 days or more in treatment)\n",
    "def inquireTargetEnrollment(enrollementValue):\n",
    "    enrollment = int(enrollementValue)\n",
    "    group = 0\n",
    "  \n",
    "    if enrollment <= 5:\n",
    "             group = '<= 5 days'\n",
    "    else:\n",
    "             group = '> 5 days'\n",
    "    return group"
   ]
  },
  {
   "cell_type": "code",
   "execution_count": 20,
   "id": "34ab10c2",
   "metadata": {},
   "outputs": [],
   "source": [
    "# apply 'inquireTargetEnrollment' function to 'data' to create new column, 'enrollment_v_target'\n",
    "data['enrollment_v_target'] = data['treatment_days'].apply(lambda row: inquireTargetEnrollment(row))"
   ]
  },
  {
   "cell_type": "code",
   "execution_count": 21,
   "id": "a0cf1ca6",
   "metadata": {},
   "outputs": [],
   "source": [
    "# create df, 'data_le5' for program enrollment instances (i.e., pateients) that require less than or equal to 5 days of treatment \n",
    "    ## (i.e., less than  6 days of treatment)\n",
    "data_le5 = data.loc[data['treatment_days'] <= 5]\n",
    "\n",
    "# create df, 'data_g5' for program enrollment instances (i.e., patients) that require greater than 5 days of treatment\n",
    "data_g5 = data.loc[data['treatment_days'] > 5]"
   ]
  },
  {
   "cell_type": "markdown",
   "id": "2c7f035a",
   "metadata": {},
   "source": [
    "### 2. Further Data Preparation"
   ]
  },
  {
   "cell_type": "markdown",
   "id": "c344bcaa",
   "metadata": {},
   "source": [
    "#### 2.1 Patient Success AND Program Enrollment Lasting <= 5 Days "
   ]
  },
  {
   "cell_type": "code",
   "execution_count": 22,
   "id": "083dbf47",
   "metadata": {},
   "outputs": [],
   "source": [
    "# create a new df, 'data_s5', which outlines where program enrollment instances (i.e., patients) where BOTH successful \n",
    "    ## AND in program for less than 6 days\n",
    "data_s5 = data[(data['program_success'] == 'successful') & (data['enrollment_v_target'] == '<= 5 days')]"
   ]
  },
  {
   "cell_type": "markdown",
   "id": "9a1b53ee",
   "metadata": {},
   "source": [
    "#### 2.2 Increase in Substance Use Relative Frequency"
   ]
  },
  {
   "cell_type": "code",
   "execution_count": 23,
   "id": "91661c35",
   "metadata": {},
   "outputs": [],
   "source": [
    "# subset data and make a new df, 'data_if' (i.e., increase frequency) for where program enrollment instances (i.e., patients) \n",
    "    ## result in an increase in substance use relative frequency (instead of decrease of substance use)\n",
    "data_if = data[(data['change_freq_relative'] > 0)]"
   ]
  },
  {
   "cell_type": "markdown",
   "id": "4963fc18",
   "metadata": {},
   "source": [
    "#### 2.3 Start-Subtstance vs. End-Substance Change"
   ]
  },
  {
   "cell_type": "code",
   "execution_count": 24,
   "id": "f3db67bc",
   "metadata": {},
   "outputs": [],
   "source": [
    "# create new column, 'change_substance', to identify if program enrollment instances (i.e., patients) changed \n",
    "    ## their primary substance of frequency or not\n",
    "data.loc[data['start_substance'] == data['exit_substance'], 'change_substance'] = False\n",
    "data.loc[data['start_substance'] != data['exit_substance'], 'change_substance'] = True"
   ]
  },
  {
   "cell_type": "code",
   "execution_count": 25,
   "id": "5a8037b8",
   "metadata": {},
   "outputs": [
    {
     "data": {
      "text/plain": [
       "False    681\n",
       "True      21\n",
       "Name: change_substance, dtype: int64"
      ]
     },
     "execution_count": 25,
     "metadata": {},
     "output_type": "execute_result"
    }
   ],
   "source": [
    "# identify if any program enrollment instances (i.e., patients) changed their primary substance of use or not\n",
    "data['change_substance'].value_counts() # 21 patients changed their primary use of substance"
   ]
  },
  {
   "cell_type": "code",
   "execution_count": 26,
   "id": "9e0d0a87",
   "metadata": {},
   "outputs": [],
   "source": [
    "# create new df, 'data_cs' (i.e., change substance) which outlines program enrollment instances (i.e., patients) where there\n",
    "    ## was a change in primary substance of use\n",
    "data_cs = data[data['change_substance']] \n",
    "\n",
    "# NOTE: point of interest for future research - try to understand better why these patients have changed substances"
   ]
  },
  {
   "cell_type": "markdown",
   "id": "054ba39d",
   "metadata": {},
   "source": [
    "#### 2.4 Increase in Substance Use Relative Frequency AND A Change in Primary Substance of Use"
   ]
  },
  {
   "cell_type": "code",
   "execution_count": 27,
   "id": "d75abe3a",
   "metadata": {},
   "outputs": [],
   "source": [
    "# make new df, 'data_if_cs' by subsetting data for where program enrollment instances (i.e., patients) result in an increase in substance\n",
    "    ## use relative frequency (instead of decrease of substance use) AND a change in substance use\n",
    "data_if_cs = data[(data['change_freq_relative'] > 0) & (data['change_substance'] == True)]"
   ]
  },
  {
   "cell_type": "markdown",
   "id": "fbb1722f",
   "metadata": {},
   "source": [
    "#### 2.5 Data GroupBy "
   ]
  },
  {
   "cell_type": "code",
   "execution_count": 41,
   "id": "82eefce6",
   "metadata": {},
   "outputs": [],
   "source": [
    "# group data by different demographic characteristics and 'start_year_month' for future time series analysis\n",
    "mean_race_month = data.groupby(['race', 'start_year_month']).mean().reset_index()\n",
    "mean_gender_month = data.groupby(['gender', 'start_year_month']).mean().reset_index()\n",
    "mean_disability_month = data.groupby(['disability', 'start_year_month']).mean().reset_index()\n",
    "mean_start_substance_month = data.groupby(['start_substance', 'start_year_month']).mean().reset_index()\n",
    "mean_exit_substance_month = data.groupby(['exit_substance', 'start_year_month']).mean().reset_index()\n",
    "mean_age_group_month = data.groupby(['age_group', 'start_year_month']).mean().reset_index()\n"
   ]
  },
  {
   "cell_type": "code",
   "execution_count": 40,
   "id": "53c8b568",
   "metadata": {},
   "outputs": [
    {
     "data": {
      "text/html": [
       "<div>\n",
       "<style scoped>\n",
       "    .dataframe tbody tr th:only-of-type {\n",
       "        vertical-align: middle;\n",
       "    }\n",
       "\n",
       "    .dataframe tbody tr th {\n",
       "        vertical-align: top;\n",
       "    }\n",
       "\n",
       "    .dataframe thead th {\n",
       "        text-align: right;\n",
       "    }\n",
       "</style>\n",
       "<table border=\"1\" class=\"dataframe\">\n",
       "  <thead>\n",
       "    <tr style=\"text-align: right;\">\n",
       "      <th></th>\n",
       "      <th>program_success</th>\n",
       "      <th>start_year_month</th>\n",
       "      <th>age</th>\n",
       "      <th>start_freq</th>\n",
       "      <th>exit_freq</th>\n",
       "      <th>treatment_days</th>\n",
       "      <th>start_freq_relative</th>\n",
       "      <th>exit_freq_relative</th>\n",
       "      <th>change_freq</th>\n",
       "      <th>change_freq_relative</th>\n",
       "      <th>change_freq_pctpt</th>\n",
       "    </tr>\n",
       "  </thead>\n",
       "  <tbody>\n",
       "    <tr>\n",
       "      <th>0</th>\n",
       "      <td>not successful</td>\n",
       "      <td>2015-07</td>\n",
       "      <td>28.000000</td>\n",
       "      <td>16.000000</td>\n",
       "      <td>16.000000</td>\n",
       "      <td>1.000000</td>\n",
       "      <td>53.333333</td>\n",
       "      <td>53.333333</td>\n",
       "      <td>0.000000</td>\n",
       "      <td>0.000000</td>\n",
       "      <td>0.000000</td>\n",
       "    </tr>\n",
       "    <tr>\n",
       "      <th>1</th>\n",
       "      <td>not successful</td>\n",
       "      <td>2015-08</td>\n",
       "      <td>61.000000</td>\n",
       "      <td>30.000000</td>\n",
       "      <td>30.000000</td>\n",
       "      <td>31.000000</td>\n",
       "      <td>100.000000</td>\n",
       "      <td>100.000000</td>\n",
       "      <td>0.000000</td>\n",
       "      <td>0.000000</td>\n",
       "      <td>0.000000</td>\n",
       "    </tr>\n",
       "    <tr>\n",
       "      <th>2</th>\n",
       "      <td>not successful</td>\n",
       "      <td>2015-09</td>\n",
       "      <td>54.166667</td>\n",
       "      <td>16.166667</td>\n",
       "      <td>22.000000</td>\n",
       "      <td>9.500000</td>\n",
       "      <td>53.888889</td>\n",
       "      <td>73.333333</td>\n",
       "      <td>5.833333</td>\n",
       "      <td>243.040293</td>\n",
       "      <td>19.444444</td>\n",
       "    </tr>\n",
       "    <tr>\n",
       "      <th>3</th>\n",
       "      <td>not successful</td>\n",
       "      <td>2015-10</td>\n",
       "      <td>61.000000</td>\n",
       "      <td>3.000000</td>\n",
       "      <td>3.000000</td>\n",
       "      <td>1.000000</td>\n",
       "      <td>10.000000</td>\n",
       "      <td>10.000000</td>\n",
       "      <td>0.000000</td>\n",
       "      <td>0.000000</td>\n",
       "      <td>0.000000</td>\n",
       "    </tr>\n",
       "    <tr>\n",
       "      <th>4</th>\n",
       "      <td>not successful</td>\n",
       "      <td>2015-12</td>\n",
       "      <td>44.166667</td>\n",
       "      <td>10.000000</td>\n",
       "      <td>16.333333</td>\n",
       "      <td>2.666667</td>\n",
       "      <td>33.333333</td>\n",
       "      <td>54.444444</td>\n",
       "      <td>6.333333</td>\n",
       "      <td>154.166667</td>\n",
       "      <td>21.111111</td>\n",
       "    </tr>\n",
       "    <tr>\n",
       "      <th>5</th>\n",
       "      <td>not successful</td>\n",
       "      <td>2016-01</td>\n",
       "      <td>49.000000</td>\n",
       "      <td>18.250000</td>\n",
       "      <td>20.000000</td>\n",
       "      <td>14.500000</td>\n",
       "      <td>60.833333</td>\n",
       "      <td>66.666667</td>\n",
       "      <td>1.750000</td>\n",
       "      <td>8.750000</td>\n",
       "      <td>5.833333</td>\n",
       "    </tr>\n",
       "    <tr>\n",
       "      <th>6</th>\n",
       "      <td>not successful</td>\n",
       "      <td>2016-02</td>\n",
       "      <td>49.666667</td>\n",
       "      <td>14.333333</td>\n",
       "      <td>26.000000</td>\n",
       "      <td>3.000000</td>\n",
       "      <td>47.777778</td>\n",
       "      <td>86.666667</td>\n",
       "      <td>11.666667</td>\n",
       "      <td>917.857143</td>\n",
       "      <td>38.888889</td>\n",
       "    </tr>\n",
       "    <tr>\n",
       "      <th>7</th>\n",
       "      <td>not successful</td>\n",
       "      <td>2016-05</td>\n",
       "      <td>46.714286</td>\n",
       "      <td>14.857143</td>\n",
       "      <td>14.857143</td>\n",
       "      <td>3.714286</td>\n",
       "      <td>49.523810</td>\n",
       "      <td>49.523810</td>\n",
       "      <td>0.000000</td>\n",
       "      <td>0.000000</td>\n",
       "      <td>0.000000</td>\n",
       "    </tr>\n",
       "    <tr>\n",
       "      <th>8</th>\n",
       "      <td>not successful</td>\n",
       "      <td>2016-06</td>\n",
       "      <td>36.200000</td>\n",
       "      <td>16.400000</td>\n",
       "      <td>22.000000</td>\n",
       "      <td>12.800000</td>\n",
       "      <td>54.666667</td>\n",
       "      <td>73.333333</td>\n",
       "      <td>5.600000</td>\n",
       "      <td>280.000000</td>\n",
       "      <td>18.666667</td>\n",
       "    </tr>\n",
       "    <tr>\n",
       "      <th>9</th>\n",
       "      <td>successful</td>\n",
       "      <td>2015-07</td>\n",
       "      <td>44.724638</td>\n",
       "      <td>16.072464</td>\n",
       "      <td>11.246377</td>\n",
       "      <td>7.043478</td>\n",
       "      <td>53.574879</td>\n",
       "      <td>37.487923</td>\n",
       "      <td>-4.826087</td>\n",
       "      <td>-50.804851</td>\n",
       "      <td>-16.086957</td>\n",
       "    </tr>\n",
       "    <tr>\n",
       "      <th>10</th>\n",
       "      <td>successful</td>\n",
       "      <td>2015-08</td>\n",
       "      <td>46.611111</td>\n",
       "      <td>15.759259</td>\n",
       "      <td>10.814815</td>\n",
       "      <td>8.055556</td>\n",
       "      <td>52.530864</td>\n",
       "      <td>36.049383</td>\n",
       "      <td>-4.944444</td>\n",
       "      <td>-49.860807</td>\n",
       "      <td>-16.481481</td>\n",
       "    </tr>\n",
       "    <tr>\n",
       "      <th>11</th>\n",
       "      <td>successful</td>\n",
       "      <td>2015-09</td>\n",
       "      <td>42.179104</td>\n",
       "      <td>16.373134</td>\n",
       "      <td>11.044776</td>\n",
       "      <td>6.492537</td>\n",
       "      <td>54.577114</td>\n",
       "      <td>36.815920</td>\n",
       "      <td>-5.328358</td>\n",
       "      <td>-56.097078</td>\n",
       "      <td>-17.761194</td>\n",
       "    </tr>\n",
       "    <tr>\n",
       "      <th>12</th>\n",
       "      <td>successful</td>\n",
       "      <td>2015-10</td>\n",
       "      <td>40.954545</td>\n",
       "      <td>16.818182</td>\n",
       "      <td>12.636364</td>\n",
       "      <td>6.015152</td>\n",
       "      <td>56.060606</td>\n",
       "      <td>42.121212</td>\n",
       "      <td>-4.181818</td>\n",
       "      <td>-45.354307</td>\n",
       "      <td>-13.939394</td>\n",
       "    </tr>\n",
       "    <tr>\n",
       "      <th>13</th>\n",
       "      <td>successful</td>\n",
       "      <td>2015-11</td>\n",
       "      <td>44.655172</td>\n",
       "      <td>17.103448</td>\n",
       "      <td>13.206897</td>\n",
       "      <td>5.724138</td>\n",
       "      <td>57.011494</td>\n",
       "      <td>44.022989</td>\n",
       "      <td>-3.896552</td>\n",
       "      <td>-41.480557</td>\n",
       "      <td>-12.988506</td>\n",
       "    </tr>\n",
       "    <tr>\n",
       "      <th>14</th>\n",
       "      <td>successful</td>\n",
       "      <td>2015-12</td>\n",
       "      <td>42.509434</td>\n",
       "      <td>17.566038</td>\n",
       "      <td>12.547170</td>\n",
       "      <td>6.698113</td>\n",
       "      <td>58.553459</td>\n",
       "      <td>41.823899</td>\n",
       "      <td>-5.018868</td>\n",
       "      <td>-44.702054</td>\n",
       "      <td>-16.729560</td>\n",
       "    </tr>\n",
       "    <tr>\n",
       "      <th>15</th>\n",
       "      <td>successful</td>\n",
       "      <td>2016-01</td>\n",
       "      <td>41.833333</td>\n",
       "      <td>15.357143</td>\n",
       "      <td>10.523810</td>\n",
       "      <td>7.785714</td>\n",
       "      <td>51.190476</td>\n",
       "      <td>35.079365</td>\n",
       "      <td>-4.833333</td>\n",
       "      <td>-53.647959</td>\n",
       "      <td>-16.111111</td>\n",
       "    </tr>\n",
       "    <tr>\n",
       "      <th>16</th>\n",
       "      <td>successful</td>\n",
       "      <td>2016-02</td>\n",
       "      <td>46.450000</td>\n",
       "      <td>16.316667</td>\n",
       "      <td>11.416667</td>\n",
       "      <td>7.000000</td>\n",
       "      <td>54.388889</td>\n",
       "      <td>38.055556</td>\n",
       "      <td>-4.900000</td>\n",
       "      <td>-50.807933</td>\n",
       "      <td>-16.333333</td>\n",
       "    </tr>\n",
       "    <tr>\n",
       "      <th>17</th>\n",
       "      <td>successful</td>\n",
       "      <td>2016-03</td>\n",
       "      <td>42.684211</td>\n",
       "      <td>16.526316</td>\n",
       "      <td>11.964912</td>\n",
       "      <td>6.070175</td>\n",
       "      <td>55.087719</td>\n",
       "      <td>39.883041</td>\n",
       "      <td>-4.561404</td>\n",
       "      <td>-47.903904</td>\n",
       "      <td>-15.204678</td>\n",
       "    </tr>\n",
       "    <tr>\n",
       "      <th>18</th>\n",
       "      <td>successful</td>\n",
       "      <td>2016-04</td>\n",
       "      <td>42.977273</td>\n",
       "      <td>17.568182</td>\n",
       "      <td>10.886364</td>\n",
       "      <td>7.977273</td>\n",
       "      <td>58.560606</td>\n",
       "      <td>36.287879</td>\n",
       "      <td>-6.681818</td>\n",
       "      <td>-52.882650</td>\n",
       "      <td>-22.272727</td>\n",
       "    </tr>\n",
       "    <tr>\n",
       "      <th>19</th>\n",
       "      <td>successful</td>\n",
       "      <td>2016-05</td>\n",
       "      <td>42.914894</td>\n",
       "      <td>19.297872</td>\n",
       "      <td>12.829787</td>\n",
       "      <td>8.510638</td>\n",
       "      <td>64.326241</td>\n",
       "      <td>42.765957</td>\n",
       "      <td>-6.468085</td>\n",
       "      <td>-49.662622</td>\n",
       "      <td>-21.560284</td>\n",
       "    </tr>\n",
       "    <tr>\n",
       "      <th>20</th>\n",
       "      <td>successful</td>\n",
       "      <td>2016-06</td>\n",
       "      <td>41.863636</td>\n",
       "      <td>18.295455</td>\n",
       "      <td>11.886364</td>\n",
       "      <td>8.727273</td>\n",
       "      <td>60.984848</td>\n",
       "      <td>39.621212</td>\n",
       "      <td>-6.409091</td>\n",
       "      <td>-50.745289</td>\n",
       "      <td>-21.363636</td>\n",
       "    </tr>\n",
       "  </tbody>\n",
       "</table>\n",
       "</div>"
      ],
      "text/plain": [
       "   program_success start_year_month        age  start_freq  exit_freq  \\\n",
       "0   not successful          2015-07  28.000000   16.000000  16.000000   \n",
       "1   not successful          2015-08  61.000000   30.000000  30.000000   \n",
       "2   not successful          2015-09  54.166667   16.166667  22.000000   \n",
       "3   not successful          2015-10  61.000000    3.000000   3.000000   \n",
       "4   not successful          2015-12  44.166667   10.000000  16.333333   \n",
       "5   not successful          2016-01  49.000000   18.250000  20.000000   \n",
       "6   not successful          2016-02  49.666667   14.333333  26.000000   \n",
       "7   not successful          2016-05  46.714286   14.857143  14.857143   \n",
       "8   not successful          2016-06  36.200000   16.400000  22.000000   \n",
       "9       successful          2015-07  44.724638   16.072464  11.246377   \n",
       "10      successful          2015-08  46.611111   15.759259  10.814815   \n",
       "11      successful          2015-09  42.179104   16.373134  11.044776   \n",
       "12      successful          2015-10  40.954545   16.818182  12.636364   \n",
       "13      successful          2015-11  44.655172   17.103448  13.206897   \n",
       "14      successful          2015-12  42.509434   17.566038  12.547170   \n",
       "15      successful          2016-01  41.833333   15.357143  10.523810   \n",
       "16      successful          2016-02  46.450000   16.316667  11.416667   \n",
       "17      successful          2016-03  42.684211   16.526316  11.964912   \n",
       "18      successful          2016-04  42.977273   17.568182  10.886364   \n",
       "19      successful          2016-05  42.914894   19.297872  12.829787   \n",
       "20      successful          2016-06  41.863636   18.295455  11.886364   \n",
       "\n",
       "    treatment_days  start_freq_relative  exit_freq_relative  change_freq  \\\n",
       "0         1.000000            53.333333           53.333333     0.000000   \n",
       "1        31.000000           100.000000          100.000000     0.000000   \n",
       "2         9.500000            53.888889           73.333333     5.833333   \n",
       "3         1.000000            10.000000           10.000000     0.000000   \n",
       "4         2.666667            33.333333           54.444444     6.333333   \n",
       "5        14.500000            60.833333           66.666667     1.750000   \n",
       "6         3.000000            47.777778           86.666667    11.666667   \n",
       "7         3.714286            49.523810           49.523810     0.000000   \n",
       "8        12.800000            54.666667           73.333333     5.600000   \n",
       "9         7.043478            53.574879           37.487923    -4.826087   \n",
       "10        8.055556            52.530864           36.049383    -4.944444   \n",
       "11        6.492537            54.577114           36.815920    -5.328358   \n",
       "12        6.015152            56.060606           42.121212    -4.181818   \n",
       "13        5.724138            57.011494           44.022989    -3.896552   \n",
       "14        6.698113            58.553459           41.823899    -5.018868   \n",
       "15        7.785714            51.190476           35.079365    -4.833333   \n",
       "16        7.000000            54.388889           38.055556    -4.900000   \n",
       "17        6.070175            55.087719           39.883041    -4.561404   \n",
       "18        7.977273            58.560606           36.287879    -6.681818   \n",
       "19        8.510638            64.326241           42.765957    -6.468085   \n",
       "20        8.727273            60.984848           39.621212    -6.409091   \n",
       "\n",
       "    change_freq_relative  change_freq_pctpt  \n",
       "0               0.000000           0.000000  \n",
       "1               0.000000           0.000000  \n",
       "2             243.040293          19.444444  \n",
       "3               0.000000           0.000000  \n",
       "4             154.166667          21.111111  \n",
       "5               8.750000           5.833333  \n",
       "6             917.857143          38.888889  \n",
       "7               0.000000           0.000000  \n",
       "8             280.000000          18.666667  \n",
       "9             -50.804851         -16.086957  \n",
       "10            -49.860807         -16.481481  \n",
       "11            -56.097078         -17.761194  \n",
       "12            -45.354307         -13.939394  \n",
       "13            -41.480557         -12.988506  \n",
       "14            -44.702054         -16.729560  \n",
       "15            -53.647959         -16.111111  \n",
       "16            -50.807933         -16.333333  \n",
       "17            -47.903904         -15.204678  \n",
       "18            -52.882650         -22.272727  \n",
       "19            -49.662622         -21.560284  \n",
       "20            -50.745289         -21.363636  "
      ]
     },
     "execution_count": 40,
     "metadata": {},
     "output_type": "execute_result"
    }
   ],
   "source": [
    "data.groupby(['program_success', 'start_year_month']).mean().reset_index()\n"
   ]
  },
  {
   "cell_type": "code",
   "execution_count": null,
   "id": "614b6cad",
   "metadata": {},
   "outputs": [],
   "source": []
  },
  {
   "cell_type": "markdown",
   "id": "5c87ac03",
   "metadata": {},
   "source": [
    "### 3. Prepared Data for Export"
   ]
  },
  {
   "cell_type": "code",
   "execution_count": 28,
   "id": "2ea9a3c8",
   "metadata": {},
   "outputs": [],
   "source": [
    "# write 'data_le5' (i.e., data about patients who spent less than 6 days [i.e., less than or equal to 5 days] in program) to a csv\n",
    "data_le5.to_csv('data/processed/data_le5.csv', encoding ='utf-8', index = False)\n",
    "\n",
    "# write 'data_g5' (i.e., data about patients who spent greater 5 days [i.e., 6 days or more] in program) to a csv\n",
    "data_g5.to_csv('data/processed/data_l5.csv', encoding ='utf-8', index = False)\n",
    "\n",
    "# write 'data_s5' (i.e., data about patients who were successful in their treatment program and who spent less than 6 days \n",
    "    ## [i.e., 5 days or less] in program) to a csv\n",
    "data_s5.to_csv('data/processed/data_s5.csv', encoding ='utf-8', index = False)\n",
    "\n",
    "# write 'data_if' (i.e., data about patients who increased their relative frequency of substance use (instead of decreased their substance use) \n",
    "    ## to a csv\n",
    "data_if.to_csv('data/processed/data_if.csv', encoding = 'utf-8', index = False)\n",
    "\n",
    "# write 'data_cs' (i.e., data about patients who changed their primary substance of use) to a csv\n",
    "data_cs.to_csv('data/processed/data_cs.csv', encoding = 'utf-8', index = False)\n",
    "\n",
    "# write 'data_if_cs' (i.e., data about patients who BOTH increased their relative frequency of substance use AND changed their primary substance\n",
    "    ## of use) to a csv\n",
    "data_if_cs.to_csv('data/processed/data_if_cs.csv', encoding='utf-8', index=False)\n",
    "\n",
    "# write 'data' (i.e., data about all patients) to a csv\n",
    "data.to_csv('data/processed/data.csv', encoding = 'utf-8', index = False)"
   ]
  },
  {
   "cell_type": "code",
   "execution_count": null,
   "id": "b23b10f5",
   "metadata": {},
   "outputs": [],
   "source": []
  },
  {
   "cell_type": "code",
   "execution_count": 34,
   "id": "7128855f",
   "metadata": {},
   "outputs": [],
   "source": [
    "mean_race_month = data.groupby(['race', 'start_year_month']).mean().reset_index()\n",
    "mean_race_month.to_csv('data/processed/mean_race_month.csv', encoding = 'utf-8', index = False)"
   ]
  },
  {
   "cell_type": "code",
   "execution_count": null,
   "id": "846f406e",
   "metadata": {},
   "outputs": [],
   "source": []
  },
  {
   "cell_type": "code",
   "execution_count": null,
   "id": "acf42314",
   "metadata": {},
   "outputs": [],
   "source": []
  },
  {
   "cell_type": "code",
   "execution_count": null,
   "id": "baad8167",
   "metadata": {},
   "outputs": [],
   "source": []
  },
  {
   "cell_type": "markdown",
   "id": "2535bf57",
   "metadata": {},
   "source": [
    "### 2. Data Analysis"
   ]
  },
  {
   "cell_type": "markdown",
   "id": "1c4c4144",
   "metadata": {},
   "source": [
    "### test 5 day question"
   ]
  },
  {
   "cell_type": "code",
   "execution_count": null,
   "id": "9f61ff6d",
   "metadata": {},
   "outputs": [],
   "source": []
  },
  {
   "cell_type": "code",
   "execution_count": 120,
   "id": "f656d7c0",
   "metadata": {},
   "outputs": [],
   "source": []
  },
  {
   "cell_type": "code",
   "execution_count": 205,
   "id": "84a42da4",
   "metadata": {},
   "outputs": [],
   "source": []
  },
  {
   "cell_type": "code",
   "execution_count": 209,
   "id": "303eb1a6",
   "metadata": {},
   "outputs": [
    {
     "data": {
      "text/plain": [
       "<AxesSubplot:xlabel='treatment_days', ylabel='change_freq_relative'>"
      ]
     },
     "execution_count": 209,
     "metadata": {},
     "output_type": "execute_result"
    },
    {
     "data": {
      "image/png": "[encoded data removed]",
      "text/plain": [
       "<Figure size 432x288 with 1 Axes>"
      ]
     },
     "metadata": {},
     "output_type": "display_data"
    }
   ],
   "source": [
    "import seaborn as sns\n",
    "filter_condition = (data['change_freq_relative']<=0) & (data['treatment_days']<60)\n",
    "sns.scatterplot(data=data[filter_condition], x='treatment_days', y='change_freq_relative', hue='age_group')"
   ]
  },
  {
   "cell_type": "code",
   "execution_count": 55,
   "id": "9564c841",
   "metadata": {},
   "outputs": [],
   "source": [
    "# group data by different demographic characteristics and 'start_year_month' for future time series analysis\n",
    "mean_race_month = data.groupby(['race', 'start_year_month']).mean().reset_index()\n",
    "mean_gender_month = data.groupby(['gender', 'start_year_month']).mean().reset_index()\n",
    "mean_disability_month = data.groupby(['disability', 'start_year_month']).mean().reset_index()\n",
    "mean_start_substance_month = data.groupby(['start_substance', 'start_year_month']).mean().reset_index()\n",
    "mean_exit_substance_month = data.groupby(['exit_substance', 'start_year_month']).mean().reset_index()\n",
    "mean_age_group_month = data.groupby(['age_group', 'start_year_month']).mean().reset_index()\n",
    "mean_program_success_month = data.groupby(['program_success', 'start_year_month']).mean().reset_index()\n",
    "mean_enrollment_v_target_month = data.groupby(['enrollment_v_target', 'start_year_month']).mean().reset_index()"
   ]
  },
  {
   "cell_type": "code",
   "execution_count": 56,
   "id": "7750c0ff",
   "metadata": {},
   "outputs": [],
   "source": [
    "# find mean number of days in treatment for different demographic groups\n",
    "race_avgdays_ps = data.groupby(['race','program_success']).mean()[['treatment_days']].reset_index()\n",
    "gender_avgdays_ps = data.groupby(['gender','program_success']).mean()[['treatment_days']].reset_index()\n",
    "disability_avgdays_ps = data.groupby(['disability','program_success']).mean()[['treatment_days']].reset_index()\n",
    "start_substance_avgdays_ps = data.groupby(['start_substance','program_success']).mean()[['treatment_days']].reset_index()\n",
    "exit_substance_avgdays_ps = data.groupby(['exit_substance','program_success']).mean()[['treatment_days']].reset_index()\n",
    "start_year_month_avgdays_ps = data.groupby(['start_year_month','program_success']).mean()[['treatment_days']].reset_index()\n",
    "age_group_avgdays_ps = data.groupby(['age_group','program_success']).mean()[['treatment_days']].reset_index()\n",
    "enrollment_v_target_avgdays_ps = data.groupby(['enrollment_v_target','program_success']).mean()[['treatment_days']].reset_index()"
   ]
  },
  {
   "cell_type": "code",
   "execution_count": 81,
   "id": "7c2c6633",
   "metadata": {},
   "outputs": [],
   "source": [
    "# find mean number of 'treatment_days', 'start_freq_relative', 'exit_freq_relative', and 'change_freq_relative' taking into account all demographic groups\n",
    "ad_avg_days = data.groupby(['age_group', 'gender', 'race', 'disability', 'start_substance', 'exit_substance', 'start_year_month', 'program_success', \n",
    "              'enrollment_v_target']).mean()[['treatment_days']].reset_index()\n",
    "ad_avg_start_freq_relative = data.groupby(['age_group', 'gender', 'race', 'disability', 'start_substance', 'exit_substance', 'start_year_month', 'program_success', \n",
    "              'enrollment_v_target']).mean()[['start_freq_relative']].reset_index()\n",
    "ad_avg_exit_freq_relative = data.groupby(['age_group', 'gender', 'race', 'disability', 'start_substance', 'exit_substance', 'start_year_month', 'program_success', \n",
    "              'enrollment_v_target']).mean()[['exit_freq_relative']].reset_index()\n",
    "ad_avg_change_freq_relative = data.groupby(['age_group', 'gender', 'race', 'disability', 'start_substance', 'exit_substance', 'start_year_month', 'program_success', \n",
    "              'enrollment_v_target']).mean()[['change_freq_relative']].reset_index()"
   ]
  },
  {
   "cell_type": "code",
   "execution_count": null,
   "id": "5a1f8c01",
   "metadata": {},
   "outputs": [],
   "source": [
    "# find mean of all continous variables while taking into account all demographic groups\n",
    "ad_mean = data.groupby(['age_group', 'gender', 'race', 'disability', 'start_substance', 'exit_substance', 'start_year_month', 'program_success', \n",
    "              'enrollment_v_target']).mean().reset_index()"
   ]
  },
  {
   "cell_type": "code",
   "execution_count": 232,
   "id": "be34629b",
   "metadata": {},
   "outputs": [
    {
     "data": {
      "text/html": [
       "<div>\n",
       "<style scoped>\n",
       "    .dataframe tbody tr th:only-of-type {\n",
       "        vertical-align: middle;\n",
       "    }\n",
       "\n",
       "    .dataframe tbody tr th {\n",
       "        vertical-align: top;\n",
       "    }\n",
       "\n",
       "    .dataframe thead th {\n",
       "        text-align: right;\n",
       "    }\n",
       "</style>\n",
       "<table border=\"1\" class=\"dataframe\">\n",
       "  <thead>\n",
       "    <tr style=\"text-align: right;\">\n",
       "      <th></th>\n",
       "      <th>race</th>\n",
       "      <th>program_success</th>\n",
       "      <th>treatment_days</th>\n",
       "    </tr>\n",
       "  </thead>\n",
       "  <tbody>\n",
       "    <tr>\n",
       "      <th>0</th>\n",
       "      <td>African American</td>\n",
       "      <td>not successful</td>\n",
       "      <td>17.571429</td>\n",
       "    </tr>\n",
       "    <tr>\n",
       "      <th>1</th>\n",
       "      <td>African American</td>\n",
       "      <td>successful</td>\n",
       "      <td>10.468750</td>\n",
       "    </tr>\n",
       "    <tr>\n",
       "      <th>2</th>\n",
       "      <td>American Indian</td>\n",
       "      <td>not successful</td>\n",
       "      <td>25.000000</td>\n",
       "    </tr>\n",
       "    <tr>\n",
       "      <th>3</th>\n",
       "      <td>American Indian</td>\n",
       "      <td>successful</td>\n",
       "      <td>20.285714</td>\n",
       "    </tr>\n",
       "    <tr>\n",
       "      <th>4</th>\n",
       "      <td>Asian or Pacific Islander</td>\n",
       "      <td>not successful</td>\n",
       "      <td>30.000000</td>\n",
       "    </tr>\n",
       "    <tr>\n",
       "      <th>5</th>\n",
       "      <td>Asian or Pacific Islander</td>\n",
       "      <td>successful</td>\n",
       "      <td>5.666667</td>\n",
       "    </tr>\n",
       "    <tr>\n",
       "      <th>6</th>\n",
       "      <td>Hispanic</td>\n",
       "      <td>successful</td>\n",
       "      <td>11.746667</td>\n",
       "    </tr>\n",
       "    <tr>\n",
       "      <th>7</th>\n",
       "      <td>Other or Multiple Race Groups</td>\n",
       "      <td>successful</td>\n",
       "      <td>6.178571</td>\n",
       "    </tr>\n",
       "    <tr>\n",
       "      <th>8</th>\n",
       "      <td>White</td>\n",
       "      <td>not successful</td>\n",
       "      <td>3.468750</td>\n",
       "    </tr>\n",
       "    <tr>\n",
       "      <th>9</th>\n",
       "      <td>White</td>\n",
       "      <td>successful</td>\n",
       "      <td>5.754678</td>\n",
       "    </tr>\n",
       "  </tbody>\n",
       "</table>\n",
       "</div>"
      ],
      "text/plain": [
       "                            race program_success  treatment_days\n",
       "0               African American  not successful       17.571429\n",
       "1               African American      successful       10.468750\n",
       "2                American Indian  not successful       25.000000\n",
       "3                American Indian      successful       20.285714\n",
       "4      Asian or Pacific Islander  not successful       30.000000\n",
       "5      Asian or Pacific Islander      successful        5.666667\n",
       "6                       Hispanic      successful       11.746667\n",
       "7  Other or Multiple Race Groups      successful        6.178571\n",
       "8                          White  not successful        3.468750\n",
       "9                          White      successful        5.754678"
      ]
     },
     "execution_count": 232,
     "metadata": {},
     "output_type": "execute_result"
    }
   ],
   "source": [
    "race_avgdays_ps"
   ]
  },
  {
   "cell_type": "code",
   "execution_count": null,
   "id": "9c4ab9cc",
   "metadata": {},
   "outputs": [],
   "source": []
  },
  {
   "cell_type": "code",
   "execution_count": null,
   "id": "6db24504",
   "metadata": {},
   "outputs": [],
   "source": []
  },
  {
   "cell_type": "code",
   "execution_count": null,
   "id": "df299bc1",
   "metadata": {},
   "outputs": [],
   "source": []
  },
  {
   "cell_type": "code",
   "execution_count": null,
   "id": "e8c050a1",
   "metadata": {},
   "outputs": [],
   "source": []
  },
  {
   "cell_type": "code",
   "execution_count": null,
   "id": "dc7de0f4",
   "metadata": {},
   "outputs": [],
   "source": []
  },
  {
   "cell_type": "code",
   "execution_count": null,
   "id": "e54669f6",
   "metadata": {},
   "outputs": [],
   "source": []
  },
  {
   "cell_type": "code",
   "execution_count": null,
   "id": "c5fbc4c2",
   "metadata": {},
   "outputs": [],
   "source": []
  },
  {
   "cell_type": "code",
   "execution_count": null,
   "id": "d9f38528",
   "metadata": {},
   "outputs": [],
   "source": []
  },
  {
   "cell_type": "code",
   "execution_count": null,
   "id": "302194fc",
   "metadata": {},
   "outputs": [],
   "source": []
  },
  {
   "cell_type": "code",
   "execution_count": null,
   "id": "49e1e428",
   "metadata": {},
   "outputs": [],
   "source": []
  },
  {
   "cell_type": "code",
   "execution_count": null,
   "id": "d9b5abd7",
   "metadata": {},
   "outputs": [],
   "source": []
  },
  {
   "cell_type": "code",
   "execution_count": 294,
   "id": "1e3f3516",
   "metadata": {},
   "outputs": [
    {
     "data": {
      "text/plain": [
       "<AxesSubplot:xlabel='start_year_month', ylabel='treatment_days'>"
      ]
     },
     "execution_count": 294,
     "metadata": {},
     "output_type": "execute_result"
    },
    {
     "data": {
      "image/png": "[encoded data removed]",
      "text/plain": [
       "<Figure size 432x288 with 1 Axes>"
      ]
     },
     "metadata": {},
     "output_type": "display_data"
    }
   ],
   "source": [
    "\n",
    "data_race_time_days = data.groupby(['race', 'start_year_month']).mean().reset_index()[['race', 'start_year_month', 'treatment_days']]#['African American'] ##.reset_index()\n",
    "\n",
    "data_race_time_days['start_year_month'] = pd.to_datetime(data_race_time_days['start_year_month']+\"-01\")\n",
    "sns.lineplot(data=data_race_time_days, x='start_year_month', y='treatment_days', hue='race')"
   ]
  },
  {
   "cell_type": "code",
   "execution_count": null,
   "id": "160790c2",
   "metadata": {},
   "outputs": [],
   "source": []
  },
  {
   "cell_type": "code",
   "execution_count": 283,
   "id": "75c956be",
   "metadata": {},
   "outputs": [
    {
     "data": {
      "text/plain": [
       "<AxesSubplot:xlabel='gender,disability,age_group,race,success'>"
      ]
     },
     "execution_count": 283,
     "metadata": {},
     "output_type": "execute_result"
    },
    {
     "data": {
      "image/png": "[encoded data removed]",
      "text/plain": [
       "<Figure size 1440x720 with 1 Axes>"
      ]
     },
     "metadata": {},
     "output_type": "display_data"
    }
   ],
   "source": [
    "fig, ax = plt.subplots(figsize=(20, 10))\n",
    "# test[test['treatment_days']>5].head(50).sort_values('treatment_days').plot.bar(ax=ax)\n",
    "test.head(50).sort_values('treatment_days').plot.bar(ax=ax)"
   ]
  },
  {
   "cell_type": "code",
   "execution_count": null,
   "id": "a0cfd3f6",
   "metadata": {},
   "outputs": [],
   "source": []
  },
  {
   "cell_type": "code",
   "execution_count": null,
   "id": "d36d21a6",
   "metadata": {},
   "outputs": [],
   "source": []
  },
  {
   "cell_type": "code",
   "execution_count": null,
   "id": "31abfb7e",
   "metadata": {},
   "outputs": [],
   "source": []
  },
  {
   "cell_type": "code",
   "execution_count": null,
   "id": "475e1bc0",
   "metadata": {},
   "outputs": [],
   "source": []
  },
  {
   "cell_type": "code",
   "execution_count": null,
   "id": "06d0eda8",
   "metadata": {},
   "outputs": [],
   "source": []
  },
  {
   "cell_type": "code",
   "execution_count": null,
   "id": "80dd8686",
   "metadata": {},
   "outputs": [],
   "source": []
  },
  {
   "cell_type": "markdown",
   "id": "d6958ca8",
   "metadata": {},
   "source": []
  },
  {
   "cell_type": "markdown",
   "id": "18f9d2fe",
   "metadata": {},
   "source": []
  },
  {
   "cell_type": "code",
   "execution_count": 15,
   "id": "5b67c5fd",
   "metadata": {},
   "outputs": [],
   "source": []
  },
  {
   "cell_type": "markdown",
   "id": "95ba29c9",
   "metadata": {},
   "source": []
  },
  {
   "cell_type": "markdown",
   "id": "b25ba858",
   "metadata": {},
   "source": []
  },
  {
   "cell_type": "markdown",
   "id": "8e15d7d5",
   "metadata": {},
   "source": [
    "<b> TASK: Explore whether certain groups of people are staying in the Substance Use Detox Program longer than expected (i.e., longer than five days) </b>"
   ]
  },
  {
   "cell_type": "code",
   "execution_count": null,
   "id": "08e9a2cd",
   "metadata": {},
   "outputs": [],
   "source": []
  },
  {
   "cell_type": "code",
   "execution_count": null,
   "id": "8b29bcd2",
   "metadata": {},
   "outputs": [],
   "source": []
  },
  {
   "cell_type": "code",
   "execution_count": null,
   "id": "671ebd44",
   "metadata": {},
   "outputs": [],
   "source": []
  },
  {
   "cell_type": "code",
   "execution_count": null,
   "id": "7872f504",
   "metadata": {},
   "outputs": [],
   "source": []
  },
  {
   "cell_type": "code",
   "execution_count": null,
   "id": "431b1f21",
   "metadata": {},
   "outputs": [],
   "source": []
  },
  {
   "cell_type": "markdown",
   "id": "bcc668c4",
   "metadata": {},
   "source": [
    "### 2. Data Analysis"
   ]
  },
  {
   "cell_type": "markdown",
   "id": "a23c01d2",
   "metadata": {},
   "source": [
    "##### Prepare Data"
   ]
  },
  {
   "cell_type": "code",
   "execution_count": null,
   "id": "a3df05a5",
   "metadata": {},
   "outputs": [],
   "source": [
    "# import necessary packages\n",
    "import os\n",
    "import numpy as np\n",
    "import pandas as pd\n",
    "\n",
    "import matplotlib.pyplot as plt\n",
    "import seaborn as sns\n",
    "\n",
    "from sklearn.preprocessing import StandardScaler"
   ]
  },
  {
   "cell_type": "code",
   "execution_count": 54,
   "id": "91ee9302",
   "metadata": {},
   "outputs": [],
   "source": [
    "# read in interim 'data' data\n",
    "data = pd.read_csv(\"data/processed/data.csv\")"
   ]
  },
  {
   "cell_type": "code",
   "execution_count": 274,
   "id": "447222d6",
   "metadata": {},
   "outputs": [],
   "source": [
    "# drop unnecessary columns\n",
    "data2 = data.drop(['age', 'start_date', 'start_freq', 'exit_date', 'exit_substance', 'exit_freq', 'start_freq_relative', 'exit_freq_relative', \n",
    "           'change_freq', 'change_freq_pctpt', 'change_substance'], axis = 1)"
   ]
  },
  {
   "cell_type": "markdown",
   "id": "f3f71185",
   "metadata": {},
   "source": [
    "##### Explore Data "
   ]
  },
  {
   "cell_type": "code",
   "execution_count": 115,
   "id": "1e41c121",
   "metadata": {},
   "outputs": [
    {
     "data": {
      "image/png": "[encoded data removed]",
      "text/plain": [
       "<Figure size 720x288 with 1 Axes>"
      ]
     },
     "metadata": {},
     "output_type": "display_data"
    }
   ],
   "source": [
    "# gender\n",
    "genders = data2.gender.value_counts()\n",
    "sns.set_style(\"darkgrid\")\n",
    "plt.figure(figsize=(10,4))\n",
    "sns.barplot(x=genders.index, y=genders.values)\n",
    "plt.show()"
   ]
  },
  {
   "cell_type": "code",
   "execution_count": 116,
   "id": "3127f415",
   "metadata": {},
   "outputs": [
    {
     "data": {
      "image/png": "[encoded data removed]",
      "text/plain": [
       "<Figure size 1080x360 with 1 Axes>"
      ]
     },
     "metadata": {},
     "output_type": "display_data"
    }
   ],
   "source": [
    "# race\n",
    "race = data2.race.value_counts()\n",
    "sns.set_style(\"darkgrid\")\n",
    "plt.figure(figsize=(15,5))\n",
    "sns.barplot(x=race.index, y=race.values)\n",
    "plt.show()"
   ]
  },
  {
   "cell_type": "code",
   "execution_count": 117,
   "id": "f60f63d9",
   "metadata": {},
   "outputs": [
    {
     "data": {
      "image/png": "[encoded data removed]",
      "text/plain": [
       "<Figure size 1080x360 with 1 Axes>"
      ]
     },
     "metadata": {},
     "output_type": "display_data"
    }
   ],
   "source": [
    "# disability\n",
    "disability = data2.disability.value_counts()\n",
    "sns.set_style(\"darkgrid\")\n",
    "plt.figure(figsize=(15,5))\n",
    "sns.barplot(x=disability.index, y=disability.values)\n",
    "plt.show()"
   ]
  },
  {
   "cell_type": "code",
   "execution_count": 118,
   "id": "af3a5231",
   "metadata": {},
   "outputs": [
    {
     "data": {
      "image/png": "[encoded data removed]",
      "text/plain": [
       "<Figure size 1080x360 with 1 Axes>"
      ]
     },
     "metadata": {},
     "output_type": "display_data"
    }
   ],
   "source": [
    "# start_substance\n",
    "start_substance = data2.start_substance.value_counts()\n",
    "sns.set_style(\"darkgrid\")\n",
    "plt.figure(figsize=(15,5))\n",
    "sns.barplot(x=start_substance.index, y=start_substance.values)\n",
    "plt.show()"
   ]
  },
  {
   "cell_type": "code",
   "execution_count": 120,
   "id": "f7f5dfcb",
   "metadata": {},
   "outputs": [
    {
     "data": {
      "image/png": "[encoded data removed]",
      "text/plain": [
       "<Figure size 1080x360 with 1 Axes>"
      ]
     },
     "metadata": {},
     "output_type": "display_data"
    }
   ],
   "source": [
    "# treatment_days\n",
    "treatment_days = data2.treatment_days.value_counts()\n",
    "sns.set_style(\"darkgrid\")\n",
    "plt.figure(figsize=(15,5))\n",
    "sns.barplot(x=treatment_days.index, y=treatment_days.values)\n",
    "plt.show()"
   ]
  },
  {
   "cell_type": "code",
   "execution_count": 121,
   "id": "f140ee08",
   "metadata": {},
   "outputs": [
    {
     "data": {
      "image/png": "[encoded data removed]",
      "text/plain": [
       "<Figure size 1800x360 with 1 Axes>"
      ]
     },
     "metadata": {},
     "output_type": "display_data"
    }
   ],
   "source": [
    "# change_freq_relative\n",
    "change_freq_relative = data2.change_freq_relative.value_counts()\n",
    "sns.set_style(\"darkgrid\")\n",
    "plt.figure(figsize=(25,5))\n",
    "sns.barplot(x=change_freq_relative.index, y=change_freq_relative.values)\n",
    "plt.show()"
   ]
  },
  {
   "cell_type": "code",
   "execution_count": 122,
   "id": "6c9f07a0",
   "metadata": {},
   "outputs": [
    {
     "data": {
      "image/png": "[encoded data removed]",
      "text/plain": [
       "<Figure size 1800x360 with 1 Axes>"
      ]
     },
     "metadata": {},
     "output_type": "display_data"
    }
   ],
   "source": [
    "# start_year_month\n",
    "start_date = data2.start_year_month.value_counts()\n",
    "sns.set_style(\"darkgrid\")\n",
    "plt.figure(figsize=(25,5))\n",
    "sns.barplot(x=start_date.index, y=start_date.values)\n",
    "plt.show()"
   ]
  },
  {
   "cell_type": "code",
   "execution_count": 123,
   "id": "52e444ff",
   "metadata": {},
   "outputs": [
    {
     "data": {
      "image/png": "[encoded data removed]",
      "text/plain": [
       "<Figure size 1080x360 with 1 Axes>"
      ]
     },
     "metadata": {},
     "output_type": "display_data"
    }
   ],
   "source": [
    "# age_group\n",
    "age = data2.age_group.value_counts()\n",
    "sns.set_style(\"darkgrid\")\n",
    "plt.figure(figsize=(15,5))\n",
    "sns.barplot(x=age.index, y=age.values)\n",
    "plt.show()"
   ]
  },
  {
   "cell_type": "code",
   "execution_count": 124,
   "id": "c738ecc5",
   "metadata": {},
   "outputs": [
    {
     "data": {
      "image/png": "[encoded data removed]",
      "text/plain": [
       "<Figure size 1080x360 with 1 Axes>"
      ]
     },
     "metadata": {},
     "output_type": "display_data"
    }
   ],
   "source": [
    "# program_success\n",
    "program_success = data.program_success.value_counts()\n",
    "sns.set_style(\"darkgrid\")\n",
    "plt.figure(figsize=(15,5))\n",
    "sns.barplot(x=program_success.index, y=program_success.values)\n",
    "plt.show()"
   ]
  },
  {
   "cell_type": "code",
   "execution_count": 125,
   "id": "28db9795",
   "metadata": {},
   "outputs": [
    {
     "data": {
      "image/png": "[encoded data removed]",
      "text/plain": [
       "<Figure size 1080x360 with 1 Axes>"
      ]
     },
     "metadata": {},
     "output_type": "display_data"
    }
   ],
   "source": [
    "# enrollment_v_target\n",
    "enrollment_v_target = data.enrollment_v_target.value_counts()\n",
    "sns.set_style(\"darkgrid\")\n",
    "plt.figure(figsize=(15,5))\n",
    "sns.barplot(x=enrollment_v_target.index, y=enrollment_v_target.values)\n",
    "plt.show()"
   ]
  },
  {
   "cell_type": "code",
   "execution_count": 271,
   "id": "fd29d02b",
   "metadata": {},
   "outputs": [],
   "source": []
  },
  {
   "cell_type": "code",
   "execution_count": null,
   "id": "4d2f4e4c",
   "metadata": {},
   "outputs": [],
   "source": []
  },
  {
   "cell_type": "code",
   "execution_count": 134,
   "id": "be52942d",
   "metadata": {},
   "outputs": [],
   "source": []
  },
  {
   "cell_type": "code",
   "execution_count": null,
   "id": "fb71e6b3",
   "metadata": {},
   "outputs": [],
   "source": []
  },
  {
   "cell_type": "code",
   "execution_count": null,
   "id": "92df1f0e",
   "metadata": {},
   "outputs": [],
   "source": []
  },
  {
   "cell_type": "code",
   "execution_count": null,
   "id": "9a40f97c",
   "metadata": {},
   "outputs": [],
   "source": []
  },
  {
   "cell_type": "code",
   "execution_count": null,
   "id": "3e249f03",
   "metadata": {},
   "outputs": [],
   "source": []
  },
  {
   "cell_type": "code",
   "execution_count": null,
   "id": "c9eb7b18",
   "metadata": {},
   "outputs": [],
   "source": [
    "# https://zachary-a-zazueta.medium.com/k-prototypes-clustering-for-when-youre-clustering-continuous-and-categorical-data-6ea42c2ab2b9\n",
    "# https://github.com/zachzazueta/telecom_churn_project/blob/master/Notebook%202%20-%20Cleaning%20and%20KPrototypes2.ipynb"
   ]
  },
  {
   "cell_type": "code",
   "execution_count": 170,
   "id": "f55eb915",
   "metadata": {},
   "outputs": [],
   "source": [
    "from sklearn.preprocessing import StandardScaler"
   ]
  },
  {
   "cell_type": "code",
   "execution_count": 151,
   "id": "7592e4bc",
   "metadata": {},
   "outputs": [],
   "source": [
    "from tqdm import tqdm"
   ]
  },
  {
   "cell_type": "code",
   "execution_count": 153,
   "id": "09a2681a",
   "metadata": {},
   "outputs": [],
   "source": [
    "from plotly import graph_objects as go"
   ]
  },
  {
   "cell_type": "code",
   "execution_count": 161,
   "id": "b6b786cc",
   "metadata": {},
   "outputs": [],
   "source": [
    "from matplotlib import style"
   ]
  },
  {
   "cell_type": "code",
   "execution_count": 276,
   "id": "faec1fe7",
   "metadata": {},
   "outputs": [
    {
     "data": {
      "text/html": [
       "<div>\n",
       "<style scoped>\n",
       "    .dataframe tbody tr th:only-of-type {\n",
       "        vertical-align: middle;\n",
       "    }\n",
       "\n",
       "    .dataframe tbody tr th {\n",
       "        vertical-align: top;\n",
       "    }\n",
       "\n",
       "    .dataframe thead th {\n",
       "        text-align: right;\n",
       "    }\n",
       "</style>\n",
       "<table border=\"1\" class=\"dataframe\">\n",
       "  <thead>\n",
       "    <tr style=\"text-align: right;\">\n",
       "      <th></th>\n",
       "      <th>gender</th>\n",
       "      <th>race</th>\n",
       "      <th>disability</th>\n",
       "      <th>start_substance</th>\n",
       "      <th>treatment_days</th>\n",
       "      <th>change_freq_relative</th>\n",
       "      <th>start_year_month</th>\n",
       "      <th>age_group</th>\n",
       "      <th>program_success</th>\n",
       "      <th>enrollment_v_target</th>\n",
       "      <th>race_general</th>\n",
       "    </tr>\n",
       "  </thead>\n",
       "  <tbody>\n",
       "    <tr>\n",
       "      <th>0</th>\n",
       "      <td>female</td>\n",
       "      <td>White</td>\n",
       "      <td>Yes</td>\n",
       "      <td>alcohol</td>\n",
       "      <td>-0.63549</td>\n",
       "      <td>0.027804</td>\n",
       "      <td>2015-12</td>\n",
       "      <td>51-70</td>\n",
       "      <td>successful</td>\n",
       "      <td>&lt;= 5 days</td>\n",
       "      <td>white</td>\n",
       "    </tr>\n",
       "    <tr>\n",
       "      <th>1</th>\n",
       "      <td>female</td>\n",
       "      <td>White</td>\n",
       "      <td>No</td>\n",
       "      <td>alcohol</td>\n",
       "      <td>-0.63549</td>\n",
       "      <td>0.246362</td>\n",
       "      <td>2016-01</td>\n",
       "      <td>51-70</td>\n",
       "      <td>successful</td>\n",
       "      <td>&lt;= 5 days</td>\n",
       "      <td>white</td>\n",
       "    </tr>\n",
       "    <tr>\n",
       "      <th>2</th>\n",
       "      <td>male</td>\n",
       "      <td>White</td>\n",
       "      <td>Yes</td>\n",
       "      <td>alcohol</td>\n",
       "      <td>-0.63549</td>\n",
       "      <td>0.270647</td>\n",
       "      <td>2015-09</td>\n",
       "      <td>51-70</td>\n",
       "      <td>not successful</td>\n",
       "      <td>&lt;= 5 days</td>\n",
       "      <td>white</td>\n",
       "    </tr>\n",
       "    <tr>\n",
       "      <th>3</th>\n",
       "      <td>male</td>\n",
       "      <td>African American</td>\n",
       "      <td>No</td>\n",
       "      <td>alcohol</td>\n",
       "      <td>-0.63549</td>\n",
       "      <td>-0.409313</td>\n",
       "      <td>2016-05</td>\n",
       "      <td>20-30</td>\n",
       "      <td>successful</td>\n",
       "      <td>&lt;= 5 days</td>\n",
       "      <td>BIPOC</td>\n",
       "    </tr>\n",
       "    <tr>\n",
       "      <th>4</th>\n",
       "      <td>male</td>\n",
       "      <td>White</td>\n",
       "      <td>No</td>\n",
       "      <td>alcohol</td>\n",
       "      <td>-0.63549</td>\n",
       "      <td>-0.457881</td>\n",
       "      <td>2015-08</td>\n",
       "      <td>51-70</td>\n",
       "      <td>successful</td>\n",
       "      <td>&lt;= 5 days</td>\n",
       "      <td>white</td>\n",
       "    </tr>\n",
       "  </tbody>\n",
       "</table>\n",
       "</div>"
      ],
      "text/plain": [
       "   gender              race disability start_substance  treatment_days  \\\n",
       "0  female             White        Yes         alcohol        -0.63549   \n",
       "1  female             White         No         alcohol        -0.63549   \n",
       "2    male             White        Yes         alcohol        -0.63549   \n",
       "3    male  African American         No         alcohol        -0.63549   \n",
       "4    male             White         No         alcohol        -0.63549   \n",
       "\n",
       "   change_freq_relative start_year_month age_group program_success  \\\n",
       "0              0.027804          2015-12     51-70      successful   \n",
       "1              0.246362          2016-01     51-70      successful   \n",
       "2              0.270647          2015-09     51-70  not successful   \n",
       "3             -0.409313          2016-05     20-30      successful   \n",
       "4             -0.457881          2015-08     51-70      successful   \n",
       "\n",
       "  enrollment_v_target race_general  \n",
       "0           <= 5 days        white  \n",
       "1           <= 5 days        white  \n",
       "2           <= 5 days        white  \n",
       "3           <= 5 days        BIPOC  \n",
       "4           <= 5 days        white  "
      ]
     },
     "execution_count": 276,
     "metadata": {},
     "output_type": "execute_result"
    }
   ],
   "source": [
    "#preprocessing numerical\n",
    "Num_features = data2.select_dtypes(include=['int16', 'float64']).columns\n",
    "data2[Num_features] = StandardScaler().fit_transform(data2[Num_features])\n",
    "data2.head()"
   ]
  },
  {
   "cell_type": "code",
   "execution_count": 277,
   "id": "8500563f",
   "metadata": {},
   "outputs": [
    {
     "name": "stderr",
     "output_type": "stream",
     "text": [
      "  0%|                                                                                            | 0/8 [00:00<?, ?it/s]"
     ]
    },
    {
     "name": "stdout",
     "output_type": "stream",
     "text": [
      "Init: initializing centroids\n",
      "Init: initializing clusters\n",
      "Starting iterations...\n",
      "Run: 1, iteration: 1/100, moves: 280, ncost: 2042.1661932399268\n",
      "Run: 1, iteration: 2/100, moves: 48, ncost: 2019.6931903567333\n",
      "Run: 1, iteration: 3/100, moves: 14, ncost: 2016.804159773051\n",
      "Run: 1, iteration: 4/100, moves: 1, ncost: 2016.7693082483484\n",
      "Run: 1, iteration: 5/100, moves: 0, ncost: 2016.7693082483484\n",
      "Init: initializing centroids\n",
      "Init: initializing clusters\n",
      "Starting iterations...\n",
      "Run: 2, iteration: 1/100, moves: 5, ncost: 1963.5108986854807\n",
      "Run: 2, iteration: 2/100, moves: 0, ncost: 1963.5108986854807\n",
      "Init: initializing centroids\n",
      "Init: initializing clusters\n",
      "Starting iterations...\n",
      "Run: 3, iteration: 1/100, moves: 333, ncost: 2049.2328823332005\n",
      "Run: 3, iteration: 2/100, moves: 60, ncost: 2019.720462546891\n",
      "Run: 3, iteration: 3/100, moves: 14, ncost: 2016.8041597730512\n",
      "Run: 3, iteration: 4/100, moves: 1, ncost: 2016.7693082483486\n",
      "Run: 3, iteration: 5/100, moves: 0, ncost: 2016.7693082483486\n",
      "Init: initializing centroids\n",
      "Init: initializing clusters\n",
      "Starting iterations...\n",
      "Run: 4, iteration: 1/100, moves: 9, ncost: 2023.9041315979468\n",
      "Run: 4, iteration: 2/100, moves: 2, ncost: 2022.115408268339\n",
      "Run: 4, iteration: 3/100, moves: 0, ncost: 2022.115408268339\n",
      "Init: initializing centroids\n",
      "Init: initializing clusters\n",
      "Starting iterations...\n",
      "Run: 5, iteration: 1/100, moves: 262, ncost: 2036.8506068512852\n",
      "Run: 5, iteration: 2/100, moves: 30, ncost: 2019.6931903567333\n",
      "Run: 5, iteration: 3/100, moves: 14, ncost: 2016.804159773051\n",
      "Run: 5, iteration: 4/100, moves: 1, ncost: 2016.7693082483486\n",
      "Run: 5, iteration: 5/100, moves: 0, ncost: 2016.7693082483486\n",
      "Init: initializing centroids\n",
      "Init: initializing clusters\n",
      "Starting iterations...\n",
      "Run: 6, iteration: 1/100, moves: 346, ncost: 2061.38271478993\n",
      "Run: 6, iteration: 2/100, moves: 45, ncost: 2031.5554582815355\n",
      "Run: 6, iteration: 3/100, moves: 17, ncost: 2022.607730899354\n",
      "Run: 6, iteration: 4/100, moves: 7, ncost: 2021.867348107065\n",
      "Run: 6, iteration: 5/100, moves: 1, ncost: 2021.834326841268\n",
      "Run: 6, iteration: 6/100, moves: 0, ncost: 2021.834326841268\n",
      "Init: initializing centroids\n",
      "Init: initializing clusters\n",
      "Starting iterations...\n",
      "Run: 7, iteration: 1/100, moves: 215, ncost: 2139.3196813516906\n",
      "Run: 7, iteration: 2/100, moves: 157, ncost: 2045.5149484895524\n",
      "Run: 7, iteration: 3/100, moves: 49, ncost: 2019.6931903567333\n",
      "Run: 7, iteration: 4/100, moves: 14, ncost: 2016.8041597730512\n",
      "Run: 7, iteration: 5/100, moves: 1, ncost: 2016.7693082483484\n",
      "Run: 7, iteration: 6/100, moves: 0, ncost: 2016.7693082483484\n",
      "Init: initializing centroids\n",
      "Init: initializing clusters\n",
      "Starting iterations...\n",
      "Run: 8, iteration: 1/100, moves: 21, ncost: 1963.5108986854805\n",
      "Run: 8, iteration: 2/100, moves: 0, ncost: 1963.5108986854805\n",
      "Init: initializing centroids\n",
      "Init: initializing clusters\n",
      "Starting iterations...\n",
      "Run: 9, iteration: 1/100, moves: 227, ncost: 2180.4771235373278\n",
      "Run: 9, iteration: 2/100, moves: 203, ncost: 2030.5726003256962\n",
      "Run: 9, iteration: 3/100, moves: 19, ncost: 2023.8135166624072\n",
      "Run: 9, iteration: 4/100, moves: 4, ncost: 2021.8673481070648\n",
      "Run: 9, iteration: 5/100, moves: 1, ncost: 2021.8343268412682\n",
      "Run: 9, iteration: 6/100, moves: 0, ncost: 2021.8343268412682\n",
      "Init: initializing centroids\n",
      "Init: initializing clusters\n",
      "Starting iterations...\n",
      "Run: 10, iteration: 1/100, moves: 307, ncost: 2048.2429970429175\n",
      "Run: 10, iteration: 2/100, moves: 58, ncost: 2019.720462546892\n",
      "Run: 10, iteration: 3/100, moves: 14, ncost: 2016.8041597730512\n"
     ]
    },
    {
     "name": "stderr",
     "output_type": "stream",
     "text": [
      " 12%|██████████▌                                                                         | 1/8 [00:11<01:18, 11.17s/it]"
     ]
    },
    {
     "name": "stdout",
     "output_type": "stream",
     "text": [
      "Run: 10, iteration: 4/100, moves: 1, ncost: 2016.7693082483486\n",
      "Run: 10, iteration: 5/100, moves: 0, ncost: 2016.7693082483486\n",
      "Best run was number 8\n",
      "Init: initializing centroids\n",
      "Init: initializing clusters\n",
      "Starting iterations...\n",
      "Run: 1, iteration: 1/100, moves: 406, ncost: 2009.426078572097\n",
      "Run: 1, iteration: 2/100, moves: 122, ncost: 1944.8791904493994\n",
      "Run: 1, iteration: 3/100, moves: 28, ncost: 1937.4039896704169\n",
      "Run: 1, iteration: 4/100, moves: 17, ncost: 1934.1688163100519\n",
      "Run: 1, iteration: 5/100, moves: 5, ncost: 1934.1204085152974\n",
      "Run: 1, iteration: 6/100, moves: 1, ncost: 1934.1192044402005\n",
      "Run: 1, iteration: 7/100, moves: 0, ncost: 1934.1192044402005\n",
      "Init: initializing centroids\n",
      "Init: initializing clusters\n",
      "Starting iterations...\n",
      "Run: 2, iteration: 1/100, moves: 198, ncost: 1891.3686957308291\n",
      "Run: 2, iteration: 2/100, moves: 25, ncost: 1889.7056516883686\n",
      "Run: 2, iteration: 3/100, moves: 4, ncost: 1889.611982294007\n",
      "Run: 2, iteration: 4/100, moves: 2, ncost: 1889.5934964645983\n",
      "Run: 2, iteration: 5/100, moves: 0, ncost: 1889.5934964645983\n",
      "Init: initializing centroids\n",
      "Init: initializing clusters\n",
      "Starting iterations...\n",
      "Run: 3, iteration: 1/100, moves: 95, ncost: 1828.0392531826578\n",
      "Run: 3, iteration: 2/100, moves: 4, ncost: 1826.195812365445\n",
      "Run: 3, iteration: 3/100, moves: 1, ncost: 1826.130583324696\n",
      "Run: 3, iteration: 4/100, moves: 0, ncost: 1826.130583324696\n",
      "Init: initializing centroids\n",
      "Init: initializing clusters\n",
      "Init: initializing centroids\n",
      "Init: initializing clusters\n",
      "Starting iterations...\n",
      "Run: 4, iteration: 1/100, moves: 180, ncost: 1916.8877167347505\n",
      "Run: 4, iteration: 2/100, moves: 45, ncost: 1695.7847068088226\n",
      "Run: 4, iteration: 3/100, moves: 8, ncost: 1461.947859187749\n",
      "Run: 4, iteration: 4/100, moves: 0, ncost: 1461.947859187749\n",
      "Init: initializing centroids\n",
      "Init: initializing clusters\n",
      "Starting iterations...\n",
      "Run: 5, iteration: 1/100, moves: 222, ncost: 1899.830222086382\n",
      "Run: 5, iteration: 2/100, moves: 33, ncost: 1895.4891877293162\n",
      "Run: 5, iteration: 3/100, moves: 8, ncost: 1895.4449401427269\n",
      "Run: 5, iteration: 4/100, moves: 4, ncost: 1895.4348386910128\n",
      "Run: 5, iteration: 5/100, moves: 1, ncost: 1895.434691426374\n",
      "Run: 5, iteration: 6/100, moves: 0, ncost: 1895.434691426374\n",
      "Init: initializing centroids\n",
      "Init: initializing clusters\n",
      "Starting iterations...\n",
      "Run: 6, iteration: 1/100, moves: 131, ncost: 1840.2357354205542\n",
      "Run: 6, iteration: 2/100, moves: 39, ncost: 1836.8234635272304\n",
      "Run: 6, iteration: 3/100, moves: 6, ncost: 1836.753922298672\n",
      "Run: 6, iteration: 4/100, moves: 0, ncost: 1836.753922298672\n",
      "Init: initializing centroids\n",
      "Init: initializing clusters\n",
      "Init: initializing centroids\n",
      "Init: initializing clusters\n",
      "Starting iterations...\n",
      "Run: 7, iteration: 1/100, moves: 208, ncost: 1490.5931776942593\n",
      "Run: 7, iteration: 2/100, moves: 58, ncost: 1464.5054311880895\n",
      "Run: 7, iteration: 3/100, moves: 11, ncost: 1462.2786541573532\n",
      "Run: 7, iteration: 4/100, moves: 3, ncost: 1461.9812456920135\n",
      "Run: 7, iteration: 5/100, moves: 1, ncost: 1461.9478591877498\n",
      "Run: 7, iteration: 6/100, moves: 0, ncost: 1461.9478591877498\n",
      "Init: initializing centroids\n",
      "Init: initializing clusters\n",
      "Starting iterations...\n",
      "Run: 8, iteration: 1/100, moves: 110, ncost: 1546.5107600912308\n",
      "Run: 8, iteration: 2/100, moves: 13, ncost: 1462.278654157353\n",
      "Run: 8, iteration: 3/100, moves: 3, ncost: 1461.9812456920129\n",
      "Run: 8, iteration: 4/100, moves: 1, ncost: 1461.9478591877487\n",
      "Run: 8, iteration: 5/100, moves: 0, ncost: 1461.9478591877487\n",
      "Init: initializing centroids\n",
      "Init: initializing clusters\n",
      "Starting iterations...\n",
      "Run: 9, iteration: 1/100, moves: 269, ncost: 1901.193746902523\n",
      "Run: 9, iteration: 2/100, moves: 21, ncost: 1888.7471614383444\n",
      "Run: 9, iteration: 3/100, moves: 9, ncost: 1888.5801540650605\n",
      "Run: 9, iteration: 4/100, moves: 0, ncost: 1888.5801540650605\n",
      "Init: initializing centroids\n",
      "Init: initializing clusters\n",
      "Starting iterations...\n",
      "Run: 10, iteration: 1/100, moves: 161, ncost: 1474.9168969218279\n",
      "Run: 10, iteration: 2/100, moves: 22, ncost: 1463.6777098225434\n",
      "Run: 10, iteration: 3/100, moves: 10, ncost: 1461.9812456920129\n",
      "Run: 10, iteration: 4/100, moves: 1, ncost: 1461.9478591877494\n"
     ]
    },
    {
     "name": "stderr",
     "output_type": "stream",
     "text": [
      " 25%|█████████████████████                                                               | 2/8 [00:22<01:09, 11.50s/it]"
     ]
    },
    {
     "name": "stdout",
     "output_type": "stream",
     "text": [
      "Run: 10, iteration: 5/100, moves: 0, ncost: 1461.9478591877494\n",
      "Best run was number 8\n",
      "Init: initializing centroids\n",
      "Init: initializing clusters\n",
      "Starting iterations...\n",
      "Run: 1, iteration: 1/100, moves: 226, ncost: 1844.5945430490024\n",
      "Run: 1, iteration: 2/100, moves: 82, ncost: 1785.1751354500173\n",
      "Run: 1, iteration: 3/100, moves: 144, ncost: 1753.3853469730634\n",
      "Run: 1, iteration: 4/100, moves: 12, ncost: 1750.3318246317424\n",
      "Run: 1, iteration: 5/100, moves: 5, ncost: 1750.2139447179452\n",
      "Run: 1, iteration: 6/100, moves: 1, ncost: 1750.0720356171917\n",
      "Run: 1, iteration: 7/100, moves: 2, ncost: 1749.514744217734\n",
      "Run: 1, iteration: 8/100, moves: 0, ncost: 1749.514744217734\n",
      "Init: initializing centroids\n",
      "Init: initializing clusters\n",
      "Starting iterations...\n",
      "Run: 2, iteration: 1/100, moves: 309, ncost: 1516.1252610415809\n",
      "Run: 2, iteration: 2/100, moves: 86, ncost: 1349.0352914522398\n",
      "Run: 2, iteration: 3/100, moves: 25, ncost: 1345.5335161246878\n",
      "Run: 2, iteration: 4/100, moves: 10, ncost: 1345.0776756834282\n",
      "Run: 2, iteration: 5/100, moves: 2, ncost: 1345.0758394358854\n",
      "Run: 2, iteration: 6/100, moves: 0, ncost: 1345.0758394358854\n",
      "Init: initializing centroids\n",
      "Init: initializing clusters\n",
      "Init: initializing centroids\n",
      "Init: initializing clusters\n",
      "Starting iterations...\n",
      "Run: 3, iteration: 1/100, moves: 146, ncost: 1320.8905467710888\n",
      "Run: 3, iteration: 2/100, moves: 49, ncost: 1299.0959477077995\n",
      "Run: 3, iteration: 3/100, moves: 57, ncost: 1280.237737288917\n",
      "Run: 3, iteration: 4/100, moves: 28, ncost: 1276.6374663092506\n",
      "Run: 3, iteration: 5/100, moves: 1, ncost: 1276.499015253285\n",
      "Run: 3, iteration: 6/100, moves: 1, ncost: 1276.437432299973\n",
      "Run: 3, iteration: 7/100, moves: 0, ncost: 1276.437432299973\n",
      "Init: initializing centroids\n",
      "Init: initializing clusters\n",
      "Starting iterations...\n",
      "Run: 4, iteration: 1/100, moves: 166, ncost: 1306.1014051762654\n",
      "Run: 4, iteration: 2/100, moves: 61, ncost: 1284.6673972461253\n",
      "Run: 4, iteration: 3/100, moves: 21, ncost: 1276.0920613531507\n",
      "Run: 4, iteration: 4/100, moves: 7, ncost: 1276.0755254428793\n",
      "Run: 4, iteration: 5/100, moves: 0, ncost: 1276.0755254428793\n",
      "Init: initializing centroids\n",
      "Init: initializing clusters\n",
      "Starting iterations...\n",
      "Run: 5, iteration: 1/100, moves: 320, ncost: 1748.856429819062\n",
      "Run: 5, iteration: 2/100, moves: 50, ncost: 1746.945262331419\n",
      "Run: 5, iteration: 3/100, moves: 13, ncost: 1746.6739410962473\n",
      "Run: 5, iteration: 4/100, moves: 5, ncost: 1746.6299334553041\n",
      "Run: 5, iteration: 5/100, moves: 0, ncost: 1746.6299334553041\n",
      "Init: initializing centroids\n",
      "Init: initializing clusters\n",
      "Starting iterations...\n",
      "Run: 6, iteration: 1/100, moves: 113, ncost: 1308.4149114986528\n",
      "Run: 6, iteration: 2/100, moves: 35, ncost: 1280.740101103832\n",
      "Run: 6, iteration: 3/100, moves: 28, ncost: 1279.319729367424\n",
      "Run: 6, iteration: 4/100, moves: 5, ncost: 1276.6822749424277\n",
      "Run: 6, iteration: 5/100, moves: 2, ncost: 1276.1761184009722\n",
      "Run: 6, iteration: 6/100, moves: 0, ncost: 1276.1761184009722\n",
      "Init: initializing centroids\n",
      "Init: initializing clusters\n",
      "Starting iterations...\n",
      "Run: 7, iteration: 1/100, moves: 172, ncost: 1289.7851496098644\n",
      "Run: 7, iteration: 2/100, moves: 37, ncost: 1287.7269928572357\n",
      "Run: 7, iteration: 3/100, moves: 2, ncost: 1286.4504745926965\n",
      "Run: 7, iteration: 4/100, moves: 3, ncost: 1286.4474391244692\n",
      "Run: 7, iteration: 5/100, moves: 0, ncost: 1286.4474391244692\n",
      "Init: initializing centroids\n",
      "Init: initializing clusters\n",
      "Starting iterations...\n",
      "Run: 8, iteration: 1/100, moves: 111, ncost: 1410.360485483485\n",
      "Run: 8, iteration: 2/100, moves: 13, ncost: 1410.2069488301865\n",
      "Run: 8, iteration: 3/100, moves: 1, ncost: 1410.2061503175496\n",
      "Run: 8, iteration: 4/100, moves: 0, ncost: 1410.2061503175496\n",
      "Init: initializing centroids\n",
      "Init: initializing clusters\n",
      "Starting iterations...\n",
      "Run: 9, iteration: 1/100, moves: 124, ncost: 1739.9222457911926\n",
      "Run: 9, iteration: 2/100, moves: 33, ncost: 1738.3787931999113\n",
      "Run: 9, iteration: 3/100, moves: 14, ncost: 1738.2095312621605\n",
      "Run: 9, iteration: 4/100, moves: 9, ncost: 1738.1415711542968\n",
      "Run: 9, iteration: 5/100, moves: 0, ncost: 1738.1415711542968\n",
      "Init: initializing centroids\n",
      "Init: initializing clusters\n",
      "Init: initializing centroids\n",
      "Init: initializing clusters\n",
      "Starting iterations...\n",
      "Run: 10, iteration: 1/100, moves: 285, ncost: 1354.8803062620084\n",
      "Run: 10, iteration: 2/100, moves: 38, ncost: 1348.3756886048113\n",
      "Run: 10, iteration: 3/100, moves: 7, ncost: 1348.24318279544\n"
     ]
    },
    {
     "name": "stderr",
     "output_type": "stream",
     "text": [
      " 38%|███████████████████████████████▌                                                    | 3/8 [00:36<01:03, 12.68s/it]"
     ]
    },
    {
     "name": "stdout",
     "output_type": "stream",
     "text": [
      "Run: 10, iteration: 4/100, moves: 0, ncost: 1348.24318279544\n",
      "Best run was number 4\n",
      "Init: initializing centroids\n",
      "Init: initializing clusters\n",
      "Starting iterations...\n",
      "Run: 1, iteration: 1/100, moves: 215, ncost: 1719.5115483824893\n",
      "Run: 1, iteration: 2/100, moves: 31, ncost: 1718.6114724279041\n",
      "Run: 1, iteration: 3/100, moves: 15, ncost: 1717.431621803651\n",
      "Run: 1, iteration: 4/100, moves: 4, ncost: 1717.4259638521398\n",
      "Run: 1, iteration: 5/100, moves: 1, ncost: 1717.4256833919087\n",
      "Run: 1, iteration: 6/100, moves: 0, ncost: 1717.4256833919087\n",
      "Init: initializing centroids\n",
      "Init: initializing clusters\n",
      "Init: initializing centroids\n",
      "Init: initializing clusters\n",
      "Starting iterations...\n",
      "Run: 2, iteration: 1/100, moves: 272, ncost: 1310.8463643693667\n",
      "Run: 2, iteration: 2/100, moves: 27, ncost: 1292.434873389403\n",
      "Run: 2, iteration: 3/100, moves: 3, ncost: 1292.399832569818\n",
      "Run: 2, iteration: 4/100, moves: 0, ncost: 1292.399832569818\n",
      "Init: initializing centroids\n",
      "Init: initializing clusters\n",
      "Init: initializing centroids\n",
      "Init: initializing clusters\n",
      "Init: initializing centroids\n",
      "Init: initializing clusters\n",
      "Starting iterations...\n",
      "Run: 3, iteration: 1/100, moves: 150, ncost: 1283.9476625067746\n",
      "Run: 3, iteration: 2/100, moves: 42, ncost: 1282.8317769965872\n",
      "Run: 3, iteration: 3/100, moves: 8, ncost: 1282.7377363133996\n",
      "Run: 3, iteration: 4/100, moves: 2, ncost: 1282.733937801561\n",
      "Run: 3, iteration: 5/100, moves: 0, ncost: 1282.733937801561\n",
      "Init: initializing centroids\n",
      "Init: initializing clusters\n",
      "Starting iterations...\n",
      "Run: 4, iteration: 1/100, moves: 292, ncost: 1198.4882970302008\n",
      "Run: 4, iteration: 2/100, moves: 79, ncost: 1189.6228944331453\n",
      "Run: 4, iteration: 3/100, moves: 11, ncost: 1189.4881650187738\n",
      "Run: 4, iteration: 4/100, moves: 0, ncost: 1189.4881650187738\n",
      "Init: initializing centroids\n",
      "Init: initializing clusters\n",
      "Init: initializing centroids\n",
      "Init: initializing clusters\n",
      "Starting iterations...\n",
      "Run: 5, iteration: 1/100, moves: 228, ncost: 1282.334180836317\n",
      "Run: 5, iteration: 2/100, moves: 26, ncost: 1280.998197922451\n",
      "Run: 5, iteration: 3/100, moves: 4, ncost: 1280.8989391376074\n",
      "Run: 5, iteration: 4/100, moves: 6, ncost: 1280.8333196562348\n",
      "Run: 5, iteration: 5/100, moves: 0, ncost: 1280.8333196562348\n",
      "Init: initializing centroids\n",
      "Init: initializing clusters\n",
      "Starting iterations...\n",
      "Run: 6, iteration: 1/100, moves: 195, ncost: 1221.1650600497885\n",
      "Run: 6, iteration: 2/100, moves: 63, ncost: 1191.6156201371148\n",
      "Run: 6, iteration: 3/100, moves: 47, ncost: 1187.4632676863312\n",
      "Run: 6, iteration: 4/100, moves: 8, ncost: 1187.410067132947\n",
      "Run: 6, iteration: 5/100, moves: 0, ncost: 1187.410067132947\n",
      "Init: initializing centroids\n",
      "Init: initializing clusters\n",
      "Starting iterations...\n",
      "Run: 7, iteration: 1/100, moves: 268, ncost: 1669.2131611968448\n",
      "Run: 7, iteration: 2/100, moves: 16, ncost: 1669.0764813115247\n",
      "Run: 7, iteration: 3/100, moves: 4, ncost: 1668.3786012573921\n",
      "Run: 7, iteration: 4/100, moves: 0, ncost: 1668.3786012573921\n",
      "Init: initializing centroids\n",
      "Init: initializing clusters\n",
      "Starting iterations...\n",
      "Run: 8, iteration: 1/100, moves: 223, ncost: 1690.4350220685967\n",
      "Run: 8, iteration: 2/100, moves: 75, ncost: 1610.6389220120984\n",
      "Run: 8, iteration: 3/100, moves: 77, ncost: 1191.0985452636146\n",
      "Run: 8, iteration: 4/100, moves: 5, ncost: 1191.047265825843\n",
      "Run: 8, iteration: 5/100, moves: 0, ncost: 1191.047265825843\n",
      "Init: initializing centroids\n",
      "Init: initializing clusters\n",
      "Init: initializing centroids\n",
      "Init: initializing clusters\n",
      "Starting iterations...\n",
      "Run: 9, iteration: 1/100, moves: 279, ncost: 1354.2774729722996\n",
      "Run: 9, iteration: 2/100, moves: 89, ncost: 1293.9452981175891\n",
      "Run: 9, iteration: 3/100, moves: 5, ncost: 1293.9026801032767\n",
      "Run: 9, iteration: 4/100, moves: 0, ncost: 1293.9026801032767\n",
      "Init: initializing centroids\n",
      "Init: initializing clusters\n",
      "Starting iterations...\n",
      "Run: 10, iteration: 1/100, moves: 85, ncost: 1268.7005824596251\n",
      "Run: 10, iteration: 2/100, moves: 17, ncost: 1213.7259957936121\n",
      "Run: 10, iteration: 3/100, moves: 6, ncost: 1213.647922134901\n",
      "Run: 10, iteration: 4/100, moves: 0, ncost: 1213.647922134901\n",
      "Best run was number 6\n"
     ]
    },
    {
     "name": "stderr",
     "output_type": "stream",
     "text": [
      " 50%|██████████████████████████████████████████                                          | 4/8 [00:50<00:51, 12.87s/it]"
     ]
    },
    {
     "name": "stdout",
     "output_type": "stream",
     "text": [
      "Init: initializing centroids\n",
      "Init: initializing clusters\n",
      "Starting iterations...\n",
      "Run: 1, iteration: 1/100, moves: 354, ncost: 1714.0788383527808\n",
      "Run: 1, iteration: 2/100, moves: 149, ncost: 1667.6324375648753\n",
      "Run: 1, iteration: 3/100, moves: 26, ncost: 1663.7353047445308\n",
      "Run: 1, iteration: 4/100, moves: 39, ncost: 1646.2133860083006\n",
      "Run: 1, iteration: 5/100, moves: 38, ncost: 1640.7985634780284\n",
      "Run: 1, iteration: 6/100, moves: 78, ncost: 1404.928619253116\n",
      "Run: 1, iteration: 7/100, moves: 61, ncost: 1133.205030598155\n",
      "Run: 1, iteration: 8/100, moves: 6, ncost: 1133.1893508082287\n",
      "Run: 1, iteration: 9/100, moves: 1, ncost: 1133.1891562504518\n",
      "Run: 1, iteration: 10/100, moves: 0, ncost: 1133.1891562504518\n",
      "Init: initializing centroids\n",
      "Init: initializing clusters\n",
      "Starting iterations...\n",
      "Run: 2, iteration: 1/100, moves: 180, ncost: 1169.4375951662155\n",
      "Run: 2, iteration: 2/100, moves: 148, ncost: 1128.11405797303\n",
      "Run: 2, iteration: 3/100, moves: 8, ncost: 1128.0869148539782\n",
      "Run: 2, iteration: 4/100, moves: 0, ncost: 1128.0869148539782\n",
      "Init: initializing centroids\n",
      "Init: initializing clusters\n",
      "Starting iterations...\n",
      "Run: 3, iteration: 1/100, moves: 202, ncost: 1220.9577131792787\n",
      "Run: 3, iteration: 2/100, moves: 55, ncost: 1155.2920056967341\n",
      "Run: 3, iteration: 3/100, moves: 10, ncost: 1154.1966304840048\n",
      "Run: 3, iteration: 4/100, moves: 0, ncost: 1154.1966304840048\n",
      "Init: initializing centroids\n",
      "Init: initializing clusters\n",
      "Init: initializing centroids\n",
      "Init: initializing clusters\n",
      "Starting iterations...\n",
      "Run: 4, iteration: 1/100, moves: 216, ncost: 1188.1116383994058\n",
      "Run: 4, iteration: 2/100, moves: 52, ncost: 1186.2774336072364\n",
      "Run: 4, iteration: 3/100, moves: 21, ncost: 1185.5619810718479\n",
      "Run: 4, iteration: 4/100, moves: 18, ncost: 1168.62683418606\n",
      "Run: 4, iteration: 5/100, moves: 50, ncost: 1168.4343582839986\n",
      "Run: 4, iteration: 6/100, moves: 0, ncost: 1168.4343582839986\n",
      "Init: initializing centroids\n",
      "Init: initializing clusters\n",
      "Init: initializing centroids\n",
      "Init: initializing clusters\n",
      "Init: initializing centroids\n",
      "Init: initializing clusters\n",
      "Starting iterations...\n",
      "Run: 5, iteration: 1/100, moves: 364, ncost: 1270.5186411083437\n",
      "Run: 5, iteration: 2/100, moves: 53, ncost: 1148.4099217938679\n",
      "Run: 5, iteration: 3/100, moves: 20, ncost: 1146.5844572479643\n",
      "Run: 5, iteration: 4/100, moves: 8, ncost: 1145.6034880333686\n",
      "Run: 5, iteration: 5/100, moves: 7, ncost: 1145.046473033953\n",
      "Run: 5, iteration: 6/100, moves: 10, ncost: 1143.2700836745387\n",
      "Run: 5, iteration: 7/100, moves: 21, ncost: 1132.131732369833\n",
      "Run: 5, iteration: 8/100, moves: 8, ncost: 1127.5566320620471\n",
      "Run: 5, iteration: 9/100, moves: 18, ncost: 1120.033666877597\n",
      "Run: 5, iteration: 10/100, moves: 9, ncost: 1112.1936369230705\n",
      "Run: 5, iteration: 11/100, moves: 2, ncost: 1112.1617195052504\n",
      "Run: 5, iteration: 12/100, moves: 0, ncost: 1112.1617195052504\n",
      "Init: initializing centroids\n",
      "Init: initializing clusters\n",
      "Starting iterations...\n",
      "Run: 6, iteration: 1/100, moves: 341, ncost: 1233.394064172871\n",
      "Run: 6, iteration: 2/100, moves: 72, ncost: 1143.7097844924865\n",
      "Run: 6, iteration: 3/100, moves: 15, ncost: 1143.481187627997\n",
      "Run: 6, iteration: 4/100, moves: 0, ncost: 1143.481187627997\n",
      "Init: initializing centroids\n",
      "Init: initializing clusters\n",
      "Starting iterations...\n",
      "Run: 7, iteration: 1/100, moves: 245, ncost: 1634.2917898997528\n",
      "Run: 7, iteration: 2/100, moves: 167, ncost: 1617.9945463651227\n",
      "Run: 7, iteration: 3/100, moves: 38, ncost: 1616.5236476368138\n",
      "Run: 7, iteration: 4/100, moves: 2, ncost: 1616.5217893953238\n",
      "Run: 7, iteration: 5/100, moves: 0, ncost: 1616.5217893953238\n",
      "Init: initializing centroids\n",
      "Init: initializing clusters\n",
      "Starting iterations...\n",
      "Run: 8, iteration: 1/100, moves: 338, ncost: 1206.2453590556427\n",
      "Run: 8, iteration: 2/100, moves: 125, ncost: 1187.6271452033805\n",
      "Run: 8, iteration: 3/100, moves: 50, ncost: 1178.476346538301\n",
      "Run: 8, iteration: 4/100, moves: 15, ncost: 1175.1372760961242\n",
      "Run: 8, iteration: 5/100, moves: 8, ncost: 1175.1267099920187\n",
      "Run: 8, iteration: 6/100, moves: 0, ncost: 1175.1267099920187\n",
      "Init: initializing centroids\n",
      "Init: initializing clusters\n",
      "Init: initializing centroids\n",
      "Init: initializing clusters\n",
      "Init: initializing centroids\n",
      "Init: initializing clusters\n",
      "Init: initializing centroids\n",
      "Init: initializing clusters\n",
      "Init: initializing centroids\n",
      "Init: initializing clusters\n",
      "Starting iterations...\n",
      "Run: 9, iteration: 1/100, moves: 338, ncost: 1665.4182496752424\n",
      "Run: 9, iteration: 2/100, moves: 58, ncost: 1652.205971719449\n",
      "Run: 9, iteration: 3/100, moves: 31, ncost: 1647.8150208404766\n",
      "Run: 9, iteration: 4/100, moves: 29, ncost: 1633.226970723137\n",
      "Run: 9, iteration: 5/100, moves: 19, ncost: 1620.2394596925615\n",
      "Run: 9, iteration: 6/100, moves: 11, ncost: 1615.0827370569607\n",
      "Run: 9, iteration: 7/100, moves: 18, ncost: 1603.9607368126576\n",
      "Run: 9, iteration: 8/100, moves: 4, ncost: 1603.6542665132986\n",
      "Run: 9, iteration: 9/100, moves: 0, ncost: 1603.6542665132986\n",
      "Init: initializing centroids\n",
      "Init: initializing clusters\n",
      "Starting iterations...\n",
      "Run: 10, iteration: 1/100, moves: 300, ncost: 1341.1158628261956\n",
      "Run: 10, iteration: 2/100, moves: 46, ncost: 1172.4323230664424\n",
      "Run: 10, iteration: 3/100, moves: 2, ncost: 1157.1558422155813\n",
      "Run: 10, iteration: 4/100, moves: 1, ncost: 1157.1547456813921\n"
     ]
    },
    {
     "name": "stderr",
     "output_type": "stream",
     "text": [
      " 62%|████████████████████████████████████████████████████▌                               | 5/8 [01:10<00:46, 15.42s/it]"
     ]
    },
    {
     "name": "stdout",
     "output_type": "stream",
     "text": [
      "Run: 10, iteration: 5/100, moves: 0, ncost: 1157.1547456813921\n",
      "Best run was number 5\n",
      "Init: initializing centroids\n",
      "Init: initializing clusters\n",
      "Starting iterations...\n",
      "Run: 1, iteration: 1/100, moves: 177, ncost: 1173.3164278407316\n",
      "Run: 1, iteration: 2/100, moves: 73, ncost: 1158.0852453926254\n",
      "Run: 1, iteration: 3/100, moves: 56, ncost: 1144.193252139032\n",
      "Run: 1, iteration: 4/100, moves: 41, ncost: 1128.263676724999\n",
      "Run: 1, iteration: 5/100, moves: 98, ncost: 1101.5820514034658\n",
      "Run: 1, iteration: 6/100, moves: 82, ncost: 1099.644001749262\n",
      "Run: 1, iteration: 7/100, moves: 6, ncost: 1099.619542224829\n",
      "Run: 1, iteration: 8/100, moves: 0, ncost: 1099.619542224829\n",
      "Init: initializing centroids\n",
      "Init: initializing clusters\n",
      "Starting iterations...\n",
      "Run: 2, iteration: 1/100, moves: 242, ncost: 1124.567625765701\n",
      "Run: 2, iteration: 2/100, moves: 95, ncost: 1120.9762150248537\n",
      "Run: 2, iteration: 3/100, moves: 5, ncost: 1120.9718152875712\n",
      "Run: 2, iteration: 4/100, moves: 0, ncost: 1120.9718152875712\n",
      "Init: initializing centroids\n",
      "Init: initializing clusters\n",
      "Starting iterations...\n",
      "Run: 3, iteration: 1/100, moves: 220, ncost: 1155.7433189730393\n",
      "Run: 3, iteration: 2/100, moves: 49, ncost: 1100.5997083113887\n",
      "Run: 3, iteration: 3/100, moves: 21, ncost: 1092.6387534013074\n",
      "Run: 3, iteration: 4/100, moves: 16, ncost: 1086.3510895173936\n",
      "Run: 3, iteration: 5/100, moves: 12, ncost: 1083.0211594628126\n",
      "Run: 3, iteration: 6/100, moves: 12, ncost: 1075.9176060148513\n",
      "Run: 3, iteration: 7/100, moves: 8, ncost: 1068.435047836556\n",
      "Run: 3, iteration: 8/100, moves: 0, ncost: 1068.435047836556\n",
      "Init: initializing centroids\n",
      "Init: initializing clusters\n",
      "Starting iterations...\n",
      "Run: 4, iteration: 1/100, moves: 306, ncost: 1129.363888521955\n",
      "Run: 4, iteration: 2/100, moves: 45, ncost: 1128.4831591018603\n",
      "Run: 4, iteration: 3/100, moves: 1, ncost: 1128.482736701018\n",
      "Run: 4, iteration: 4/100, moves: 0, ncost: 1128.482736701018\n",
      "Init: initializing centroids\n",
      "Init: initializing clusters\n",
      "Init: initializing centroids\n",
      "Init: initializing clusters\n",
      "Init: initializing centroids\n",
      "Init: initializing clusters\n",
      "Init: initializing centroids\n",
      "Init: initializing clusters\n",
      "Init: initializing centroids\n",
      "Init: initializing clusters\n",
      "Starting iterations...\n",
      "Run: 5, iteration: 1/100, moves: 161, ncost: 1183.6234428640412\n",
      "Run: 5, iteration: 2/100, moves: 45, ncost: 1165.8596135840423\n",
      "Run: 5, iteration: 3/100, moves: 30, ncost: 1157.1738240960774\n",
      "Run: 5, iteration: 4/100, moves: 14, ncost: 1152.6959297168346\n",
      "Run: 5, iteration: 5/100, moves: 5, ncost: 1150.7609588341309\n",
      "Run: 5, iteration: 6/100, moves: 9, ncost: 1148.2731646192042\n",
      "Run: 5, iteration: 7/100, moves: 16, ncost: 1135.6647796308248\n",
      "Run: 5, iteration: 8/100, moves: 14, ncost: 1134.7332737049778\n",
      "Run: 5, iteration: 9/100, moves: 5, ncost: 1134.6588144233485\n",
      "Run: 5, iteration: 10/100, moves: 0, ncost: 1134.6588144233485\n",
      "Init: initializing centroids\n",
      "Init: initializing clusters\n",
      "Starting iterations...\n",
      "Run: 6, iteration: 1/100, moves: 347, ncost: 1131.4112961318017\n",
      "Run: 6, iteration: 2/100, moves: 66, ncost: 1125.7408389458294\n",
      "Run: 6, iteration: 3/100, moves: 12, ncost: 1125.4412977664983\n",
      "Run: 6, iteration: 4/100, moves: 6, ncost: 1124.9087660689222\n",
      "Run: 6, iteration: 5/100, moves: 4, ncost: 1124.6373438719404\n",
      "Run: 6, iteration: 6/100, moves: 7, ncost: 1124.1998731329827\n",
      "Run: 6, iteration: 7/100, moves: 9, ncost: 1123.6634565624247\n",
      "Run: 6, iteration: 8/100, moves: 1, ncost: 1123.640792894518\n",
      "Run: 6, iteration: 9/100, moves: 1, ncost: 1123.6331498565692\n",
      "Run: 6, iteration: 10/100, moves: 0, ncost: 1123.6331498565692\n",
      "Init: initializing centroids\n",
      "Init: initializing clusters\n",
      "Starting iterations...\n",
      "Run: 7, iteration: 1/100, moves: 193, ncost: 1117.5151934392893\n",
      "Run: 7, iteration: 2/100, moves: 73, ncost: 1103.1372570329338\n",
      "Run: 7, iteration: 3/100, moves: 39, ncost: 1099.2125004237992\n",
      "Run: 7, iteration: 4/100, moves: 13, ncost: 1098.9368674093314\n",
      "Run: 7, iteration: 5/100, moves: 6, ncost: 1098.8640624433679\n",
      "Run: 7, iteration: 6/100, moves: 2, ncost: 1098.8627353391728\n",
      "Run: 7, iteration: 7/100, moves: 0, ncost: 1098.8627353391728\n",
      "Init: initializing centroids\n",
      "Init: initializing clusters\n",
      "Init: initializing centroids\n",
      "Init: initializing clusters\n",
      "Init: initializing centroids\n",
      "Init: initializing clusters\n",
      "Starting iterations...\n",
      "Run: 8, iteration: 1/100, moves: 268, ncost: 1141.7309078951985\n",
      "Run: 8, iteration: 2/100, moves: 28, ncost: 1141.375524372243\n",
      "Run: 8, iteration: 3/100, moves: 0, ncost: 1141.375524372243\n",
      "Init: initializing centroids\n",
      "Init: initializing clusters\n",
      "Init: initializing centroids\n",
      "Init: initializing clusters\n",
      "Starting iterations...\n",
      "Run: 9, iteration: 1/100, moves: 259, ncost: 1087.0901084588822\n",
      "Run: 9, iteration: 2/100, moves: 72, ncost: 1085.7151905127566\n",
      "Run: 9, iteration: 3/100, moves: 8, ncost: 1085.601187556067\n",
      "Run: 9, iteration: 4/100, moves: 0, ncost: 1085.601187556067\n",
      "Init: initializing centroids\n",
      "Init: initializing clusters\n",
      "Init: initializing centroids\n",
      "Init: initializing clusters\n",
      "Starting iterations...\n",
      "Run: 10, iteration: 1/100, moves: 235, ncost: 1623.7711266934043\n",
      "Run: 10, iteration: 2/100, moves: 83, ncost: 1615.293107206832\n",
      "Run: 10, iteration: 3/100, moves: 61, ncost: 1547.0749416556407\n",
      "Run: 10, iteration: 4/100, moves: 34, ncost: 1134.4670851267763\n",
      "Run: 10, iteration: 5/100, moves: 5, ncost: 1133.834623322009\n",
      "Run: 10, iteration: 6/100, moves: 16, ncost: 1127.5570496319488\n",
      "Run: 10, iteration: 7/100, moves: 6, ncost: 1125.9565591526962\n",
      "Run: 10, iteration: 8/100, moves: 6, ncost: 1120.4005970540636\n",
      "Run: 10, iteration: 9/100, moves: 9, ncost: 1117.6104339904402\n",
      "Run: 10, iteration: 10/100, moves: 15, ncost: 1109.1428525597667\n",
      "Run: 10, iteration: 11/100, moves: 12, ncost: 1099.1800394507336\n",
      "Run: 10, iteration: 12/100, moves: 2, ncost: 1098.2120942350757\n"
     ]
    },
    {
     "name": "stderr",
     "output_type": "stream",
     "text": [
      " 75%|███████████████████████████████████████████████████████████████                     | 6/8 [01:30<00:34, 17.00s/it]"
     ]
    },
    {
     "name": "stdout",
     "output_type": "stream",
     "text": [
      "Run: 10, iteration: 13/100, moves: 0, ncost: 1098.2120942350757\n",
      "Best run was number 3\n",
      "Init: initializing centroids\n",
      "Init: initializing clusters\n",
      "Starting iterations...\n",
      "Run: 1, iteration: 1/100, moves: 250, ncost: 1514.3621282853364\n",
      "Run: 1, iteration: 2/100, moves: 67, ncost: 1059.2155274089907\n",
      "Run: 1, iteration: 3/100, moves: 16, ncost: 1047.1691965581713\n",
      "Run: 1, iteration: 4/100, moves: 3, ncost: 1046.252808673425\n",
      "Run: 1, iteration: 5/100, moves: 0, ncost: 1046.252808673425\n",
      "Init: initializing centroids\n",
      "Init: initializing clusters\n",
      "Init: initializing centroids\n",
      "Init: initializing clusters\n",
      "Starting iterations...\n",
      "Run: 2, iteration: 1/100, moves: 328, ncost: 1141.3528697575216\n",
      "Run: 2, iteration: 2/100, moves: 76, ncost: 1120.8263685812726\n",
      "Run: 2, iteration: 3/100, moves: 33, ncost: 1117.6231233245894\n",
      "Run: 2, iteration: 4/100, moves: 9, ncost: 1117.5826849428909\n",
      "Run: 2, iteration: 5/100, moves: 1, ncost: 1117.5792031629085\n",
      "Run: 2, iteration: 6/100, moves: 0, ncost: 1117.5792031629085\n",
      "Init: initializing centroids\n",
      "Init: initializing clusters\n",
      "Starting iterations...\n",
      "Run: 3, iteration: 1/100, moves: 230, ncost: 1087.7277827434773\n",
      "Run: 3, iteration: 2/100, moves: 47, ncost: 1070.3428526389246\n",
      "Run: 3, iteration: 3/100, moves: 18, ncost: 1069.964316515761\n",
      "Run: 3, iteration: 4/100, moves: 17, ncost: 1069.7874900813922\n",
      "Run: 3, iteration: 5/100, moves: 0, ncost: 1069.7874900813922\n",
      "Init: initializing centroids\n",
      "Init: initializing clusters\n",
      "Init: initializing centroids\n",
      "Init: initializing clusters\n",
      "Starting iterations...\n",
      "Run: 4, iteration: 1/100, moves: 302, ncost: 1055.7828145566584\n",
      "Run: 4, iteration: 2/100, moves: 72, ncost: 1052.6061411395517\n",
      "Run: 4, iteration: 3/100, moves: 10, ncost: 1052.5562054303198\n",
      "Run: 4, iteration: 4/100, moves: 1, ncost: 1052.5553247836901\n",
      "Run: 4, iteration: 5/100, moves: 0, ncost: 1052.5553247836901\n",
      "Init: initializing centroids\n",
      "Init: initializing clusters\n",
      "Init: initializing centroids\n",
      "Init: initializing clusters\n",
      "Starting iterations...\n",
      "Run: 5, iteration: 1/100, moves: 323, ncost: 1200.9695922363846\n",
      "Run: 5, iteration: 2/100, moves: 60, ncost: 1112.1805870970693\n",
      "Run: 5, iteration: 3/100, moves: 21, ncost: 1108.4506130104767\n",
      "Run: 5, iteration: 4/100, moves: 28, ncost: 1104.5912779818275\n",
      "Run: 5, iteration: 5/100, moves: 23, ncost: 1097.2511813745582\n",
      "Run: 5, iteration: 6/100, moves: 25, ncost: 1085.257222701719\n",
      "Run: 5, iteration: 7/100, moves: 18, ncost: 1075.3057749348297\n",
      "Run: 5, iteration: 8/100, moves: 14, ncost: 1070.2766431136213\n",
      "Run: 5, iteration: 9/100, moves: 2, ncost: 1068.4920289148865\n",
      "Run: 5, iteration: 10/100, moves: 16, ncost: 1049.0819676604576\n",
      "Run: 5, iteration: 11/100, moves: 50, ncost: 1041.3348314850966\n",
      "Run: 5, iteration: 12/100, moves: 3, ncost: 1040.5230179521875\n",
      "Run: 5, iteration: 13/100, moves: 2, ncost: 1040.2306271433126\n",
      "Run: 5, iteration: 14/100, moves: 0, ncost: 1040.2306271433126\n",
      "Init: initializing centroids\n",
      "Init: initializing clusters\n",
      "Init: initializing centroids\n",
      "Init: initializing clusters\n",
      "Starting iterations...\n",
      "Run: 6, iteration: 1/100, moves: 206, ncost: 1109.5196796694318\n",
      "Run: 6, iteration: 2/100, moves: 70, ncost: 1087.9834649055363\n",
      "Run: 6, iteration: 3/100, moves: 163, ncost: 1047.6325619246848\n",
      "Run: 6, iteration: 4/100, moves: 11, ncost: 1047.5916786416492\n",
      "Run: 6, iteration: 5/100, moves: 1, ncost: 1047.5896351466047\n",
      "Run: 6, iteration: 6/100, moves: 0, ncost: 1047.5896351466047\n",
      "Init: initializing centroids\n",
      "Init: initializing clusters\n",
      "Starting iterations...\n",
      "Run: 7, iteration: 1/100, moves: 264, ncost: 1152.5975747493312\n",
      "Run: 7, iteration: 2/100, moves: 56, ncost: 1087.1541578216613\n",
      "Run: 7, iteration: 3/100, moves: 57, ncost: 1071.4382355042374\n",
      "Run: 7, iteration: 4/100, moves: 16, ncost: 1062.1242098721364\n",
      "Run: 7, iteration: 5/100, moves: 2, ncost: 1058.9812255728616\n",
      "Run: 7, iteration: 6/100, moves: 1, ncost: 1058.6490445174957\n",
      "Run: 7, iteration: 7/100, moves: 2, ncost: 1058.5453115485034\n",
      "Run: 7, iteration: 8/100, moves: 3, ncost: 1058.4909721551587\n",
      "Run: 7, iteration: 9/100, moves: 0, ncost: 1058.4909721551587\n",
      "Init: initializing centroids\n",
      "Init: initializing clusters\n",
      "Init: initializing centroids\n",
      "Init: initializing clusters\n",
      "Starting iterations...\n",
      "Run: 8, iteration: 1/100, moves: 355, ncost: 1087.4401234824425\n",
      "Run: 8, iteration: 2/100, moves: 56, ncost: 1086.1638298317575\n",
      "Run: 8, iteration: 3/100, moves: 1, ncost: 1086.1468953588164\n",
      "Run: 8, iteration: 4/100, moves: 0, ncost: 1086.1468953588164\n",
      "Init: initializing centroids\n",
      "Init: initializing clusters\n",
      "Init: initializing centroids\n",
      "Init: initializing clusters\n",
      "Starting iterations...\n",
      "Run: 9, iteration: 1/100, moves: 347, ncost: 1097.7355363749325\n",
      "Run: 9, iteration: 2/100, moves: 113, ncost: 1086.9492575795962\n",
      "Run: 9, iteration: 3/100, moves: 15, ncost: 1077.3184285190102\n",
      "Run: 9, iteration: 4/100, moves: 18, ncost: 1062.304644174988\n",
      "Run: 9, iteration: 5/100, moves: 8, ncost: 1059.4156196045237\n",
      "Run: 9, iteration: 6/100, moves: 3, ncost: 1059.391443210243\n",
      "Run: 9, iteration: 7/100, moves: 0, ncost: 1059.391443210243\n",
      "Init: initializing centroids\n",
      "Init: initializing clusters\n",
      "Starting iterations...\n",
      "Run: 10, iteration: 1/100, moves: 274, ncost: 1065.9472858185977\n",
      "Run: 10, iteration: 2/100, moves: 68, ncost: 1061.6718401995222\n",
      "Run: 10, iteration: 3/100, moves: 17, ncost: 1061.1939477791007\n",
      "Run: 10, iteration: 4/100, moves: 1, ncost: 1061.1934126189137\n"
     ]
    },
    {
     "name": "stderr",
     "output_type": "stream",
     "text": [
      " 88%|█████████████████████████████████████████████████████████████████████████▌          | 7/8 [01:50<00:18, 18.18s/it]"
     ]
    },
    {
     "name": "stdout",
     "output_type": "stream",
     "text": [
      "Run: 10, iteration: 5/100, moves: 0, ncost: 1061.1934126189137\n",
      "Best run was number 5\n",
      "Init: initializing centroids\n",
      "Init: initializing clusters\n",
      "Init: initializing centroids\n",
      "Init: initializing clusters\n",
      "Starting iterations...\n",
      "Run: 1, iteration: 1/100, moves: 235, ncost: 1011.2014060576721\n",
      "Run: 1, iteration: 2/100, moves: 35, ncost: 1003.4450947422456\n",
      "Run: 1, iteration: 3/100, moves: 8, ncost: 1003.1536074020736\n",
      "Run: 1, iteration: 4/100, moves: 0, ncost: 1003.1536074020736\n",
      "Init: initializing centroids\n",
      "Init: initializing clusters\n",
      "Init: initializing centroids\n",
      "Init: initializing clusters\n",
      "Starting iterations...\n",
      "Run: 2, iteration: 1/100, moves: 361, ncost: 1529.9444989464218\n",
      "Run: 2, iteration: 2/100, moves: 89, ncost: 1501.0338195730542\n",
      "Run: 2, iteration: 3/100, moves: 42, ncost: 1406.4996266075505\n",
      "Run: 2, iteration: 4/100, moves: 29, ncost: 1018.8174295875046\n",
      "Run: 2, iteration: 5/100, moves: 6, ncost: 1018.7919579870287\n",
      "Run: 2, iteration: 6/100, moves: 0, ncost: 1018.7919579870287\n",
      "Init: initializing centroids\n",
      "Init: initializing clusters\n",
      "Starting iterations...\n",
      "Run: 3, iteration: 1/100, moves: 443, ncost: 1062.5035222748397\n",
      "Run: 3, iteration: 2/100, moves: 87, ncost: 1056.412389528913\n",
      "Run: 3, iteration: 3/100, moves: 25, ncost: 1050.2113033473543\n",
      "Run: 3, iteration: 4/100, moves: 24, ncost: 1044.3978625803434\n",
      "Run: 3, iteration: 5/100, moves: 21, ncost: 1036.351780537809\n",
      "Run: 3, iteration: 6/100, moves: 19, ncost: 1029.6114863214702\n",
      "Run: 3, iteration: 7/100, moves: 19, ncost: 1025.5378738536872\n",
      "Run: 3, iteration: 8/100, moves: 17, ncost: 1012.0455037223614\n",
      "Run: 3, iteration: 9/100, moves: 6, ncost: 1010.8560308578968\n",
      "Run: 3, iteration: 10/100, moves: 2, ncost: 1010.8470412874683\n",
      "Run: 3, iteration: 11/100, moves: 0, ncost: 1010.8470412874683\n",
      "Init: initializing centroids\n",
      "Init: initializing clusters\n",
      "Init: initializing centroids\n",
      "Init: initializing clusters\n",
      "Init: initializing centroids\n",
      "Init: initializing clusters\n",
      "Init: initializing centroids\n",
      "Init: initializing clusters\n",
      "Init: initializing centroids\n",
      "Init: initializing clusters\n",
      "Starting iterations...\n",
      "Run: 4, iteration: 1/100, moves: 298, ncost: 1266.7100925514276\n",
      "Run: 4, iteration: 2/100, moves: 52, ncost: 1026.2526625157868\n",
      "Run: 4, iteration: 3/100, moves: 34, ncost: 1021.0746469072667\n",
      "Run: 4, iteration: 4/100, moves: 2, ncost: 1021.0462126621902\n",
      "Run: 4, iteration: 5/100, moves: 0, ncost: 1021.0462126621902\n",
      "Init: initializing centroids\n",
      "Init: initializing clusters\n",
      "Init: initializing centroids\n",
      "Init: initializing clusters\n",
      "Init: initializing centroids\n",
      "Init: initializing clusters\n",
      "Init: initializing centroids\n",
      "Init: initializing clusters\n",
      "Init: initializing centroids\n",
      "Init: initializing clusters\n",
      "Starting iterations...\n",
      "Run: 5, iteration: 1/100, moves: 366, ncost: 1040.906674655284\n",
      "Run: 5, iteration: 2/100, moves: 67, ncost: 1036.745852288339\n",
      "Run: 5, iteration: 3/100, moves: 11, ncost: 1036.190161252905\n",
      "Run: 5, iteration: 4/100, moves: 5, ncost: 1036.1744801819777\n",
      "Run: 5, iteration: 5/100, moves: 0, ncost: 1036.1744801819777\n",
      "Init: initializing centroids\n",
      "Init: initializing clusters\n",
      "Init: initializing centroids\n",
      "Init: initializing clusters\n",
      "Starting iterations...\n",
      "Run: 6, iteration: 1/100, moves: 334, ncost: 1055.6776714818095\n",
      "Run: 6, iteration: 2/100, moves: 66, ncost: 1044.3455644510423\n",
      "Run: 6, iteration: 3/100, moves: 21, ncost: 1036.7720702919319\n",
      "Run: 6, iteration: 4/100, moves: 1, ncost: 1036.7640506378184\n",
      "Run: 6, iteration: 5/100, moves: 2, ncost: 1036.7562568196688\n",
      "Run: 6, iteration: 6/100, moves: 0, ncost: 1036.7562568196688\n",
      "Init: initializing centroids\n",
      "Init: initializing clusters\n",
      "Starting iterations...\n",
      "Run: 7, iteration: 1/100, moves: 349, ncost: 1030.2077284522122\n",
      "Run: 7, iteration: 2/100, moves: 46, ncost: 1025.6530477886113\n",
      "Run: 7, iteration: 3/100, moves: 31, ncost: 1022.3417013084509\n",
      "Run: 7, iteration: 4/100, moves: 13, ncost: 1021.8709072903582\n",
      "Run: 7, iteration: 5/100, moves: 8, ncost: 1021.7247725226182\n",
      "Run: 7, iteration: 6/100, moves: 1, ncost: 1021.7149541333372\n",
      "Run: 7, iteration: 7/100, moves: 0, ncost: 1021.7149541333372\n",
      "Init: initializing centroids\n",
      "Init: initializing clusters\n",
      "Starting iterations...\n",
      "Run: 8, iteration: 1/100, moves: 377, ncost: 1030.4128327828741\n",
      "Run: 8, iteration: 2/100, moves: 122, ncost: 984.2557044464977\n",
      "Run: 8, iteration: 3/100, moves: 7, ncost: 984.0864811142077\n",
      "Run: 8, iteration: 4/100, moves: 3, ncost: 984.0574856432091\n",
      "Run: 8, iteration: 5/100, moves: 0, ncost: 984.0574856432091\n",
      "Init: initializing centroids\n",
      "Init: initializing clusters\n",
      "Init: initializing centroids\n",
      "Init: initializing clusters\n",
      "Init: initializing centroids\n",
      "Init: initializing clusters\n",
      "Init: initializing centroids\n",
      "Init: initializing clusters\n",
      "Init: initializing centroids\n",
      "Init: initializing clusters\n",
      "Init: initializing centroids\n",
      "Init: initializing clusters\n",
      "Init: initializing centroids\n",
      "Init: initializing clusters\n",
      "Init: initializing centroids\n",
      "Init: initializing clusters\n",
      "Init: initializing centroids\n",
      "Init: initializing clusters\n",
      "Init: initializing centroids\n",
      "Init: initializing clusters\n",
      "Init: initializing centroids\n",
      "Init: initializing clusters\n",
      "Init: initializing centroids\n",
      "Init: initializing clusters\n",
      "Init: initializing centroids\n",
      "Init: initializing clusters\n",
      "Init: initializing centroids\n",
      "Init: initializing clusters\n",
      "Init: initializing centroids\n",
      "Init: initializing clusters\n",
      "Init: initializing centroids\n",
      "Init: initializing clusters\n",
      "Starting iterations...\n",
      "Run: 9, iteration: 1/100, moves: 357, ncost: 1227.1386811292034\n",
      "Run: 9, iteration: 2/100, moves: 79, ncost: 1027.0063362623425\n",
      "Run: 9, iteration: 3/100, moves: 20, ncost: 1026.1194351101494\n",
      "Run: 9, iteration: 4/100, moves: 7, ncost: 1026.0520114360047\n",
      "Run: 9, iteration: 5/100, moves: 7, ncost: 1025.931431978208\n",
      "Run: 9, iteration: 6/100, moves: 4, ncost: 1025.8589846225884\n",
      "Run: 9, iteration: 7/100, moves: 4, ncost: 1025.7653527130094\n",
      "Run: 9, iteration: 8/100, moves: 0, ncost: 1025.7653527130094\n",
      "Init: initializing centroids\n",
      "Init: initializing clusters\n",
      "Init: initializing centroids\n",
      "Init: initializing clusters\n",
      "Starting iterations...\n",
      "Run: 10, iteration: 1/100, moves: 181, ncost: 1052.029524969176\n",
      "Run: 10, iteration: 2/100, moves: 28, ncost: 1048.9295410527689\n",
      "Run: 10, iteration: 3/100, moves: 29, ncost: 1046.752871813639\n",
      "Run: 10, iteration: 4/100, moves: 41, ncost: 1041.9920910370558\n",
      "Run: 10, iteration: 5/100, moves: 21, ncost: 1035.114770848531\n",
      "Run: 10, iteration: 6/100, moves: 11, ncost: 1033.7599352748873\n",
      "Run: 10, iteration: 7/100, moves: 10, ncost: 1030.1748765411096\n",
      "Run: 10, iteration: 8/100, moves: 15, ncost: 1021.9570795809946\n",
      "Run: 10, iteration: 9/100, moves: 12, ncost: 1021.724837405536\n",
      "Run: 10, iteration: 10/100, moves: 1, ncost: 1021.7246769514483\n",
      "Run: 10, iteration: 11/100, moves: 0, ncost: 1021.7246769514483\n",
      "Best run was number 8\n"
     ]
    },
    {
     "name": "stderr",
     "output_type": "stream",
     "text": [
      "100%|████████████████████████████████████████████████████████████████████████████████████| 8/8 [02:12<00:00, 16.62s/it]\n"
     ]
    },
    {
     "data": {
      "application/vnd.plotly.v1+json": {
       "config": {
        "plotlyServerURL": "https://plot.ly"
       },
       "data": [
        {
         "type": "scatter",
         "x": [
          2,
          3,
          4,
          5,
          6,
          7,
          8,
          9
         ],
         "y": [
          1963.5108986854805,
          1461.9478591877487,
          1276.0755254428793,
          1187.410067132947,
          1112.1617195052504,
          1068.435047836556,
          1040.2306271433126,
          984.0574856432091
         ]
        }
       ],
       "layout": {
        "autosize": true,
        "template": {
         "data": {
          "bar": [
           {
            "error_x": {
             "color": "#2a3f5f"
            },
            "error_y": {
             "color": "#2a3f5f"
            },
            "marker": {
             "line": {
              "color": "#E5ECF6",
              "width": 0.5
             }
            },
            "type": "bar"
           }
          ],
          "barpolar": [
           {
            "marker": {
             "line": {
              "color": "#E5ECF6",
              "width": 0.5
             }
            },
            "type": "barpolar"
           }
          ],
          "carpet": [
           {
            "aaxis": {
             "endlinecolor": "#2a3f5f",
             "gridcolor": "white",
             "linecolor": "white",
             "minorgridcolor": "white",
             "startlinecolor": "#2a3f5f"
            },
            "baxis": {
             "endlinecolor": "#2a3f5f",
             "gridcolor": "white",
             "linecolor": "white",
             "minorgridcolor": "white",
             "startlinecolor": "#2a3f5f"
            },
            "type": "carpet"
           }
          ],
          "choropleth": [
           {
            "colorbar": {
             "outlinewidth": 0,
             "ticks": ""
            },
            "type": "choropleth"
           }
          ],
          "contour": [
           {
            "colorbar": {
             "outlinewidth": 0,
             "ticks": ""
            },
            "colorscale": [
             [
              0,
              "#0d0887"
             ],
             [
              0.1111111111111111,
              "#46039f"
             ],
             [
              0.2222222222222222,
              "#7201a8"
             ],
             [
              0.3333333333333333,
              "#9c179e"
             ],
             [
              0.4444444444444444,
              "#bd3786"
             ],
             [
              0.5555555555555556,
              "#d8576b"
             ],
             [
              0.6666666666666666,
              "#ed7953"
             ],
             [
              0.7777777777777778,
              "#fb9f3a"
             ],
             [
              0.8888888888888888,
              "#fdca26"
             ],
             [
              1,
              "#f0f921"
             ]
            ],
            "type": "contour"
           }
          ],
          "contourcarpet": [
           {
            "colorbar": {
             "outlinewidth": 0,
             "ticks": ""
            },
            "type": "contourcarpet"
           }
          ],
          "heatmap": [
           {
            "colorbar": {
             "outlinewidth": 0,
             "ticks": ""
            },
            "colorscale": [
             [
              0,
              "#0d0887"
             ],
             [
              0.1111111111111111,
              "#46039f"
             ],
             [
              0.2222222222222222,
              "#7201a8"
             ],
             [
              0.3333333333333333,
              "#9c179e"
             ],
             [
              0.4444444444444444,
              "#bd3786"
             ],
             [
              0.5555555555555556,
              "#d8576b"
             ],
             [
              0.6666666666666666,
              "#ed7953"
             ],
             [
              0.7777777777777778,
              "#fb9f3a"
             ],
             [
              0.8888888888888888,
              "#fdca26"
             ],
             [
              1,
              "#f0f921"
             ]
            ],
            "type": "heatmap"
           }
          ],
          "heatmapgl": [
           {
            "colorbar": {
             "outlinewidth": 0,
             "ticks": ""
            },
            "colorscale": [
             [
              0,
              "#0d0887"
             ],
             [
              0.1111111111111111,
              "#46039f"
             ],
             [
              0.2222222222222222,
              "#7201a8"
             ],
             [
              0.3333333333333333,
              "#9c179e"
             ],
             [
              0.4444444444444444,
              "#bd3786"
             ],
             [
              0.5555555555555556,
              "#d8576b"
             ],
             [
              0.6666666666666666,
              "#ed7953"
             ],
             [
              0.7777777777777778,
              "#fb9f3a"
             ],
             [
              0.8888888888888888,
              "#fdca26"
             ],
             [
              1,
              "#f0f921"
             ]
            ],
            "type": "heatmapgl"
           }
          ],
          "histogram": [
           {
            "marker": {
             "colorbar": {
              "outlinewidth": 0,
              "ticks": ""
             }
            },
            "type": "histogram"
           }
          ],
          "histogram2d": [
           {
            "colorbar": {
             "outlinewidth": 0,
             "ticks": ""
            },
            "colorscale": [
             [
              0,
              "#0d0887"
             ],
             [
              0.1111111111111111,
              "#46039f"
             ],
             [
              0.2222222222222222,
              "#7201a8"
             ],
             [
              0.3333333333333333,
              "#9c179e"
             ],
             [
              0.4444444444444444,
              "#bd3786"
             ],
             [
              0.5555555555555556,
              "#d8576b"
             ],
             [
              0.6666666666666666,
              "#ed7953"
             ],
             [
              0.7777777777777778,
              "#fb9f3a"
             ],
             [
              0.8888888888888888,
              "#fdca26"
             ],
             [
              1,
              "#f0f921"
             ]
            ],
            "type": "histogram2d"
           }
          ],
          "histogram2dcontour": [
           {
            "colorbar": {
             "outlinewidth": 0,
             "ticks": ""
            },
            "colorscale": [
             [
              0,
              "#0d0887"
             ],
             [
              0.1111111111111111,
              "#46039f"
             ],
             [
              0.2222222222222222,
              "#7201a8"
             ],
             [
              0.3333333333333333,
              "#9c179e"
             ],
             [
              0.4444444444444444,
              "#bd3786"
             ],
             [
              0.5555555555555556,
              "#d8576b"
             ],
             [
              0.6666666666666666,
              "#ed7953"
             ],
             [
              0.7777777777777778,
              "#fb9f3a"
             ],
             [
              0.8888888888888888,
              "#fdca26"
             ],
             [
              1,
              "#f0f921"
             ]
            ],
            "type": "histogram2dcontour"
           }
          ],
          "mesh3d": [
           {
            "colorbar": {
             "outlinewidth": 0,
             "ticks": ""
            },
            "type": "mesh3d"
           }
          ],
          "parcoords": [
           {
            "line": {
             "colorbar": {
              "outlinewidth": 0,
              "ticks": ""
             }
            },
            "type": "parcoords"
           }
          ],
          "pie": [
           {
            "automargin": true,
            "type": "pie"
           }
          ],
          "scatter": [
           {
            "marker": {
             "colorbar": {
              "outlinewidth": 0,
              "ticks": ""
             }
            },
            "type": "scatter"
           }
          ],
          "scatter3d": [
           {
            "line": {
             "colorbar": {
              "outlinewidth": 0,
              "ticks": ""
             }
            },
            "marker": {
             "colorbar": {
              "outlinewidth": 0,
              "ticks": ""
             }
            },
            "type": "scatter3d"
           }
          ],
          "scattercarpet": [
           {
            "marker": {
             "colorbar": {
              "outlinewidth": 0,
              "ticks": ""
             }
            },
            "type": "scattercarpet"
           }
          ],
          "scattergeo": [
           {
            "marker": {
             "colorbar": {
              "outlinewidth": 0,
              "ticks": ""
             }
            },
            "type": "scattergeo"
           }
          ],
          "scattergl": [
           {
            "marker": {
             "colorbar": {
              "outlinewidth": 0,
              "ticks": ""
             }
            },
            "type": "scattergl"
           }
          ],
          "scattermapbox": [
           {
            "marker": {
             "colorbar": {
              "outlinewidth": 0,
              "ticks": ""
             }
            },
            "type": "scattermapbox"
           }
          ],
          "scatterpolar": [
           {
            "marker": {
             "colorbar": {
              "outlinewidth": 0,
              "ticks": ""
             }
            },
            "type": "scatterpolar"
           }
          ],
          "scatterpolargl": [
           {
            "marker": {
             "colorbar": {
              "outlinewidth": 0,
              "ticks": ""
             }
            },
            "type": "scatterpolargl"
           }
          ],
          "scatterternary": [
           {
            "marker": {
             "colorbar": {
              "outlinewidth": 0,
              "ticks": ""
             }
            },
            "type": "scatterternary"
           }
          ],
          "surface": [
           {
            "colorbar": {
             "outlinewidth": 0,
             "ticks": ""
            },
            "colorscale": [
             [
              0,
              "#0d0887"
             ],
             [
              0.1111111111111111,
              "#46039f"
             ],
             [
              0.2222222222222222,
              "#7201a8"
             ],
             [
              0.3333333333333333,
              "#9c179e"
             ],
             [
              0.4444444444444444,
              "#bd3786"
             ],
             [
              0.5555555555555556,
              "#d8576b"
             ],
             [
              0.6666666666666666,
              "#ed7953"
             ],
             [
              0.7777777777777778,
              "#fb9f3a"
             ],
             [
              0.8888888888888888,
              "#fdca26"
             ],
             [
              1,
              "#f0f921"
             ]
            ],
            "type": "surface"
           }
          ],
          "table": [
           {
            "cells": {
             "fill": {
              "color": "#EBF0F8"
             },
             "line": {
              "color": "white"
             }
            },
            "header": {
             "fill": {
              "color": "#C8D4E3"
             },
             "line": {
              "color": "white"
             }
            },
            "type": "table"
           }
          ]
         },
         "layout": {
          "annotationdefaults": {
           "arrowcolor": "#2a3f5f",
           "arrowhead": 0,
           "arrowwidth": 1
          },
          "coloraxis": {
           "colorbar": {
            "outlinewidth": 0,
            "ticks": ""
           }
          },
          "colorscale": {
           "diverging": [
            [
             0,
             "#8e0152"
            ],
            [
             0.1,
             "#c51b7d"
            ],
            [
             0.2,
             "#de77ae"
            ],
            [
             0.3,
             "#f1b6da"
            ],
            [
             0.4,
             "#fde0ef"
            ],
            [
             0.5,
             "#f7f7f7"
            ],
            [
             0.6,
             "#e6f5d0"
            ],
            [
             0.7,
             "#b8e186"
            ],
            [
             0.8,
             "#7fbc41"
            ],
            [
             0.9,
             "#4d9221"
            ],
            [
             1,
             "#276419"
            ]
           ],
           "sequential": [
            [
             0,
             "#0d0887"
            ],
            [
             0.1111111111111111,
             "#46039f"
            ],
            [
             0.2222222222222222,
             "#7201a8"
            ],
            [
             0.3333333333333333,
             "#9c179e"
            ],
            [
             0.4444444444444444,
             "#bd3786"
            ],
            [
             0.5555555555555556,
             "#d8576b"
            ],
            [
             0.6666666666666666,
             "#ed7953"
            ],
            [
             0.7777777777777778,
             "#fb9f3a"
            ],
            [
             0.8888888888888888,
             "#fdca26"
            ],
            [
             1,
             "#f0f921"
            ]
           ],
           "sequentialminus": [
            [
             0,
             "#0d0887"
            ],
            [
             0.1111111111111111,
             "#46039f"
            ],
            [
             0.2222222222222222,
             "#7201a8"
            ],
            [
             0.3333333333333333,
             "#9c179e"
            ],
            [
             0.4444444444444444,
             "#bd3786"
            ],
            [
             0.5555555555555556,
             "#d8576b"
            ],
            [
             0.6666666666666666,
             "#ed7953"
            ],
            [
             0.7777777777777778,
             "#fb9f3a"
            ],
            [
             0.8888888888888888,
             "#fdca26"
            ],
            [
             1,
             "#f0f921"
            ]
           ]
          },
          "colorway": [
           "#636efa",
           "#EF553B",
           "#00cc96",
           "#ab63fa",
           "#FFA15A",
           "#19d3f3",
           "#FF6692",
           "#B6E880",
           "#FF97FF",
           "#FECB52"
          ],
          "font": {
           "color": "#2a3f5f"
          },
          "geo": {
           "bgcolor": "white",
           "lakecolor": "white",
           "landcolor": "#E5ECF6",
           "showlakes": true,
           "showland": true,
           "subunitcolor": "white"
          },
          "hoverlabel": {
           "align": "left"
          },
          "hovermode": "closest",
          "mapbox": {
           "style": "light"
          },
          "paper_bgcolor": "white",
          "plot_bgcolor": "#E5ECF6",
          "polar": {
           "angularaxis": {
            "gridcolor": "white",
            "linecolor": "white",
            "ticks": ""
           },
           "bgcolor": "#E5ECF6",
           "radialaxis": {
            "gridcolor": "white",
            "linecolor": "white",
            "ticks": ""
           }
          },
          "scene": {
           "xaxis": {
            "backgroundcolor": "#E5ECF6",
            "gridcolor": "white",
            "gridwidth": 2,
            "linecolor": "white",
            "showbackground": true,
            "ticks": "",
            "zerolinecolor": "white"
           },
           "yaxis": {
            "backgroundcolor": "#E5ECF6",
            "gridcolor": "white",
            "gridwidth": 2,
            "linecolor": "white",
            "showbackground": true,
            "ticks": "",
            "zerolinecolor": "white"
           },
           "zaxis": {
            "backgroundcolor": "#E5ECF6",
            "gridcolor": "white",
            "gridwidth": 2,
            "linecolor": "white",
            "showbackground": true,
            "ticks": "",
            "zerolinecolor": "white"
           }
          },
          "shapedefaults": {
           "line": {
            "color": "#2a3f5f"
           }
          },
          "ternary": {
           "aaxis": {
            "gridcolor": "white",
            "linecolor": "white",
            "ticks": ""
           },
           "baxis": {
            "gridcolor": "white",
            "linecolor": "white",
            "ticks": ""
           },
           "bgcolor": "#E5ECF6",
           "caxis": {
            "gridcolor": "white",
            "linecolor": "white",
            "ticks": ""
           }
          },
          "title": {
           "x": 0.05
          },
          "xaxis": {
           "automargin": true,
           "gridcolor": "white",
           "linecolor": "white",
           "ticks": "",
           "title": {
            "standoff": 15
           },
           "zerolinecolor": "white",
           "zerolinewidth": 2
          },
          "yaxis": {
           "automargin": true,
           "gridcolor": "white",
           "linecolor": "white",
           "ticks": "",
           "title": {
            "standoff": 15
           },
           "zerolinecolor": "white",
           "zerolinewidth": 2
          }
         }
        },
        "xaxis": {
         "autorange": true,
         "range": [
          1.5392011834319528,
          9.460798816568047
         ],
         "type": "linear"
        },
        "yaxis": {
         "autorange": true,
         "range": [
          912.3140827770555,
          2035.2543015516342
         ],
         "type": "linear"
        }
       }
      },
      "image/png": "[encoded data removed]",
      "text/html": [
       "<div>\n",
       "        \n",
       "        \n",
       "            <div id=\"bc7202a9-b222-4e6b-b8e2-f2d24c28c793\" class=\"plotly-graph-div\" style=\"height:525px; width:100%;\"></div>\n",
       "            <script type=\"text/javascript\">\n",
       "                require([\"plotly\"], function(Plotly) {\n",
       "                    window.PLOTLYENV=window.PLOTLYENV || {};\n",
       "                    \n",
       "                if (document.getElementById(\"bc7202a9-b222-4e6b-b8e2-f2d24c28c793\")) {\n",
       "                    Plotly.newPlot(\n",
       "                        'bc7202a9-b222-4e6b-b8e2-f2d24c28c793',\n",
       "                        [{\"type\": \"scatter\", \"x\": [2, 3, 4, 5, 6, 7, 8, 9], \"y\": [1963.5108986854805, 1461.9478591877487, 1276.0755254428793, 1187.410067132947, 1112.1617195052504, 1068.435047836556, 1040.2306271433126, 984.0574856432091]}],\n",
       "                        {\"template\": {\"data\": {\"bar\": [{\"error_x\": {\"color\": \"#2a3f5f\"}, \"error_y\": {\"color\": \"#2a3f5f\"}, \"marker\": {\"line\": {\"color\": \"#E5ECF6\", \"width\": 0.5}}, \"type\": \"bar\"}], \"barpolar\": [{\"marker\": {\"line\": {\"color\": \"#E5ECF6\", \"width\": 0.5}}, \"type\": \"barpolar\"}], \"carpet\": [{\"aaxis\": {\"endlinecolor\": \"#2a3f5f\", \"gridcolor\": \"white\", \"linecolor\": \"white\", \"minorgridcolor\": \"white\", \"startlinecolor\": \"#2a3f5f\"}, \"baxis\": {\"endlinecolor\": \"#2a3f5f\", \"gridcolor\": \"white\", \"linecolor\": \"white\", \"minorgridcolor\": \"white\", \"startlinecolor\": \"#2a3f5f\"}, \"type\": \"carpet\"}], \"choropleth\": [{\"colorbar\": {\"outlinewidth\": 0, \"ticks\": \"\"}, \"type\": \"choropleth\"}], \"contour\": [{\"colorbar\": {\"outlinewidth\": 0, \"ticks\": \"\"}, \"colorscale\": [[0.0, \"#0d0887\"], [0.1111111111111111, \"#46039f\"], [0.2222222222222222, \"#7201a8\"], [0.3333333333333333, \"#9c179e\"], [0.4444444444444444, \"#bd3786\"], [0.5555555555555556, \"#d8576b\"], [0.6666666666666666, \"#ed7953\"], [0.7777777777777778, \"#fb9f3a\"], [0.8888888888888888, \"#fdca26\"], [1.0, \"#f0f921\"]], \"type\": \"contour\"}], \"contourcarpet\": [{\"colorbar\": {\"outlinewidth\": 0, \"ticks\": \"\"}, \"type\": \"contourcarpet\"}], \"heatmap\": [{\"colorbar\": {\"outlinewidth\": 0, \"ticks\": \"\"}, \"colorscale\": [[0.0, \"#0d0887\"], [0.1111111111111111, \"#46039f\"], [0.2222222222222222, \"#7201a8\"], [0.3333333333333333, \"#9c179e\"], [0.4444444444444444, \"#bd3786\"], [0.5555555555555556, \"#d8576b\"], [0.6666666666666666, \"#ed7953\"], [0.7777777777777778, \"#fb9f3a\"], [0.8888888888888888, \"#fdca26\"], [1.0, \"#f0f921\"]], \"type\": \"heatmap\"}], \"heatmapgl\": [{\"colorbar\": {\"outlinewidth\": 0, \"ticks\": \"\"}, \"colorscale\": [[0.0, \"#0d0887\"], [0.1111111111111111, \"#46039f\"], [0.2222222222222222, \"#7201a8\"], [0.3333333333333333, \"#9c179e\"], [0.4444444444444444, \"#bd3786\"], [0.5555555555555556, \"#d8576b\"], [0.6666666666666666, \"#ed7953\"], [0.7777777777777778, \"#fb9f3a\"], [0.8888888888888888, \"#fdca26\"], [1.0, \"#f0f921\"]], \"type\": \"heatmapgl\"}], \"histogram\": [{\"marker\": {\"colorbar\": {\"outlinewidth\": 0, \"ticks\": \"\"}}, \"type\": \"histogram\"}], \"histogram2d\": [{\"colorbar\": {\"outlinewidth\": 0, \"ticks\": \"\"}, \"colorscale\": [[0.0, \"#0d0887\"], [0.1111111111111111, \"#46039f\"], [0.2222222222222222, \"#7201a8\"], [0.3333333333333333, \"#9c179e\"], [0.4444444444444444, \"#bd3786\"], [0.5555555555555556, \"#d8576b\"], [0.6666666666666666, \"#ed7953\"], [0.7777777777777778, \"#fb9f3a\"], [0.8888888888888888, \"#fdca26\"], [1.0, \"#f0f921\"]], \"type\": \"histogram2d\"}], \"histogram2dcontour\": [{\"colorbar\": {\"outlinewidth\": 0, \"ticks\": \"\"}, \"colorscale\": [[0.0, \"#0d0887\"], [0.1111111111111111, \"#46039f\"], [0.2222222222222222, \"#7201a8\"], [0.3333333333333333, \"#9c179e\"], [0.4444444444444444, \"#bd3786\"], [0.5555555555555556, \"#d8576b\"], [0.6666666666666666, \"#ed7953\"], [0.7777777777777778, \"#fb9f3a\"], [0.8888888888888888, \"#fdca26\"], [1.0, \"#f0f921\"]], \"type\": \"histogram2dcontour\"}], \"mesh3d\": [{\"colorbar\": {\"outlinewidth\": 0, \"ticks\": \"\"}, \"type\": \"mesh3d\"}], \"parcoords\": [{\"line\": {\"colorbar\": {\"outlinewidth\": 0, \"ticks\": \"\"}}, \"type\": \"parcoords\"}], \"pie\": [{\"automargin\": true, \"type\": \"pie\"}], \"scatter\": [{\"marker\": {\"colorbar\": {\"outlinewidth\": 0, \"ticks\": \"\"}}, \"type\": \"scatter\"}], \"scatter3d\": [{\"line\": {\"colorbar\": {\"outlinewidth\": 0, \"ticks\": \"\"}}, \"marker\": {\"colorbar\": {\"outlinewidth\": 0, \"ticks\": \"\"}}, \"type\": \"scatter3d\"}], \"scattercarpet\": [{\"marker\": {\"colorbar\": {\"outlinewidth\": 0, \"ticks\": \"\"}}, \"type\": \"scattercarpet\"}], \"scattergeo\": [{\"marker\": {\"colorbar\": {\"outlinewidth\": 0, \"ticks\": \"\"}}, \"type\": \"scattergeo\"}], \"scattergl\": [{\"marker\": {\"colorbar\": {\"outlinewidth\": 0, \"ticks\": \"\"}}, \"type\": \"scattergl\"}], \"scattermapbox\": [{\"marker\": {\"colorbar\": {\"outlinewidth\": 0, \"ticks\": \"\"}}, \"type\": \"scattermapbox\"}], \"scatterpolar\": [{\"marker\": {\"colorbar\": {\"outlinewidth\": 0, \"ticks\": \"\"}}, \"type\": \"scatterpolar\"}], \"scatterpolargl\": [{\"marker\": {\"colorbar\": {\"outlinewidth\": 0, \"ticks\": \"\"}}, \"type\": \"scatterpolargl\"}], \"scatterternary\": [{\"marker\": {\"colorbar\": {\"outlinewidth\": 0, \"ticks\": \"\"}}, \"type\": \"scatterternary\"}], \"surface\": [{\"colorbar\": {\"outlinewidth\": 0, \"ticks\": \"\"}, \"colorscale\": [[0.0, \"#0d0887\"], [0.1111111111111111, \"#46039f\"], [0.2222222222222222, \"#7201a8\"], [0.3333333333333333, \"#9c179e\"], [0.4444444444444444, \"#bd3786\"], [0.5555555555555556, \"#d8576b\"], [0.6666666666666666, \"#ed7953\"], [0.7777777777777778, \"#fb9f3a\"], [0.8888888888888888, \"#fdca26\"], [1.0, \"#f0f921\"]], \"type\": \"surface\"}], \"table\": [{\"cells\": {\"fill\": {\"color\": \"#EBF0F8\"}, \"line\": {\"color\": \"white\"}}, \"header\": {\"fill\": {\"color\": \"#C8D4E3\"}, \"line\": {\"color\": \"white\"}}, \"type\": \"table\"}]}, \"layout\": {\"annotationdefaults\": {\"arrowcolor\": \"#2a3f5f\", \"arrowhead\": 0, \"arrowwidth\": 1}, \"coloraxis\": {\"colorbar\": {\"outlinewidth\": 0, \"ticks\": \"\"}}, \"colorscale\": {\"diverging\": [[0, \"#8e0152\"], [0.1, \"#c51b7d\"], [0.2, \"#de77ae\"], [0.3, \"#f1b6da\"], [0.4, \"#fde0ef\"], [0.5, \"#f7f7f7\"], [0.6, \"#e6f5d0\"], [0.7, \"#b8e186\"], [0.8, \"#7fbc41\"], [0.9, \"#4d9221\"], [1, \"#276419\"]], \"sequential\": [[0.0, \"#0d0887\"], [0.1111111111111111, \"#46039f\"], [0.2222222222222222, \"#7201a8\"], [0.3333333333333333, \"#9c179e\"], [0.4444444444444444, \"#bd3786\"], [0.5555555555555556, \"#d8576b\"], [0.6666666666666666, \"#ed7953\"], [0.7777777777777778, \"#fb9f3a\"], [0.8888888888888888, \"#fdca26\"], [1.0, \"#f0f921\"]], \"sequentialminus\": [[0.0, \"#0d0887\"], [0.1111111111111111, \"#46039f\"], [0.2222222222222222, \"#7201a8\"], [0.3333333333333333, \"#9c179e\"], [0.4444444444444444, \"#bd3786\"], [0.5555555555555556, \"#d8576b\"], [0.6666666666666666, \"#ed7953\"], [0.7777777777777778, \"#fb9f3a\"], [0.8888888888888888, \"#fdca26\"], [1.0, \"#f0f921\"]]}, \"colorway\": [\"#636efa\", \"#EF553B\", \"#00cc96\", \"#ab63fa\", \"#FFA15A\", \"#19d3f3\", \"#FF6692\", \"#B6E880\", \"#FF97FF\", \"#FECB52\"], \"font\": {\"color\": \"#2a3f5f\"}, \"geo\": {\"bgcolor\": \"white\", \"lakecolor\": \"white\", \"landcolor\": \"#E5ECF6\", \"showlakes\": true, \"showland\": true, \"subunitcolor\": \"white\"}, \"hoverlabel\": {\"align\": \"left\"}, \"hovermode\": \"closest\", \"mapbox\": {\"style\": \"light\"}, \"paper_bgcolor\": \"white\", \"plot_bgcolor\": \"#E5ECF6\", \"polar\": {\"angularaxis\": {\"gridcolor\": \"white\", \"linecolor\": \"white\", \"ticks\": \"\"}, \"bgcolor\": \"#E5ECF6\", \"radialaxis\": {\"gridcolor\": \"white\", \"linecolor\": \"white\", \"ticks\": \"\"}}, \"scene\": {\"xaxis\": {\"backgroundcolor\": \"#E5ECF6\", \"gridcolor\": \"white\", \"gridwidth\": 2, \"linecolor\": \"white\", \"showbackground\": true, \"ticks\": \"\", \"zerolinecolor\": \"white\"}, \"yaxis\": {\"backgroundcolor\": \"#E5ECF6\", \"gridcolor\": \"white\", \"gridwidth\": 2, \"linecolor\": \"white\", \"showbackground\": true, \"ticks\": \"\", \"zerolinecolor\": \"white\"}, \"zaxis\": {\"backgroundcolor\": \"#E5ECF6\", \"gridcolor\": \"white\", \"gridwidth\": 2, \"linecolor\": \"white\", \"showbackground\": true, \"ticks\": \"\", \"zerolinecolor\": \"white\"}}, \"shapedefaults\": {\"line\": {\"color\": \"#2a3f5f\"}}, \"ternary\": {\"aaxis\": {\"gridcolor\": \"white\", \"linecolor\": \"white\", \"ticks\": \"\"}, \"baxis\": {\"gridcolor\": \"white\", \"linecolor\": \"white\", \"ticks\": \"\"}, \"bgcolor\": \"#E5ECF6\", \"caxis\": {\"gridcolor\": \"white\", \"linecolor\": \"white\", \"ticks\": \"\"}}, \"title\": {\"x\": 0.05}, \"xaxis\": {\"automargin\": true, \"gridcolor\": \"white\", \"linecolor\": \"white\", \"ticks\": \"\", \"title\": {\"standoff\": 15}, \"zerolinecolor\": \"white\", \"zerolinewidth\": 2}, \"yaxis\": {\"automargin\": true, \"gridcolor\": \"white\", \"linecolor\": \"white\", \"ticks\": \"\", \"title\": {\"standoff\": 15}, \"zerolinecolor\": \"white\", \"zerolinewidth\": 2}}}},\n",
       "                        {\"responsive\": true}\n",
       "                    ).then(function(){\n",
       "                            \n",
       "var gd = document.getElementById('bc7202a9-b222-4e6b-b8e2-f2d24c28c793');\n",
       "var x = new MutationObserver(function (mutations, observer) {{\n",
       "        var display = window.getComputedStyle(gd).display;\n",
       "        if (!display || display === 'none') {{\n",
       "            console.log([gd, 'removed!']);\n",
       "            Plotly.purge(gd);\n",
       "            observer.disconnect();\n",
       "        }}\n",
       "}});\n",
       "\n",
       "// Listen for the removal of the full notebook cells\n",
       "var notebookContainer = gd.closest('#notebook-container');\n",
       "if (notebookContainer) {{\n",
       "    x.observe(notebookContainer, {childList: true});\n",
       "}}\n",
       "\n",
       "// Listen for the clearing of the current output cell\n",
       "var outputEl = gd.closest('.output');\n",
       "if (outputEl) {{\n",
       "    x.observe(outputEl, {childList: true});\n",
       "}}\n",
       "\n",
       "                        })\n",
       "                };\n",
       "                });\n",
       "            </script>\n",
       "        </div>"
      ]
     },
     "metadata": {},
     "output_type": "display_data"
    }
   ],
   "source": [
    "costs = []\n",
    "n_clusters = []\n",
    "cat_cols = [0, 1, 2, 3, 6, 7, 8, 9, 10]\n",
    "for i in tqdm(range(2, 10)):\n",
    "    try:\n",
    "        kproto = KPrototypes(n_clusters=i, init='Huang', verbose=2)\n",
    "        clusters = kproto.fit_predict(data2, categorical=cat_cols)\n",
    "        costs.append(kproto.cost_)\n",
    "        n_clusters.append(i)\n",
    "    except:\n",
    "        print(f\"Can't cluster with {i} clusters\")\n",
    "fig = go.Figure(data=go.Scatter(x=n_clusters, y=costs))\n",
    "fig.show()"
   ]
  },
  {
   "cell_type": "code",
   "execution_count": 185,
   "id": "2a552559",
   "metadata": {},
   "outputs": [
    {
     "name": "stdout",
     "output_type": "stream",
     "text": [
      "Init: initializing centroids\n",
      "Init: initializing clusters\n",
      "Starting iterations...\n",
      "Run: 1, iteration: 1/100, moves: 157, ncost: 1747.746545974503\n",
      "Run: 1, iteration: 2/100, moves: 25, ncost: 1743.9898176356905\n",
      "Run: 1, iteration: 3/100, moves: 11, ncost: 1743.2965569035284\n",
      "Run: 1, iteration: 4/100, moves: 2, ncost: 1743.2372412676916\n",
      "Run: 1, iteration: 5/100, moves: 0, ncost: 1743.2372412676916\n",
      "Init: initializing centroids\n",
      "Init: initializing clusters\n",
      "Starting iterations...\n",
      "Run: 2, iteration: 1/100, moves: 96, ncost: 1379.8315224879932\n",
      "Run: 2, iteration: 2/100, moves: 50, ncost: 1316.477159318298\n",
      "Run: 2, iteration: 3/100, moves: 157, ncost: 1276.8745532926694\n",
      "Run: 2, iteration: 4/100, moves: 29, ncost: 1276.0737933280784\n",
      "Run: 2, iteration: 5/100, moves: 0, ncost: 1276.0737933280784\n",
      "Init: initializing centroids\n",
      "Init: initializing clusters\n",
      "Starting iterations...\n",
      "Run: 3, iteration: 1/100, moves: 136, ncost: 1375.3887495954446\n",
      "Run: 3, iteration: 2/100, moves: 27, ncost: 1370.660695981459\n",
      "Run: 3, iteration: 3/100, moves: 2, ncost: 1370.6507973080006\n",
      "Run: 3, iteration: 4/100, moves: 0, ncost: 1370.6507973080006\n",
      "Init: initializing centroids\n",
      "Init: initializing clusters\n",
      "Starting iterations...\n",
      "Run: 4, iteration: 1/100, moves: 96, ncost: 1484.1212632899326\n",
      "Run: 4, iteration: 2/100, moves: 19, ncost: 1363.1954278217122\n",
      "Run: 4, iteration: 3/100, moves: 1, ncost: 1363.1924644043027\n",
      "Run: 4, iteration: 4/100, moves: 1, ncost: 1363.1908934716757\n",
      "Run: 4, iteration: 5/100, moves: 0, ncost: 1363.1908934716757\n",
      "Init: initializing centroids\n",
      "Init: initializing clusters\n",
      "Starting iterations...\n",
      "Run: 5, iteration: 1/100, moves: 273, ncost: 1751.5135581924596\n",
      "Run: 5, iteration: 2/100, moves: 32, ncost: 1743.9457289746651\n",
      "Run: 5, iteration: 3/100, moves: 1, ncost: 1742.9019765473831\n",
      "Run: 5, iteration: 4/100, moves: 3, ncost: 1742.6960782989963\n",
      "Run: 5, iteration: 5/100, moves: 2, ncost: 1742.5515546430324\n",
      "Run: 5, iteration: 6/100, moves: 0, ncost: 1742.5515546430324\n",
      "Init: initializing centroids\n",
      "Init: initializing clusters\n",
      "Starting iterations...\n",
      "Run: 6, iteration: 1/100, moves: 353, ncost: 1772.304023384726\n",
      "Run: 6, iteration: 2/100, moves: 165, ncost: 1736.6663245744942\n",
      "Run: 6, iteration: 3/100, moves: 22, ncost: 1733.1115838317744\n",
      "Run: 6, iteration: 4/100, moves: 2, ncost: 1732.7670675947504\n",
      "Run: 6, iteration: 5/100, moves: 1, ncost: 1732.7136225215575\n",
      "Run: 6, iteration: 6/100, moves: 0, ncost: 1732.7136225215575\n",
      "Init: initializing centroids\n",
      "Init: initializing clusters\n",
      "Starting iterations...\n",
      "Run: 7, iteration: 1/100, moves: 375, ncost: 1337.2217547085677\n",
      "Run: 7, iteration: 2/100, moves: 35, ncost: 1276.558306339073\n",
      "Run: 7, iteration: 3/100, moves: 4, ncost: 1276.0737933280782\n",
      "Run: 7, iteration: 4/100, moves: 0, ncost: 1276.0737933280782\n",
      "Init: initializing centroids\n",
      "Init: initializing clusters\n",
      "Starting iterations...\n",
      "Run: 8, iteration: 1/100, moves: 184, ncost: 1776.1678712553858\n",
      "Run: 8, iteration: 2/100, moves: 34, ncost: 1770.658993156737\n",
      "Run: 8, iteration: 3/100, moves: 2, ncost: 1770.4654305301774\n",
      "Run: 8, iteration: 4/100, moves: 0, ncost: 1770.4654305301774\n",
      "Init: initializing centroids\n",
      "Init: initializing clusters\n",
      "Starting iterations...\n",
      "Run: 9, iteration: 1/100, moves: 206, ncost: 1747.606269244129\n",
      "Run: 9, iteration: 2/100, moves: 79, ncost: 1733.0265121824586\n",
      "Run: 9, iteration: 3/100, moves: 3, ncost: 1732.4917106542937\n",
      "Run: 9, iteration: 4/100, moves: 1, ncost: 1732.4382407198964\n",
      "Run: 9, iteration: 5/100, moves: 0, ncost: 1732.4382407198964\n",
      "Init: initializing centroids\n",
      "Init: initializing clusters\n",
      "Init: initializing centroids\n",
      "Init: initializing clusters\n",
      "Starting iterations...\n",
      "Run: 10, iteration: 1/100, moves: 176, ncost: 1542.8812029640274\n",
      "Run: 10, iteration: 2/100, moves: 30, ncost: 1362.1842699046224\n",
      "Run: 10, iteration: 3/100, moves: 1, ncost: 1362.1320165489303\n",
      "Run: 10, iteration: 4/100, moves: 2, ncost: 1362.0523441659054\n",
      "Run: 10, iteration: 5/100, moves: 0, ncost: 1362.0523441659054\n",
      "Best run was number 7\n",
      "[['-0.4816390747582661' '0.003790269200496311' 'male' 'White' 'No'\n",
      "  'alcohol' '2015-09' '31-50' 'successful' '<= 5 days' 'white']\n",
      " ['2.8971313183946643' '-0.1591767014699821' 'male' 'Hispanic' 'No'\n",
      "  'alcohol' '2015-08' '31-50' 'successful' '> 5 days' 'BIPOC']\n",
      " ['0.3469809015623728' '-0.16959987670183704' 'male' 'White' 'No'\n",
      "  'alcohol' '2015-07' '31-50' 'successful' '> 5 days' 'white']\n",
      " ['0.41295628193448736' '13.626987767228227' 'male' 'White' 'No'\n",
      "  'alcohol' '2015-09' '31-50' 'not successful' '<= 5 days' 'white']]\n",
      "1276.0737933280782\n",
      "4\n"
     ]
    }
   ],
   "source": [
    "style.use(\"ggplot\")\n",
    "colors = ['b', 'orange', 'g', 'r', 'c', 'm', 'y', 'k', 'Brown', 'ForestGreen']\n",
    "\n",
    "kproto = KPrototypes(n_clusters=4, init='Huang', verbose=2)\n",
    "clusters = kproto.fit_predict(data2, categorical=cat_cols)\n",
    "\n",
    "# Print cluster centroids of the trained model.\n",
    "print(kproto.cluster_centroids_)\n",
    "\n",
    "# Print training statistics\n",
    "print(kproto.cost_)\n",
    "print(kproto.n_iter_)"
   ]
  },
  {
   "cell_type": "code",
   "execution_count": 186,
   "id": "19630852",
   "metadata": {},
   "outputs": [
    {
     "name": "stdout",
     "output_type": "stream",
     "text": [
      "0    445\n",
      "2    205\n",
      "1     49\n",
      "3      3\n",
      "dtype: int64\n"
     ]
    }
   ],
   "source": [
    "#Print count of each cluster\n",
    "print(pd.Series(clusters).value_counts())"
   ]
  },
  {
   "cell_type": "code",
   "execution_count": 187,
   "id": "c971d8a3",
   "metadata": {},
   "outputs": [],
   "source": [
    "#Setting the objects to category \n",
    "cat_data = data2.copy()\n",
    "for i in cat_data.select_dtypes(include='object'):\n",
    "    cat_data[i] = cat_data[i].astype('category')"
   ]
  },
  {
   "cell_type": "code",
   "execution_count": 229,
   "id": "326fd68f",
   "metadata": {},
   "outputs": [],
   "source": [
    "proto_labs = kproto.labels_\n",
    "data2['cluster'] = proto_labs\n",
    "data['cluster'] = proto_labs"
   ]
  },
  {
   "cell_type": "code",
   "execution_count": 234,
   "id": "83c628b4",
   "metadata": {},
   "outputs": [
    {
     "data": {
      "text/html": [
       "<div>\n",
       "<style scoped>\n",
       "    .dataframe tbody tr th:only-of-type {\n",
       "        vertical-align: middle;\n",
       "    }\n",
       "\n",
       "    .dataframe tbody tr th {\n",
       "        vertical-align: top;\n",
       "    }\n",
       "\n",
       "    .dataframe thead th {\n",
       "        text-align: right;\n",
       "    }\n",
       "</style>\n",
       "<table border=\"1\" class=\"dataframe\">\n",
       "  <thead>\n",
       "    <tr style=\"text-align: right;\">\n",
       "      <th></th>\n",
       "      <th>age</th>\n",
       "      <th>gender</th>\n",
       "      <th>race</th>\n",
       "      <th>disability</th>\n",
       "      <th>start_date</th>\n",
       "      <th>start_substance</th>\n",
       "      <th>start_freq</th>\n",
       "      <th>exit_date</th>\n",
       "      <th>exit_substance</th>\n",
       "      <th>exit_freq</th>\n",
       "      <th>...</th>\n",
       "      <th>change_freq</th>\n",
       "      <th>change_freq_relative</th>\n",
       "      <th>change_freq_pctpt</th>\n",
       "      <th>start_year_month</th>\n",
       "      <th>age_group</th>\n",
       "      <th>program_success</th>\n",
       "      <th>enrollment_v_target</th>\n",
       "      <th>change_substance</th>\n",
       "      <th>race_general</th>\n",
       "      <th>cluster</th>\n",
       "    </tr>\n",
       "  </thead>\n",
       "  <tbody>\n",
       "    <tr>\n",
       "      <th>0</th>\n",
       "      <td>63</td>\n",
       "      <td>female</td>\n",
       "      <td>White</td>\n",
       "      <td>Yes</td>\n",
       "      <td>2015-12-20</td>\n",
       "      <td>alcohol</td>\n",
       "      <td>30</td>\n",
       "      <td>2015-12-20</td>\n",
       "      <td>alcohol</td>\n",
       "      <td>20</td>\n",
       "      <td>...</td>\n",
       "      <td>-10</td>\n",
       "      <td>-33.333333</td>\n",
       "      <td>-33.333333</td>\n",
       "      <td>2015-12</td>\n",
       "      <td>51-70</td>\n",
       "      <td>successful</td>\n",
       "      <td>&lt;= 5 days</td>\n",
       "      <td>False</td>\n",
       "      <td>white</td>\n",
       "      <td>0</td>\n",
       "    </tr>\n",
       "    <tr>\n",
       "      <th>1</th>\n",
       "      <td>62</td>\n",
       "      <td>female</td>\n",
       "      <td>White</td>\n",
       "      <td>No</td>\n",
       "      <td>2016-01-20</td>\n",
       "      <td>alcohol</td>\n",
       "      <td>30</td>\n",
       "      <td>2016-01-20</td>\n",
       "      <td>alcohol</td>\n",
       "      <td>29</td>\n",
       "      <td>...</td>\n",
       "      <td>-1</td>\n",
       "      <td>-3.333333</td>\n",
       "      <td>-3.333333</td>\n",
       "      <td>2016-01</td>\n",
       "      <td>51-70</td>\n",
       "      <td>successful</td>\n",
       "      <td>&lt;= 5 days</td>\n",
       "      <td>False</td>\n",
       "      <td>white</td>\n",
       "      <td>0</td>\n",
       "    </tr>\n",
       "    <tr>\n",
       "      <th>2</th>\n",
       "      <td>69</td>\n",
       "      <td>male</td>\n",
       "      <td>White</td>\n",
       "      <td>Yes</td>\n",
       "      <td>2015-09-08</td>\n",
       "      <td>alcohol</td>\n",
       "      <td>30</td>\n",
       "      <td>2015-09-08</td>\n",
       "      <td>alcohol</td>\n",
       "      <td>30</td>\n",
       "      <td>...</td>\n",
       "      <td>0</td>\n",
       "      <td>0.000000</td>\n",
       "      <td>0.000000</td>\n",
       "      <td>2015-09</td>\n",
       "      <td>51-70</td>\n",
       "      <td>not successful</td>\n",
       "      <td>&lt;= 5 days</td>\n",
       "      <td>False</td>\n",
       "      <td>white</td>\n",
       "      <td>0</td>\n",
       "    </tr>\n",
       "    <tr>\n",
       "      <th>3</th>\n",
       "      <td>25</td>\n",
       "      <td>male</td>\n",
       "      <td>African American</td>\n",
       "      <td>No</td>\n",
       "      <td>2016-05-19</td>\n",
       "      <td>alcohol</td>\n",
       "      <td>30</td>\n",
       "      <td>2016-05-19</td>\n",
       "      <td>alcohol</td>\n",
       "      <td>2</td>\n",
       "      <td>...</td>\n",
       "      <td>-28</td>\n",
       "      <td>-93.333333</td>\n",
       "      <td>-93.333333</td>\n",
       "      <td>2016-05</td>\n",
       "      <td>20-30</td>\n",
       "      <td>successful</td>\n",
       "      <td>&lt;= 5 days</td>\n",
       "      <td>False</td>\n",
       "      <td>BIPOC</td>\n",
       "      <td>0</td>\n",
       "    </tr>\n",
       "    <tr>\n",
       "      <th>4</th>\n",
       "      <td>52</td>\n",
       "      <td>male</td>\n",
       "      <td>White</td>\n",
       "      <td>No</td>\n",
       "      <td>2015-08-22</td>\n",
       "      <td>alcohol</td>\n",
       "      <td>1</td>\n",
       "      <td>2015-08-22</td>\n",
       "      <td>alcohol</td>\n",
       "      <td>0</td>\n",
       "      <td>...</td>\n",
       "      <td>-1</td>\n",
       "      <td>-100.000000</td>\n",
       "      <td>-3.333333</td>\n",
       "      <td>2015-08</td>\n",
       "      <td>51-70</td>\n",
       "      <td>successful</td>\n",
       "      <td>&lt;= 5 days</td>\n",
       "      <td>False</td>\n",
       "      <td>white</td>\n",
       "      <td>0</td>\n",
       "    </tr>\n",
       "  </tbody>\n",
       "</table>\n",
       "<p>5 rows × 23 columns</p>\n",
       "</div>"
      ],
      "text/plain": [
       "   age  gender              race disability start_date start_substance  \\\n",
       "0   63  female             White        Yes 2015-12-20         alcohol   \n",
       "1   62  female             White         No 2016-01-20         alcohol   \n",
       "2   69    male             White        Yes 2015-09-08         alcohol   \n",
       "3   25    male  African American         No 2016-05-19         alcohol   \n",
       "4   52    male             White         No 2015-08-22         alcohol   \n",
       "\n",
       "   start_freq  exit_date exit_substance  exit_freq  ...  change_freq  \\\n",
       "0          30 2015-12-20        alcohol         20  ...          -10   \n",
       "1          30 2016-01-20        alcohol         29  ...           -1   \n",
       "2          30 2015-09-08        alcohol         30  ...            0   \n",
       "3          30 2016-05-19        alcohol          2  ...          -28   \n",
       "4           1 2015-08-22        alcohol          0  ...           -1   \n",
       "\n",
       "   change_freq_relative  change_freq_pctpt  start_year_month  age_group  \\\n",
       "0            -33.333333         -33.333333           2015-12      51-70   \n",
       "1             -3.333333          -3.333333           2016-01      51-70   \n",
       "2              0.000000           0.000000           2015-09      51-70   \n",
       "3            -93.333333         -93.333333           2016-05      20-30   \n",
       "4           -100.000000          -3.333333           2015-08      51-70   \n",
       "\n",
       "   program_success enrollment_v_target change_substance race_general cluster  \n",
       "0       successful           <= 5 days            False        white       0  \n",
       "1       successful           <= 5 days            False        white       0  \n",
       "2   not successful           <= 5 days            False        white       0  \n",
       "3       successful           <= 5 days            False        BIPOC       0  \n",
       "4       successful           <= 5 days            False        white       0  \n",
       "\n",
       "[5 rows x 23 columns]"
      ]
     },
     "execution_count": 234,
     "metadata": {},
     "output_type": "execute_result"
    }
   ],
   "source": [
    "data.head()"
   ]
  },
  {
   "cell_type": "code",
   "execution_count": 264,
   "id": "33f8880c",
   "metadata": {},
   "outputs": [
    {
     "data": {
      "text/html": [
       "<div>\n",
       "<style scoped>\n",
       "    .dataframe tbody tr th:only-of-type {\n",
       "        vertical-align: middle;\n",
       "    }\n",
       "\n",
       "    .dataframe tbody tr th {\n",
       "        vertical-align: top;\n",
       "    }\n",
       "\n",
       "    .dataframe thead th {\n",
       "        text-align: right;\n",
       "    }\n",
       "</style>\n",
       "<table border=\"1\" class=\"dataframe\">\n",
       "  <thead>\n",
       "    <tr style=\"text-align: right;\">\n",
       "      <th></th>\n",
       "      <th>age</th>\n",
       "      <th>gender</th>\n",
       "      <th>race</th>\n",
       "      <th>disability</th>\n",
       "      <th>start_date</th>\n",
       "      <th>start_substance</th>\n",
       "      <th>start_freq</th>\n",
       "      <th>exit_date</th>\n",
       "      <th>exit_substance</th>\n",
       "      <th>exit_freq</th>\n",
       "      <th>...</th>\n",
       "      <th>change_freq_pctpt</th>\n",
       "      <th>start_year_month</th>\n",
       "      <th>age_group</th>\n",
       "      <th>program_success</th>\n",
       "      <th>enrollment_v_target</th>\n",
       "      <th>change_substance</th>\n",
       "      <th>race_general</th>\n",
       "      <th>cluster</th>\n",
       "      <th>BIPOC</th>\n",
       "      <th>white</th>\n",
       "    </tr>\n",
       "  </thead>\n",
       "  <tbody>\n",
       "    <tr>\n",
       "      <th>0</th>\n",
       "      <td>63</td>\n",
       "      <td>female</td>\n",
       "      <td>White</td>\n",
       "      <td>Yes</td>\n",
       "      <td>2015-12-20</td>\n",
       "      <td>alcohol</td>\n",
       "      <td>30</td>\n",
       "      <td>2015-12-20</td>\n",
       "      <td>alcohol</td>\n",
       "      <td>20</td>\n",
       "      <td>...</td>\n",
       "      <td>-33.333333</td>\n",
       "      <td>2015-12</td>\n",
       "      <td>51-70</td>\n",
       "      <td>successful</td>\n",
       "      <td>&lt;= 5 days</td>\n",
       "      <td>False</td>\n",
       "      <td>white</td>\n",
       "      <td>0</td>\n",
       "      <td>0</td>\n",
       "      <td>1</td>\n",
       "    </tr>\n",
       "    <tr>\n",
       "      <th>1</th>\n",
       "      <td>62</td>\n",
       "      <td>female</td>\n",
       "      <td>White</td>\n",
       "      <td>No</td>\n",
       "      <td>2016-01-20</td>\n",
       "      <td>alcohol</td>\n",
       "      <td>30</td>\n",
       "      <td>2016-01-20</td>\n",
       "      <td>alcohol</td>\n",
       "      <td>29</td>\n",
       "      <td>...</td>\n",
       "      <td>-3.333333</td>\n",
       "      <td>2016-01</td>\n",
       "      <td>51-70</td>\n",
       "      <td>successful</td>\n",
       "      <td>&lt;= 5 days</td>\n",
       "      <td>False</td>\n",
       "      <td>white</td>\n",
       "      <td>0</td>\n",
       "      <td>0</td>\n",
       "      <td>1</td>\n",
       "    </tr>\n",
       "    <tr>\n",
       "      <th>2</th>\n",
       "      <td>69</td>\n",
       "      <td>male</td>\n",
       "      <td>White</td>\n",
       "      <td>Yes</td>\n",
       "      <td>2015-09-08</td>\n",
       "      <td>alcohol</td>\n",
       "      <td>30</td>\n",
       "      <td>2015-09-08</td>\n",
       "      <td>alcohol</td>\n",
       "      <td>30</td>\n",
       "      <td>...</td>\n",
       "      <td>0.000000</td>\n",
       "      <td>2015-09</td>\n",
       "      <td>51-70</td>\n",
       "      <td>not successful</td>\n",
       "      <td>&lt;= 5 days</td>\n",
       "      <td>False</td>\n",
       "      <td>white</td>\n",
       "      <td>0</td>\n",
       "      <td>0</td>\n",
       "      <td>1</td>\n",
       "    </tr>\n",
       "    <tr>\n",
       "      <th>3</th>\n",
       "      <td>25</td>\n",
       "      <td>male</td>\n",
       "      <td>African American</td>\n",
       "      <td>No</td>\n",
       "      <td>2016-05-19</td>\n",
       "      <td>alcohol</td>\n",
       "      <td>30</td>\n",
       "      <td>2016-05-19</td>\n",
       "      <td>alcohol</td>\n",
       "      <td>2</td>\n",
       "      <td>...</td>\n",
       "      <td>-93.333333</td>\n",
       "      <td>2016-05</td>\n",
       "      <td>20-30</td>\n",
       "      <td>successful</td>\n",
       "      <td>&lt;= 5 days</td>\n",
       "      <td>False</td>\n",
       "      <td>BIPOC</td>\n",
       "      <td>0</td>\n",
       "      <td>1</td>\n",
       "      <td>0</td>\n",
       "    </tr>\n",
       "    <tr>\n",
       "      <th>4</th>\n",
       "      <td>52</td>\n",
       "      <td>male</td>\n",
       "      <td>White</td>\n",
       "      <td>No</td>\n",
       "      <td>2015-08-22</td>\n",
       "      <td>alcohol</td>\n",
       "      <td>1</td>\n",
       "      <td>2015-08-22</td>\n",
       "      <td>alcohol</td>\n",
       "      <td>0</td>\n",
       "      <td>...</td>\n",
       "      <td>-3.333333</td>\n",
       "      <td>2015-08</td>\n",
       "      <td>51-70</td>\n",
       "      <td>successful</td>\n",
       "      <td>&lt;= 5 days</td>\n",
       "      <td>False</td>\n",
       "      <td>white</td>\n",
       "      <td>0</td>\n",
       "      <td>0</td>\n",
       "      <td>1</td>\n",
       "    </tr>\n",
       "  </tbody>\n",
       "</table>\n",
       "<p>5 rows × 25 columns</p>\n",
       "</div>"
      ],
      "text/plain": [
       "   age  gender              race disability start_date start_substance  \\\n",
       "0   63  female             White        Yes 2015-12-20         alcohol   \n",
       "1   62  female             White         No 2016-01-20         alcohol   \n",
       "2   69    male             White        Yes 2015-09-08         alcohol   \n",
       "3   25    male  African American         No 2016-05-19         alcohol   \n",
       "4   52    male             White         No 2015-08-22         alcohol   \n",
       "\n",
       "   start_freq  exit_date exit_substance  exit_freq  ...  change_freq_pctpt  \\\n",
       "0          30 2015-12-20        alcohol         20  ...         -33.333333   \n",
       "1          30 2016-01-20        alcohol         29  ...          -3.333333   \n",
       "2          30 2015-09-08        alcohol         30  ...           0.000000   \n",
       "3          30 2016-05-19        alcohol          2  ...         -93.333333   \n",
       "4           1 2015-08-22        alcohol          0  ...          -3.333333   \n",
       "\n",
       "   start_year_month  age_group  program_success  enrollment_v_target  \\\n",
       "0           2015-12      51-70       successful            <= 5 days   \n",
       "1           2016-01      51-70       successful            <= 5 days   \n",
       "2           2015-09      51-70   not successful            <= 5 days   \n",
       "3           2016-05      20-30       successful            <= 5 days   \n",
       "4           2015-08      51-70       successful            <= 5 days   \n",
       "\n",
       "   change_substance race_general cluster BIPOC white  \n",
       "0             False        white       0     0     1  \n",
       "1             False        white       0     0     1  \n",
       "2             False        white       0     0     1  \n",
       "3             False        BIPOC       0     1     0  \n",
       "4             False        white       0     0     1  \n",
       "\n",
       "[5 rows x 25 columns]"
      ]
     },
     "execution_count": 264,
     "metadata": {},
     "output_type": "execute_result"
    }
   ],
   "source": []
  },
  {
   "cell_type": "code",
   "execution_count": 231,
   "id": "a322d2d5",
   "metadata": {},
   "outputs": [
    {
     "data": {
      "text/plain": [
       "<seaborn.axisgrid.FacetGrid at 0x2547549cfd0>"
      ]
     },
     "execution_count": 231,
     "metadata": {},
     "output_type": "execute_result"
    },
    {
     "data": {
      "image/png": "[encoded data removed]",
      "text/plain": [
       "<Figure size 765.725x360 with 1 Axes>"
      ]
     },
     "metadata": {},
     "output_type": "display_data"
    }
   ],
   "source": [
    "sns.displot(data, x='treatment_days', hue='cluster', kde=True, palette = \"Paired\", height=5, aspect=2)"
   ]
  },
  {
   "cell_type": "code",
   "execution_count": 237,
   "id": "f3c11387",
   "metadata": {},
   "outputs": [
    {
     "data": {
      "text/plain": [
       "<seaborn.axisgrid.FacetGrid at 0x2546b6524e0>"
      ]
     },
     "execution_count": 237,
     "metadata": {},
     "output_type": "execute_result"
    },
    {
     "data": {
      "image/png": "[encoded data removed]",
      "text/plain": [
       "<Figure size 765.725x360 with 1 Axes>"
      ]
     },
     "metadata": {},
     "output_type": "display_data"
    }
   ],
   "source": [
    "sns.displot(data[data['change_freq_relative']<=100], x='change_freq_relative', hue='cluster', kde=True, palette = \"Paired\", height=5, aspect=2, bins=50)"
   ]
  },
  {
   "cell_type": "code",
   "execution_count": 245,
   "id": "060ca56a",
   "metadata": {},
   "outputs": [
    {
     "data": {
      "text/plain": [
       "<AxesSubplot:xlabel='treatment_days', ylabel='change_freq_relative'>"
      ]
     },
     "execution_count": 245,
     "metadata": {},
     "output_type": "execute_result"
    },
    {
     "data": {
      "image/png": "[encoded data removed]",
      "text/plain": [
       "<Figure size 1440x1440 with 1 Axes>"
      ]
     },
     "metadata": {},
     "output_type": "display_data"
    }
   ],
   "source": [
    "sns.scatterplot(data=data[data['change_freq_relative']<=100], x='treatment_days', y='change_freq_relative', hue='cluster', palette = \"Paired\")"
   ]
  },
  {
   "cell_type": "code",
   "execution_count": 254,
   "id": "10a7ede5",
   "metadata": {},
   "outputs": [],
   "source": [
    "data['BIPOC'] = data['race_general'].apply(lambda x: 1 if x=='BIPOC' else 0)\n"
   ]
  },
  {
   "cell_type": "code",
   "execution_count": 263,
   "id": "a3a893da",
   "metadata": {},
   "outputs": [
    {
     "data": {
      "text/html": [
       "<div>\n",
       "<style scoped>\n",
       "    .dataframe tbody tr th:only-of-type {\n",
       "        vertical-align: middle;\n",
       "    }\n",
       "\n",
       "    .dataframe tbody tr th {\n",
       "        vertical-align: top;\n",
       "    }\n",
       "\n",
       "    .dataframe thead th {\n",
       "        text-align: right;\n",
       "    }\n",
       "</style>\n",
       "<table border=\"1\" class=\"dataframe\">\n",
       "  <thead>\n",
       "    <tr style=\"text-align: right;\">\n",
       "      <th></th>\n",
       "      <th>cluster</th>\n",
       "      <th>BIPOC</th>\n",
       "      <th>white</th>\n",
       "    </tr>\n",
       "  </thead>\n",
       "  <tbody>\n",
       "    <tr>\n",
       "      <th>0</th>\n",
       "      <td>0</td>\n",
       "      <td>97</td>\n",
       "      <td>348</td>\n",
       "    </tr>\n",
       "    <tr>\n",
       "      <th>1</th>\n",
       "      <td>1</td>\n",
       "      <td>36</td>\n",
       "      <td>13</td>\n",
       "    </tr>\n",
       "    <tr>\n",
       "      <th>2</th>\n",
       "      <td>2</td>\n",
       "      <td>55</td>\n",
       "      <td>150</td>\n",
       "    </tr>\n",
       "    <tr>\n",
       "      <th>3</th>\n",
       "      <td>3</td>\n",
       "      <td>1</td>\n",
       "      <td>2</td>\n",
       "    </tr>\n",
       "  </tbody>\n",
       "</table>\n",
       "</div>"
      ],
      "text/plain": [
       "   cluster  BIPOC  white\n",
       "0        0     97    348\n",
       "1        1     36     13\n",
       "2        2     55    150\n",
       "3        3      1      2"
      ]
     },
     "execution_count": 263,
     "metadata": {},
     "output_type": "execute_result"
    }
   ],
   "source": [
    "BIPOC_per_k = data.groupby('cluster').sum().reset_index()[['cluster','BIPOC']]\n",
    "white_per_k = data.groupby('cluster').sum().reset_index()[['cluster','white']]\n",
    "k_race_general = pd.merge(BIPOC_per_k, white_per_k, on='cluster')\n",
    "k_race_general['prop_race'] = \n",
    "#.plot.bar()"
   ]
  },
  {
   "cell_type": "code",
   "execution_count": 253,
   "id": "9044e8fb",
   "metadata": {},
   "outputs": [
    {
     "data": {
      "text/plain": [
       "<AxesSubplot:xlabel='cluster'>"
      ]
     },
     "execution_count": 253,
     "metadata": {},
     "output_type": "execute_result"
    },
    {
     "data": {
      "image/png": "[encoded data removed]",
      "text/plain": [
       "<Figure size 1440x1440 with 1 Axes>"
      ]
     },
     "metadata": {},
     "output_type": "display_data"
    }
   ],
   "source": [
    "data['white'] = data['race_general'].apply(lambda x: 1 if x=='white' else 0)\n",
    ".sort_values().plot.bar()"
   ]
  },
  {
   "cell_type": "code",
   "execution_count": null,
   "id": "b969d4d2",
   "metadata": {},
   "outputs": [],
   "source": []
  },
  {
   "cell_type": "code",
   "execution_count": null,
   "id": "a2b5e4b6",
   "metadata": {},
   "outputs": [],
   "source": [
    "proto_labs"
   ]
  },
  {
   "cell_type": "code",
   "execution_count": 189,
   "id": "fcee5f18",
   "metadata": {},
   "outputs": [],
   "source": [
    "from lightgbm import LGBMClassifier"
   ]
  },
  {
   "cell_type": "code",
   "execution_count": 191,
   "id": "34f311fe",
   "metadata": {},
   "outputs": [],
   "source": [
    "from sklearn.model_selection import cross_val_score"
   ]
  },
  {
   "cell_type": "code",
   "execution_count": 192,
   "id": "a4bf97ac",
   "metadata": {},
   "outputs": [
    {
     "name": "stderr",
     "output_type": "stream",
     "text": [
      "C:\\Users\\Carol\\Anaconda3\\lib\\site-packages\\sklearn\\model_selection\\_split.py:680: UserWarning:\n",
      "\n",
      "The least populated class in y has only 3 members, which is less than n_splits=5.\n",
      "\n"
     ]
    },
    {
     "name": "stdout",
     "output_type": "stream",
     "text": [
      "[LightGBM] [Warning] Unknown parameter: colsample_by_tree\n",
      "[LightGBM] [Warning] Unknown parameter: colsample_by_tree\n",
      "[LightGBM] [Warning] Unknown parameter: colsample_by_tree\n",
      "[LightGBM] [Warning] Unknown parameter: colsample_by_tree\n",
      "[LightGBM] [Warning] Unknown parameter: colsample_by_tree\n",
      "CV F1 score for K-Prototypes clusters is 0.987006473055067\n"
     ]
    }
   ],
   "source": [
    "clf_kp = LGBMClassifier(colsample_by_tree=0.8)\n",
    "cv_scores_kp = cross_val_score(clf_kp, cat_data, proto_labs, scoring='f1_weighted')\n",
    "print(f'CV F1 score for K-Prototypes clusters is {np.mean(cv_scores_kp)}')"
   ]
  },
  {
   "cell_type": "code",
   "execution_count": 193,
   "id": "af6a91f8",
   "metadata": {},
   "outputs": [
    {
     "name": "stdout",
     "output_type": "stream",
     "text": [
      "[LightGBM] [Warning] Unknown parameter: colsample_by_tree\n"
     ]
    },
    {
     "data": {
      "text/plain": [
       "LGBMClassifier(colsample_by_tree=0.8)"
      ]
     },
     "execution_count": 193,
     "metadata": {},
     "output_type": "execute_result"
    }
   ],
   "source": [
    "clf_kp.fit(cat_data, proto_labs)"
   ]
  },
  {
   "cell_type": "code",
   "execution_count": 197,
   "id": "f0f7e18e",
   "metadata": {},
   "outputs": [],
   "source": [
    "import shap"
   ]
  },
  {
   "cell_type": "code",
   "execution_count": 198,
   "id": "57af9a53",
   "metadata": {},
   "outputs": [],
   "source": [
    "explainer_kp = shap.TreeExplainer(clf_kp)\n",
    "shap_values_kp = explainer_kp.shap_values(cat_data)"
   ]
  },
  {
   "cell_type": "code",
   "execution_count": 199,
   "id": "4686203c",
   "metadata": {},
   "outputs": [
    {
     "data": {
      "image/png": "[encoded data removed]",
      "text/plain": [
       "<Figure size 1080x720 with 1 Axes>"
      ]
     },
     "metadata": {},
     "output_type": "display_data"
    }
   ],
   "source": [
    "shap.summary_plot(shap_values_kp, cat_data, plot_type=\"bar\", plot_size=(15, 10))\n"
   ]
  },
  {
   "cell_type": "code",
   "execution_count": 200,
   "id": "0d354fe1",
   "metadata": {},
   "outputs": [
    {
     "data": {
      "text/html": [
       "<div>\n",
       "<style scoped>\n",
       "    .dataframe tbody tr th:only-of-type {\n",
       "        vertical-align: middle;\n",
       "    }\n",
       "\n",
       "    .dataframe tbody tr th {\n",
       "        vertical-align: top;\n",
       "    }\n",
       "\n",
       "    .dataframe thead th {\n",
       "        text-align: right;\n",
       "    }\n",
       "</style>\n",
       "<table border=\"1\" class=\"dataframe\">\n",
       "  <thead>\n",
       "    <tr style=\"text-align: right;\">\n",
       "      <th></th>\n",
       "      <th>gender</th>\n",
       "      <th>race</th>\n",
       "      <th>disability</th>\n",
       "      <th>start_substance</th>\n",
       "      <th>treatment_days</th>\n",
       "      <th>change_freq_relative</th>\n",
       "      <th>start_year_month</th>\n",
       "      <th>age_group</th>\n",
       "      <th>program_success</th>\n",
       "      <th>enrollment_v_target</th>\n",
       "      <th>race_general</th>\n",
       "    </tr>\n",
       "  </thead>\n",
       "  <tbody>\n",
       "    <tr>\n",
       "      <th>0</th>\n",
       "      <td>female</td>\n",
       "      <td>White</td>\n",
       "      <td>Yes</td>\n",
       "      <td>alcohol</td>\n",
       "      <td>-0.63549</td>\n",
       "      <td>0.027804</td>\n",
       "      <td>2015-12</td>\n",
       "      <td>51-70</td>\n",
       "      <td>successful</td>\n",
       "      <td>&lt;= 5 days</td>\n",
       "      <td>white</td>\n",
       "    </tr>\n",
       "    <tr>\n",
       "      <th>1</th>\n",
       "      <td>female</td>\n",
       "      <td>White</td>\n",
       "      <td>No</td>\n",
       "      <td>alcohol</td>\n",
       "      <td>-0.63549</td>\n",
       "      <td>0.246362</td>\n",
       "      <td>2016-01</td>\n",
       "      <td>51-70</td>\n",
       "      <td>successful</td>\n",
       "      <td>&lt;= 5 days</td>\n",
       "      <td>white</td>\n",
       "    </tr>\n",
       "    <tr>\n",
       "      <th>2</th>\n",
       "      <td>male</td>\n",
       "      <td>White</td>\n",
       "      <td>Yes</td>\n",
       "      <td>alcohol</td>\n",
       "      <td>-0.63549</td>\n",
       "      <td>0.270647</td>\n",
       "      <td>2015-09</td>\n",
       "      <td>51-70</td>\n",
       "      <td>not successful</td>\n",
       "      <td>&lt;= 5 days</td>\n",
       "      <td>white</td>\n",
       "    </tr>\n",
       "    <tr>\n",
       "      <th>3</th>\n",
       "      <td>male</td>\n",
       "      <td>African American</td>\n",
       "      <td>No</td>\n",
       "      <td>alcohol</td>\n",
       "      <td>-0.63549</td>\n",
       "      <td>-0.409313</td>\n",
       "      <td>2016-05</td>\n",
       "      <td>20-30</td>\n",
       "      <td>successful</td>\n",
       "      <td>&lt;= 5 days</td>\n",
       "      <td>BIPOC</td>\n",
       "    </tr>\n",
       "    <tr>\n",
       "      <th>4</th>\n",
       "      <td>male</td>\n",
       "      <td>White</td>\n",
       "      <td>No</td>\n",
       "      <td>alcohol</td>\n",
       "      <td>-0.63549</td>\n",
       "      <td>-0.457881</td>\n",
       "      <td>2015-08</td>\n",
       "      <td>51-70</td>\n",
       "      <td>successful</td>\n",
       "      <td>&lt;= 5 days</td>\n",
       "      <td>white</td>\n",
       "    </tr>\n",
       "  </tbody>\n",
       "</table>\n",
       "</div>"
      ],
      "text/plain": [
       "   gender              race disability start_substance  treatment_days  \\\n",
       "0  female             White        Yes         alcohol        -0.63549   \n",
       "1  female             White         No         alcohol        -0.63549   \n",
       "2    male             White        Yes         alcohol        -0.63549   \n",
       "3    male  African American         No         alcohol        -0.63549   \n",
       "4    male             White         No         alcohol        -0.63549   \n",
       "\n",
       "   change_freq_relative start_year_month age_group program_success  \\\n",
       "0              0.027804          2015-12     51-70      successful   \n",
       "1              0.246362          2016-01     51-70      successful   \n",
       "2              0.270647          2015-09     51-70  not successful   \n",
       "3             -0.409313          2016-05     20-30      successful   \n",
       "4             -0.457881          2015-08     51-70      successful   \n",
       "\n",
       "  enrollment_v_target race_general  \n",
       "0           <= 5 days        white  \n",
       "1           <= 5 days        white  \n",
       "2           <= 5 days        white  \n",
       "3           <= 5 days        BIPOC  \n",
       "4           <= 5 days        white  "
      ]
     },
     "execution_count": 200,
     "metadata": {},
     "output_type": "execute_result"
    }
   ],
   "source": [
    "data2.head()"
   ]
  },
  {
   "cell_type": "code",
   "execution_count": null,
   "id": "1595bbc0",
   "metadata": {},
   "outputs": [],
   "source": []
  },
  {
   "cell_type": "code",
   "execution_count": 266,
   "id": "778d97b8",
   "metadata": {},
   "outputs": [
    {
     "data": {
      "image/png": "[encoded data removed]",
      "text/plain": [
       "<Figure size 432x360 with 1 Axes>"
      ]
     },
     "metadata": {},
     "output_type": "display_data"
    },
    {
     "data": {
      "image/png": "[encoded data removed]",
      "text/plain": [
       "<Figure size 432x360 with 1 Axes>"
      ]
     },
     "metadata": {},
     "output_type": "display_data"
    },
    {
     "data": {
      "image/png": "[encoded data removed]",
      "text/plain": [
       "<Figure size 432x360 with 1 Axes>"
      ]
     },
     "metadata": {},
     "output_type": "display_data"
    },
    {
     "data": {
      "image/png": "[encoded data removed]",
      "text/plain": [
       "<Figure size 432x360 with 1 Axes>"
      ]
     },
     "metadata": {},
     "output_type": "display_data"
    },
    {
     "data": {
      "image/png": "[encoded data removed]",
      "text/plain": [
       "<Figure size 432x360 with 1 Axes>"
      ]
     },
     "metadata": {},
     "output_type": "display_data"
    },
    {
     "data": {
      "image/png": "[encoded data removed]",
      "text/plain": [
       "<Figure size 432x360 with 1 Axes>"
      ]
     },
     "metadata": {},
     "output_type": "display_data"
    },
    {
     "data": {
      "image/png": "[encoded data removed]",
      "text/plain": [
       "<Figure size 432x360 with 1 Axes>"
      ]
     },
     "metadata": {},
     "output_type": "display_data"
    },
    {
     "data": {
      "image/png": "[encoded data removed]",
      "text/plain": [
       "<Figure size 432x360 with 1 Axes>"
      ]
     },
     "metadata": {},
     "output_type": "display_data"
    },
    {
     "data": {
      "image/png": "[encoded data removed]",
      "text/plain": [
       "<Figure size 432x360 with 1 Axes>"
      ]
     },
     "metadata": {},
     "output_type": "display_data"
    },
    {
     "data": {
      "image/png": "[encoded data removed]",
      "text/plain": [
       "<Figure size 432x360 with 1 Axes>"
      ]
     },
     "metadata": {},
     "output_type": "display_data"
    },
    {
     "data": {
      "image/png": "[encoded data removed]",
      "text/plain": [
       "<Figure size 432x360 with 1 Axes>"
      ]
     },
     "metadata": {},
     "output_type": "display_data"
    },
    {
     "data": {
      "image/png": "[encoded data removed]",
      "text/plain": [
       "<Figure size 432x360 with 1 Axes>"
      ]
     },
     "metadata": {},
     "output_type": "display_data"
    },
    {
     "data": {
      "image/png": "[encoded data removed]",
      "text/plain": [
       "<Figure size 432x360 with 1 Axes>"
      ]
     },
     "metadata": {},
     "output_type": "display_data"
    }
   ],
   "source": [
    "X = list(i for i in data._get_numeric_data().columns)\n",
    "Y = list(i for i in data.columns if i not in X)\n",
    "\n",
    "for i in Y:\n",
    "    plt.figure(figsize=(6,5))\n",
    "    sns.countplot(x=i, hue='enrollment_v_target', data=data)"
   ]
  },
  {
   "cell_type": "code",
   "execution_count": null,
   "id": "068e6c5a",
   "metadata": {},
   "outputs": [],
   "source": []
  },
  {
   "cell_type": "code",
   "execution_count": null,
   "id": "cc3c642d",
   "metadata": {},
   "outputs": [],
   "source": []
  }
 ],
 "metadata": {
  "kernelspec": {
   "display_name": "Python 3",
   "language": "python",
   "name": "python3"
  },
  "language_info": {
   "codemirror_mode": {
    "name": "ipython",
    "version": 3
   },
   "file_extension": ".py",
   "mimetype": "text/x-python",
   "name": "python",
   "nbconvert_exporter": "python",
   "pygments_lexer": "ipython3",
   "version": "3.7.3"
  }
 },
 "nbformat": 4,
 "nbformat_minor": 5
}
